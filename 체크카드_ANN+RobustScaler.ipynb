{
 "cells": [
  {
   "cell_type": "markdown",
   "id": "8f263974",
   "metadata": {},
   "source": [
    "# 체크카드_ANN+RobustScaler"
   ]
  },
  {
   "cell_type": "code",
   "execution_count": 1,
   "id": "a577f4e8",
   "metadata": {
    "ExecuteTime": {
     "end_time": "2023-04-22T12:48:48.732882Z",
     "start_time": "2023-04-22T12:46:22.842296Z"
    }
   },
   "outputs": [],
   "source": [
    "import pandas as pd\n",
    "from sklearn.model_selection import train_test_split\n",
    "from tensorflow.keras.models import Sequential\n",
    "from tensorflow.keras.layers import Dense\n",
    "\n",
    "# 데이터 불러오기\n",
    "data = pd.read_excel('bank_pre.xlsx')"
   ]
  },
  {
   "cell_type": "code",
   "execution_count": 2,
   "id": "dc1cf42b",
   "metadata": {
    "ExecuteTime": {
     "end_time": "2023-04-22T12:48:49.015212Z",
     "start_time": "2023-04-22T12:48:48.951384Z"
    }
   },
   "outputs": [
    {
     "name": "stdout",
     "output_type": "stream",
     "text": [
      "<class 'pandas.core.frame.DataFrame'>\n",
      "RangeIndex: 300000 entries, 0 to 299999\n",
      "Data columns (total 12 columns):\n",
      " #   Column         Non-Null Count   Dtype  \n",
      "---  ------         --------------   -----  \n",
      " 0   해외 거주 여부       300000 non-null  int64  \n",
      " 1   성별             300000 non-null  int64  \n",
      " 2   나이             300000 non-null  int64  \n",
      " 3   신규 고객(6개월 이내)  300000 non-null  int64  \n",
      " 4   거래 누적 기간(월)    300000 non-null  int64  \n",
      " 5   지역 코드          300000 non-null  int64  \n",
      " 6   고객 활성화 상태      300000 non-null  int64  \n",
      " 7   가구 소득          300000 non-null  float64\n",
      " 8   고객 구분          300000 non-null  int64  \n",
      " 9   특별계좌           300000 non-null  int64  \n",
      " 10  온라인 계좌         300000 non-null  int64  \n",
      " 11  체크카드           300000 non-null  int64  \n",
      "dtypes: float64(1), int64(11)\n",
      "memory usage: 27.5 MB\n"
     ]
    }
   ],
   "source": [
    "# 데이터 형태와 결측치 확인\n",
    "data.info()"
   ]
  },
  {
   "cell_type": "code",
   "execution_count": 3,
   "id": "e562bb52",
   "metadata": {
    "ExecuteTime": {
     "end_time": "2023-04-22T12:48:49.123922Z",
     "start_time": "2023-04-22T12:48:49.085048Z"
    }
   },
   "outputs": [],
   "source": [
    "# 입력 변수와 출력 변수 분리\n",
    "X = data.drop(columns=['특별계좌', '온라인 계좌', '체크카드'])\n",
    "y = data[['체크카드']]"
   ]
  },
  {
   "cell_type": "code",
   "execution_count": 4,
   "id": "688121b1",
   "metadata": {
    "ExecuteTime": {
     "end_time": "2023-04-22T12:48:49.400420Z",
     "start_time": "2023-04-22T12:48:49.190357Z"
    }
   },
   "outputs": [],
   "source": [
    "# 데이터를 훈련용과 검증용으로 분리\n",
    "X_train, X_test, y_train, y_test = train_test_split(X, y, test_size=0.2, random_state=1)"
   ]
  },
  {
   "cell_type": "code",
   "execution_count": 5,
   "id": "4a96efd1",
   "metadata": {
    "ExecuteTime": {
     "end_time": "2023-04-22T12:48:49.770656Z",
     "start_time": "2023-04-22T12:48:49.471349Z"
    }
   },
   "outputs": [],
   "source": [
    "from sklearn.preprocessing import RobustScaler\n",
    "\n",
    "# 스케일링\n",
    "scaler = RobustScaler()\n",
    "X_train_scaled = scaler.fit_transform(X_train)\n",
    "X_test_scaled = scaler.transform(X_test)\n"
   ]
  },
  {
   "cell_type": "code",
   "execution_count": 6,
   "id": "8dfa10a9",
   "metadata": {
    "ExecuteTime": {
     "end_time": "2023-04-22T12:48:50.345453Z",
     "start_time": "2023-04-22T12:48:49.885115Z"
    }
   },
   "outputs": [],
   "source": [
    "# 모델 설계\n",
    "from tensorflow.keras.models import Sequential\n",
    "model = Sequential()\n",
    "\n",
    "model.add(Dense(64, input_dim=X_train_scaled.shape[1], activation='relu'))\n",
    "model.add(Dense(32, activation='relu'))\n",
    "model.add(Dense(32, activation='relu'))\n",
    "model.add(Dense(1, activation='sigmoid'))"
   ]
  },
  {
   "cell_type": "code",
   "execution_count": 7,
   "id": "73ad0fce",
   "metadata": {
    "ExecuteTime": {
     "end_time": "2023-04-22T13:07:59.788082Z",
     "start_time": "2023-04-22T12:48:50.421959Z"
    },
    "scrolled": false
   },
   "outputs": [
    {
     "name": "stdout",
     "output_type": "stream",
     "text": [
      "Epoch 1/100\n",
      "3750/3750 [==============================] - 18s 4ms/step - loss: 0.3279 - accuracy: 0.8717 - val_loss: 0.3258 - val_accuracy: 0.8741\n",
      "Epoch 2/100\n",
      "3750/3750 [==============================] - 18s 5ms/step - loss: 0.3144 - accuracy: 0.8780 - val_loss: 0.3113 - val_accuracy: 0.8781\n",
      "Epoch 3/100\n",
      "3750/3750 [==============================] - 16s 4ms/step - loss: 0.3113 - accuracy: 0.8791 - val_loss: 0.3094 - val_accuracy: 0.8784\n",
      "Epoch 4/100\n",
      "3750/3750 [==============================] - 16s 4ms/step - loss: 0.3093 - accuracy: 0.8798 - val_loss: 0.3072 - val_accuracy: 0.8795\n",
      "Epoch 5/100\n",
      "3750/3750 [==============================] - 15s 4ms/step - loss: 0.3079 - accuracy: 0.8799 - val_loss: 0.3056 - val_accuracy: 0.8794\n",
      "Epoch 6/100\n",
      "3750/3750 [==============================] - 16s 4ms/step - loss: 0.3071 - accuracy: 0.8803 - val_loss: 0.3050 - val_accuracy: 0.8799\n",
      "Epoch 7/100\n",
      "3750/3750 [==============================] - 16s 4ms/step - loss: 0.3065 - accuracy: 0.8804 - val_loss: 0.3042 - val_accuracy: 0.8794\n",
      "Epoch 8/100\n",
      "3750/3750 [==============================] - 21s 6ms/step - loss: 0.3057 - accuracy: 0.8803 - val_loss: 0.3053 - val_accuracy: 0.8796\n",
      "Epoch 9/100\n",
      "3750/3750 [==============================] - 16s 4ms/step - loss: 0.3052 - accuracy: 0.8807 - val_loss: 0.3034 - val_accuracy: 0.8798\n",
      "Epoch 10/100\n",
      "3750/3750 [==============================] - 16s 4ms/step - loss: 0.3049 - accuracy: 0.8806 - val_loss: 0.3053 - val_accuracy: 0.8801\n",
      "Epoch 11/100\n",
      "3750/3750 [==============================] - 14s 4ms/step - loss: 0.3046 - accuracy: 0.8805 - val_loss: 0.3048 - val_accuracy: 0.8789\n",
      "Epoch 12/100\n",
      "3750/3750 [==============================] - 16s 4ms/step - loss: 0.3045 - accuracy: 0.8808 - val_loss: 0.3042 - val_accuracy: 0.8799\n",
      "Epoch 13/100\n",
      "3750/3750 [==============================] - 19s 5ms/step - loss: 0.3040 - accuracy: 0.8808 - val_loss: 0.3039 - val_accuracy: 0.8794\n",
      "Epoch 14/100\n",
      "3750/3750 [==============================] - 19s 5ms/step - loss: 0.3037 - accuracy: 0.8808 - val_loss: 0.3009 - val_accuracy: 0.8798\n",
      "Epoch 15/100\n",
      "3750/3750 [==============================] - 14s 4ms/step - loss: 0.3034 - accuracy: 0.8808 - val_loss: 0.3019 - val_accuracy: 0.8799\n",
      "Epoch 16/100\n",
      "3750/3750 [==============================] - 20s 5ms/step - loss: 0.3030 - accuracy: 0.8808 - val_loss: 0.3021 - val_accuracy: 0.8802\n",
      "Epoch 17/100\n",
      "3750/3750 [==============================] - 20s 5ms/step - loss: 0.3026 - accuracy: 0.8809 - val_loss: 0.3019 - val_accuracy: 0.8795\n",
      "Epoch 18/100\n",
      "3750/3750 [==============================] - 14s 4ms/step - loss: 0.3026 - accuracy: 0.8809 - val_loss: 0.3003 - val_accuracy: 0.8801\n",
      "Epoch 19/100\n",
      "3750/3750 [==============================] - 14s 4ms/step - loss: 0.3023 - accuracy: 0.8811 - val_loss: 0.3007 - val_accuracy: 0.8803\n",
      "Epoch 20/100\n",
      "3750/3750 [==============================] - 15s 4ms/step - loss: 0.3019 - accuracy: 0.8810 - val_loss: 0.3016 - val_accuracy: 0.8803\n",
      "Epoch 21/100\n",
      "3750/3750 [==============================] - 17s 4ms/step - loss: 0.3017 - accuracy: 0.8810 - val_loss: 0.3006 - val_accuracy: 0.8802\n",
      "Epoch 22/100\n",
      "3750/3750 [==============================] - 18s 5ms/step - loss: 0.3015 - accuracy: 0.8811 - val_loss: 0.3021 - val_accuracy: 0.8797\n",
      "Epoch 23/100\n",
      "3750/3750 [==============================] - 15s 4ms/step - loss: 0.3013 - accuracy: 0.8811 - val_loss: 0.2999 - val_accuracy: 0.8799\n",
      "Epoch 24/100\n",
      "3750/3750 [==============================] - 16s 4ms/step - loss: 0.3010 - accuracy: 0.8812 - val_loss: 0.3002 - val_accuracy: 0.8799\n",
      "Epoch 25/100\n",
      "3750/3750 [==============================] - 16s 4ms/step - loss: 0.3008 - accuracy: 0.8811 - val_loss: 0.3007 - val_accuracy: 0.8807\n",
      "Epoch 26/100\n",
      "3750/3750 [==============================] - 18s 5ms/step - loss: 0.3006 - accuracy: 0.8811 - val_loss: 0.3008 - val_accuracy: 0.8791\n",
      "Epoch 27/100\n",
      "3750/3750 [==============================] - 16s 4ms/step - loss: 0.3004 - accuracy: 0.8813 - val_loss: 0.3004 - val_accuracy: 0.8801\n",
      "Epoch 28/100\n",
      "3750/3750 [==============================] - 19s 5ms/step - loss: 0.3002 - accuracy: 0.8812 - val_loss: 0.3006 - val_accuracy: 0.8803\n",
      "Epoch 29/100\n",
      "3750/3750 [==============================] - 14s 4ms/step - loss: 0.3000 - accuracy: 0.8814 - val_loss: 0.3010 - val_accuracy: 0.8798\n",
      "Epoch 30/100\n",
      "3750/3750 [==============================] - 13s 4ms/step - loss: 0.2997 - accuracy: 0.8813 - val_loss: 0.3004 - val_accuracy: 0.8803\n",
      "Epoch 31/100\n",
      "3750/3750 [==============================] - 14s 4ms/step - loss: 0.2993 - accuracy: 0.8814 - val_loss: 0.2996 - val_accuracy: 0.8802\n",
      "Epoch 32/100\n",
      "3750/3750 [==============================] - 13s 3ms/step - loss: 0.2994 - accuracy: 0.8813 - val_loss: 0.3002 - val_accuracy: 0.8802\n",
      "Epoch 33/100\n",
      "3750/3750 [==============================] - 15s 4ms/step - loss: 0.2991 - accuracy: 0.8816 - val_loss: 0.2997 - val_accuracy: 0.8802\n",
      "Epoch 34/100\n",
      "3750/3750 [==============================] - 15s 4ms/step - loss: 0.2990 - accuracy: 0.8815 - val_loss: 0.3009 - val_accuracy: 0.8803\n",
      "Epoch 35/100\n",
      "3750/3750 [==============================] - 14s 4ms/step - loss: 0.2988 - accuracy: 0.8817 - val_loss: 0.2992 - val_accuracy: 0.8805\n",
      "Epoch 36/100\n",
      "3750/3750 [==============================] - 13s 4ms/step - loss: 0.2985 - accuracy: 0.8817 - val_loss: 0.2992 - val_accuracy: 0.8808\n",
      "Epoch 37/100\n",
      "3750/3750 [==============================] - 14s 4ms/step - loss: 0.2985 - accuracy: 0.8817 - val_loss: 0.2990 - val_accuracy: 0.8803\n",
      "Epoch 38/100\n",
      "3750/3750 [==============================] - 13s 4ms/step - loss: 0.2984 - accuracy: 0.8817 - val_loss: 0.2987 - val_accuracy: 0.8803\n",
      "Epoch 39/100\n",
      "3750/3750 [==============================] - 13s 3ms/step - loss: 0.2980 - accuracy: 0.8818 - val_loss: 0.2983 - val_accuracy: 0.8807\n",
      "Epoch 40/100\n",
      "3750/3750 [==============================] - 13s 4ms/step - loss: 0.2978 - accuracy: 0.8816 - val_loss: 0.2983 - val_accuracy: 0.8805\n",
      "Epoch 41/100\n",
      "3750/3750 [==============================] - 15s 4ms/step - loss: 0.2976 - accuracy: 0.8819 - val_loss: 0.2989 - val_accuracy: 0.8806\n",
      "Epoch 42/100\n",
      "3750/3750 [==============================] - 14s 4ms/step - loss: 0.2974 - accuracy: 0.8818 - val_loss: 0.2985 - val_accuracy: 0.8809\n",
      "Epoch 43/100\n",
      "3750/3750 [==============================] - 16s 4ms/step - loss: 0.2973 - accuracy: 0.8821 - val_loss: 0.2982 - val_accuracy: 0.8805\n",
      "Epoch 44/100\n",
      "3750/3750 [==============================] - 14s 4ms/step - loss: 0.2974 - accuracy: 0.8820 - val_loss: 0.2980 - val_accuracy: 0.8800\n",
      "Epoch 45/100\n",
      "3750/3750 [==============================] - 16s 4ms/step - loss: 0.2971 - accuracy: 0.8819 - val_loss: 0.2976 - val_accuracy: 0.8804\n",
      "Epoch 46/100\n",
      "3750/3750 [==============================] - 17s 4ms/step - loss: 0.2970 - accuracy: 0.8820 - val_loss: 0.2985 - val_accuracy: 0.8806\n",
      "Epoch 47/100\n",
      "3750/3750 [==============================] - 15s 4ms/step - loss: 0.2966 - accuracy: 0.8818 - val_loss: 0.3002 - val_accuracy: 0.8803\n",
      "Epoch 48/100\n",
      "3750/3750 [==============================] - 13s 3ms/step - loss: 0.2964 - accuracy: 0.8820 - val_loss: 0.2982 - val_accuracy: 0.8804\n",
      "Epoch 49/100\n",
      "3750/3750 [==============================] - 13s 3ms/step - loss: 0.2965 - accuracy: 0.8817 - val_loss: 0.2975 - val_accuracy: 0.8805\n",
      "Epoch 50/100\n",
      "3750/3750 [==============================] - 14s 4ms/step - loss: 0.2965 - accuracy: 0.8819 - val_loss: 0.2993 - val_accuracy: 0.8800\n",
      "Epoch 51/100\n",
      "3750/3750 [==============================] - 14s 4ms/step - loss: 0.2960 - accuracy: 0.8820 - val_loss: 0.2989 - val_accuracy: 0.8799\n",
      "Epoch 52/100\n",
      "3750/3750 [==============================] - 13s 3ms/step - loss: 0.2958 - accuracy: 0.8820 - val_loss: 0.2976 - val_accuracy: 0.8803\n",
      "Epoch 53/100\n",
      "3750/3750 [==============================] - 13s 3ms/step - loss: 0.2958 - accuracy: 0.8821 - val_loss: 0.2986 - val_accuracy: 0.8805\n",
      "Epoch 54/100\n",
      "3750/3750 [==============================] - 13s 4ms/step - loss: 0.2957 - accuracy: 0.8821 - val_loss: 0.2981 - val_accuracy: 0.8801\n",
      "Epoch 55/100\n",
      "3750/3750 [==============================] - 12s 3ms/step - loss: 0.2955 - accuracy: 0.8818 - val_loss: 0.2979 - val_accuracy: 0.8804\n",
      "Epoch 56/100\n",
      "3750/3750 [==============================] - 11s 3ms/step - loss: 0.2954 - accuracy: 0.8821 - val_loss: 0.2984 - val_accuracy: 0.8807\n"
     ]
    },
    {
     "name": "stdout",
     "output_type": "stream",
     "text": [
      "Epoch 57/100\n",
      "3750/3750 [==============================] - 11s 3ms/step - loss: 0.2950 - accuracy: 0.8824 - val_loss: 0.2971 - val_accuracy: 0.8808\n",
      "Epoch 58/100\n",
      "3750/3750 [==============================] - 10s 3ms/step - loss: 0.2951 - accuracy: 0.8821 - val_loss: 0.2973 - val_accuracy: 0.8806\n",
      "Epoch 59/100\n",
      "3750/3750 [==============================] - 13s 3ms/step - loss: 0.2949 - accuracy: 0.8821 - val_loss: 0.2982 - val_accuracy: 0.8800\n",
      "Epoch 60/100\n",
      "3750/3750 [==============================] - 11s 3ms/step - loss: 0.2946 - accuracy: 0.8822 - val_loss: 0.2977 - val_accuracy: 0.8801\n",
      "Epoch 61/100\n",
      "3750/3750 [==============================] - 10s 3ms/step - loss: 0.2947 - accuracy: 0.8824 - val_loss: 0.2967 - val_accuracy: 0.8809\n",
      "Epoch 62/100\n",
      "3750/3750 [==============================] - 11s 3ms/step - loss: 0.2944 - accuracy: 0.8823 - val_loss: 0.2993 - val_accuracy: 0.8808\n",
      "Epoch 63/100\n",
      "3750/3750 [==============================] - 11s 3ms/step - loss: 0.2944 - accuracy: 0.8822 - val_loss: 0.2977 - val_accuracy: 0.8804\n",
      "Epoch 64/100\n",
      "3750/3750 [==============================] - 11s 3ms/step - loss: 0.2944 - accuracy: 0.8822 - val_loss: 0.2971 - val_accuracy: 0.8810\n",
      "Epoch 65/100\n",
      "3750/3750 [==============================] - 10s 3ms/step - loss: 0.2939 - accuracy: 0.8825 - val_loss: 0.2975 - val_accuracy: 0.8801\n",
      "Epoch 66/100\n",
      "3750/3750 [==============================] - 9s 3ms/step - loss: 0.2941 - accuracy: 0.8823 - val_loss: 0.2977 - val_accuracy: 0.8807\n",
      "Epoch 67/100\n",
      "3750/3750 [==============================] - 9s 2ms/step - loss: 0.2940 - accuracy: 0.8825 - val_loss: 0.2979 - val_accuracy: 0.8804\n",
      "Epoch 68/100\n",
      "3750/3750 [==============================] - 9s 2ms/step - loss: 0.2938 - accuracy: 0.8824 - val_loss: 0.2977 - val_accuracy: 0.8807\n",
      "Epoch 69/100\n",
      "3750/3750 [==============================] - 9s 2ms/step - loss: 0.2936 - accuracy: 0.8824 - val_loss: 0.2970 - val_accuracy: 0.8810\n",
      "Epoch 70/100\n",
      "3750/3750 [==============================] - 7s 2ms/step - loss: 0.2935 - accuracy: 0.8826 - val_loss: 0.2966 - val_accuracy: 0.8806\n",
      "Epoch 71/100\n",
      "3750/3750 [==============================] - 7s 2ms/step - loss: 0.2933 - accuracy: 0.8825 - val_loss: 0.2963 - val_accuracy: 0.8801\n",
      "Epoch 72/100\n",
      "3750/3750 [==============================] - 7s 2ms/step - loss: 0.2934 - accuracy: 0.8826 - val_loss: 0.2976 - val_accuracy: 0.8801\n",
      "Epoch 73/100\n",
      "3750/3750 [==============================] - 8s 2ms/step - loss: 0.2931 - accuracy: 0.8825 - val_loss: 0.2953 - val_accuracy: 0.8809\n",
      "Epoch 74/100\n",
      "3750/3750 [==============================] - 7s 2ms/step - loss: 0.2931 - accuracy: 0.8828 - val_loss: 0.2964 - val_accuracy: 0.8810\n",
      "Epoch 75/100\n",
      "3750/3750 [==============================] - 7s 2ms/step - loss: 0.2927 - accuracy: 0.8824 - val_loss: 0.2970 - val_accuracy: 0.8807\n",
      "Epoch 76/100\n",
      "3750/3750 [==============================] - 7s 2ms/step - loss: 0.2930 - accuracy: 0.8826 - val_loss: 0.2970 - val_accuracy: 0.8804\n",
      "Epoch 77/100\n",
      "3750/3750 [==============================] - 7s 2ms/step - loss: 0.2927 - accuracy: 0.8826 - val_loss: 0.2956 - val_accuracy: 0.8806\n",
      "Epoch 78/100\n",
      "3750/3750 [==============================] - 7s 2ms/step - loss: 0.2927 - accuracy: 0.8827 - val_loss: 0.2976 - val_accuracy: 0.8804\n",
      "Epoch 79/100\n",
      "3750/3750 [==============================] - 7s 2ms/step - loss: 0.2923 - accuracy: 0.8828 - val_loss: 0.2975 - val_accuracy: 0.8804\n",
      "Epoch 80/100\n",
      "3750/3750 [==============================] - 7s 2ms/step - loss: 0.2922 - accuracy: 0.8827 - val_loss: 0.2963 - val_accuracy: 0.8806\n",
      "Epoch 81/100\n",
      "3750/3750 [==============================] - 7s 2ms/step - loss: 0.2924 - accuracy: 0.8828 - val_loss: 0.2948 - val_accuracy: 0.8808\n",
      "Epoch 82/100\n",
      "3750/3750 [==============================] - 7s 2ms/step - loss: 0.2921 - accuracy: 0.8825 - val_loss: 0.2975 - val_accuracy: 0.8798\n",
      "Epoch 83/100\n",
      "3750/3750 [==============================] - 7s 2ms/step - loss: 0.2920 - accuracy: 0.8827 - val_loss: 0.2979 - val_accuracy: 0.8805\n",
      "Epoch 84/100\n",
      "3750/3750 [==============================] - 7s 2ms/step - loss: 0.2921 - accuracy: 0.8827 - val_loss: 0.2955 - val_accuracy: 0.8803\n",
      "Epoch 85/100\n",
      "3750/3750 [==============================] - 7s 2ms/step - loss: 0.2919 - accuracy: 0.8828 - val_loss: 0.2963 - val_accuracy: 0.8802\n",
      "Epoch 86/100\n",
      "3750/3750 [==============================] - 7s 2ms/step - loss: 0.2916 - accuracy: 0.8827 - val_loss: 0.2958 - val_accuracy: 0.8807\n",
      "Epoch 87/100\n",
      "3750/3750 [==============================] - 7s 2ms/step - loss: 0.2916 - accuracy: 0.8829 - val_loss: 0.2964 - val_accuracy: 0.8803\n",
      "Epoch 88/100\n",
      "3750/3750 [==============================] - 7s 2ms/step - loss: 0.2913 - accuracy: 0.8826 - val_loss: 0.2966 - val_accuracy: 0.8807\n",
      "Epoch 89/100\n",
      "3750/3750 [==============================] - 7s 2ms/step - loss: 0.2911 - accuracy: 0.8829 - val_loss: 0.2955 - val_accuracy: 0.8804\n",
      "Epoch 90/100\n",
      "3750/3750 [==============================] - 7s 2ms/step - loss: 0.2914 - accuracy: 0.8828 - val_loss: 0.2960 - val_accuracy: 0.8810\n",
      "Epoch 91/100\n",
      "3750/3750 [==============================] - 7s 2ms/step - loss: 0.2910 - accuracy: 0.8830 - val_loss: 0.2951 - val_accuracy: 0.8807\n"
     ]
    }
   ],
   "source": [
    "from keras.callbacks import EarlyStopping\n",
    "\n",
    "# EarlyStopping 콜백 정의\n",
    "early_stopping = EarlyStopping(monitor='val_loss', patience=10, restore_best_weights=True)\n",
    "\n",
    "# 모델 컴파일\n",
    "model.compile(optimizer='adam', loss='binary_crossentropy', metrics=['accuracy'])\n",
    "\n",
    "# 모델 학습\n",
    "history = model.fit(X_train_scaled, y_train, validation_data=(X_test_scaled, y_test), epochs=100, batch_size=64, callbacks=[early_stopping])\n"
   ]
  },
  {
   "cell_type": "code",
   "execution_count": 8,
   "id": "b1d14b1d",
   "metadata": {
    "ExecuteTime": {
     "end_time": "2023-04-22T13:08:02.685334Z",
     "start_time": "2023-04-22T13:07:59.836075Z"
    }
   },
   "outputs": [
    {
     "name": "stdout",
     "output_type": "stream",
     "text": [
      "1875/1875 [==============================] - 3s 1ms/step - loss: 0.2948 - accuracy: 0.8808\n",
      "Test accuracy: 0.8808000087738037\n"
     ]
    }
   ],
   "source": [
    "loss, accuracy = model.evaluate(X_test_scaled, y_test)\n",
    "print('Test accuracy:', accuracy)"
   ]
  },
  {
   "cell_type": "code",
   "execution_count": 10,
   "id": "7e75042b",
   "metadata": {
    "ExecuteTime": {
     "end_time": "2023-04-22T13:48:14.568420Z",
     "start_time": "2023-04-22T13:48:14.549467Z"
    }
   },
   "outputs": [
    {
     "name": "stdout",
     "output_type": "stream",
     "text": [
      "Test loss:  0.29477450251579285\n"
     ]
    }
   ],
   "source": [
    "print('Test loss: ', loss)"
   ]
  },
  {
   "cell_type": "code",
   "execution_count": 9,
   "id": "2924d728",
   "metadata": {
    "ExecuteTime": {
     "end_time": "2023-04-22T13:08:03.895804Z",
     "start_time": "2023-04-22T13:08:02.734876Z"
    }
   },
   "outputs": [
    {
     "data": {
      "image/png": "[encoded data removed]",
      "text/plain": [
       "<Figure size 432x288 with 1 Axes>"
      ]
     },
     "metadata": {
      "needs_background": "light"
     },
     "output_type": "display_data"
    },
    {
     "data": {
      "image/png": "[encoded data removed]",
      "text/plain": [
       "<Figure size 432x288 with 1 Axes>"
      ]
     },
     "metadata": {
      "needs_background": "light"
     },
     "output_type": "display_data"
    }
   ],
   "source": [
    "import matplotlib.pyplot as plt\n",
    "# history 객체에서 손실값과 정확도를 추출합니다.\n",
    "train_loss = history.history['loss']\n",
    "val_loss = history.history['val_loss']\n",
    "train_acc = history.history['accuracy']\n",
    "val_acc = history.history['val_accuracy']\n",
    "\n",
    "# 손실값 그래프\n",
    "plt.plot(train_loss, label='train_loss')\n",
    "plt.plot(val_loss, label='val_loss')\n",
    "plt.legend()\n",
    "plt.title('Loss')\n",
    "plt.show()\n",
    "\n",
    "# 정확도 그래프\n",
    "plt.plot(train_acc, label='train_acc')\n",
    "plt.plot(val_acc, label='val_acc')\n",
    "plt.legend()\n",
    "plt.title('Accuracy')\n",
    "plt.show()\n"
   ]
  },
  {
   "cell_type": "code",
   "execution_count": null,
   "id": "ecd03cd9",
   "metadata": {},
   "outputs": [],
   "source": []
  }
 ],
 "metadata": {
  "kernelspec": {
   "display_name": "Python 3 (ipykernel)",
   "language": "python",
   "name": "python3"
  },
  "language_info": {
   "codemirror_mode": {
    "name": "ipython",
    "version": 3
   },
   "file_extension": ".py",
   "mimetype": "text/x-python",
   "name": "python",
   "nbconvert_exporter": "python",
   "pygments_lexer": "ipython3",
   "version": "3.9.12"
  },
  "toc": {
   "base_numbering": 1,
   "nav_menu": {},
   "number_sections": false,
   "sideBar": true,
   "skip_h1_title": false,
   "title_cell": "Table of Contents",
   "title_sidebar": "Contents",
   "toc_cell": false,
   "toc_position": {},
   "toc_section_display": true,
   "toc_window_display": false
  },
  "varInspector": {
   "cols": {
    "lenName": 16,
    "lenType": 16,
    "lenVar": 40
   },
   "kernels_config": {
    "python": {
     "delete_cmd_postfix": "",
     "delete_cmd_prefix": "del ",
     "library": "var_list.py",
     "varRefreshCmd": "print(var_dic_list())"
    },
    "r": {
     "delete_cmd_postfix": ") ",
     "delete_cmd_prefix": "rm(",
     "library": "var_list.r",
     "varRefreshCmd": "cat(var_dic_list()) "
    }
   },
   "types_to_exclude": [
    "module",
    "function",
    "builtin_function_or_method",
    "instance",
    "_Feature"
   ],
   "window_display": false
  }
 },
 "nbformat": 4,
 "nbformat_minor": 5
}
