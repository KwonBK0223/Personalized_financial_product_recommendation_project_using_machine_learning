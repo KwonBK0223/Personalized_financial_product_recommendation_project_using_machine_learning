{
 "cells": [
  {
   "cell_type": "markdown",
   "id": "cfea9bba",
   "metadata": {},
   "source": [
    "# 특별계좌_ANN+MinMaxScaling"
   ]
  },
  {
   "cell_type": "code",
   "execution_count": 1,
   "id": "4666a647",
   "metadata": {
    "ExecuteTime": {
     "end_time": "2023-04-22T12:09:14.680974Z",
     "start_time": "2023-04-22T12:07:18.940404Z"
    }
   },
   "outputs": [],
   "source": [
    "import pandas as pd\n",
    "from sklearn.model_selection import train_test_split\n",
    "from tensorflow.keras.models import Sequential\n",
    "from tensorflow.keras.layers import Dense\n",
    "\n",
    "# 데이터 불러오기\n",
    "data = pd.read_excel('bank_pre.xlsx')"
   ]
  },
  {
   "cell_type": "code",
   "execution_count": 2,
   "id": "0618568f",
   "metadata": {
    "ExecuteTime": {
     "end_time": "2023-04-22T12:09:14.762397Z",
     "start_time": "2023-04-22T12:09:14.680974Z"
    },
    "scrolled": true
   },
   "outputs": [
    {
     "name": "stdout",
     "output_type": "stream",
     "text": [
      "<class 'pandas.core.frame.DataFrame'>\n",
      "RangeIndex: 300000 entries, 0 to 299999\n",
      "Data columns (total 12 columns):\n",
      " #   Column         Non-Null Count   Dtype  \n",
      "---  ------         --------------   -----  \n",
      " 0   해외 거주 여부       300000 non-null  int64  \n",
      " 1   성별             300000 non-null  int64  \n",
      " 2   나이             300000 non-null  int64  \n",
      " 3   신규 고객(6개월 이내)  300000 non-null  int64  \n",
      " 4   거래 누적 기간(월)    300000 non-null  int64  \n",
      " 5   지역 코드          300000 non-null  int64  \n",
      " 6   고객 활성화 상태      300000 non-null  int64  \n",
      " 7   가구 소득          300000 non-null  float64\n",
      " 8   고객 구분          300000 non-null  int64  \n",
      " 9   특별계좌           300000 non-null  int64  \n",
      " 10  온라인 계좌         300000 non-null  int64  \n",
      " 11  체크카드           300000 non-null  int64  \n",
      "dtypes: float64(1), int64(11)\n",
      "memory usage: 27.5 MB\n"
     ]
    }
   ],
   "source": [
    "# 데이터 형태와 결측치 확인\n",
    "data.info()"
   ]
  },
  {
   "cell_type": "code",
   "execution_count": 3,
   "id": "2fcff277",
   "metadata": {
    "ExecuteTime": {
     "end_time": "2023-04-22T12:09:14.793611Z",
     "start_time": "2023-04-22T12:09:14.762397Z"
    }
   },
   "outputs": [],
   "source": [
    "# 입력 변수와 출력 변수 분리\n",
    "X = data.drop(columns=['특별계좌', '온라인 계좌', '체크카드'])\n",
    "y = data[['특별계좌']]"
   ]
  },
  {
   "cell_type": "code",
   "execution_count": 4,
   "id": "3e35158d",
   "metadata": {
    "ExecuteTime": {
     "end_time": "2023-04-22T12:09:14.871745Z",
     "start_time": "2023-04-22T12:09:14.793611Z"
    }
   },
   "outputs": [],
   "source": [
    "# 데이터를 훈련용과 검증용으로 분리\n",
    "X_train, X_test, y_train, y_test = train_test_split(X, y, test_size=0.2, random_state=1)"
   ]
  },
  {
   "cell_type": "code",
   "execution_count": 5,
   "id": "45f7a75e",
   "metadata": {
    "ExecuteTime": {
     "end_time": "2023-04-22T12:09:14.952752Z",
     "start_time": "2023-04-22T12:09:14.871745Z"
    }
   },
   "outputs": [],
   "source": [
    "from sklearn.preprocessing import MinMaxScaler\n",
    "\n",
    "# 스케일링\n",
    "scaler = MinMaxScaler()\n",
    "X_train_scaled = scaler.fit_transform(X_train)\n",
    "X_test_scaled = scaler.transform(X_test)"
   ]
  },
  {
   "cell_type": "markdown",
   "id": "8923819b",
   "metadata": {},
   "source": [
    "MinMaxScaler\n",
    "\n",
    "각 열의 최댓값을 1, 최솟값을 0 으로 고정하고 나머지 값들을 비율에 맞게 조절하는 방법\n",
    "\n"
   ]
  },
  {
   "cell_type": "code",
   "execution_count": 6,
   "id": "6dde907e",
   "metadata": {
    "ExecuteTime": {
     "end_time": "2023-04-22T12:09:15.074865Z",
     "start_time": "2023-04-22T12:09:14.954720Z"
    }
   },
   "outputs": [],
   "source": [
    "# 모델 설계\n",
    "from tensorflow.keras.models import Sequential\n",
    "model = Sequential()\n",
    "\n",
    "model.add(Dense(64, input_dim=X_train_scaled.shape[1], activation='relu'))\n",
    "model.add(Dense(32, activation='relu'))\n",
    "model.add(Dense(32, activation='relu'))\n",
    "model.add(Dense(1, activation='sigmoid'))"
   ]
  },
  {
   "cell_type": "code",
   "execution_count": 7,
   "id": "467337b1",
   "metadata": {
    "ExecuteTime": {
     "end_time": "2023-04-22T12:18:03.607837Z",
     "start_time": "2023-04-22T12:09:15.074865Z"
    },
    "scrolled": false
   },
   "outputs": [
    {
     "name": "stdout",
     "output_type": "stream",
     "text": [
      "Epoch 1/100\n",
      "3750/3750 [==============================] - 10s 2ms/step - loss: 0.2729 - accuracy: 0.8837 - val_loss: 0.2593 - val_accuracy: 0.8877\n",
      "Epoch 2/100\n",
      "3750/3750 [==============================] - 8s 2ms/step - loss: 0.2551 - accuracy: 0.8912 - val_loss: 0.2533 - val_accuracy: 0.8909\n",
      "Epoch 3/100\n",
      "3750/3750 [==============================] - 9s 2ms/step - loss: 0.2512 - accuracy: 0.8930 - val_loss: 0.2512 - val_accuracy: 0.8927\n",
      "Epoch 4/100\n",
      "3750/3750 [==============================] - 8s 2ms/step - loss: 0.2489 - accuracy: 0.8944 - val_loss: 0.2497 - val_accuracy: 0.8930\n",
      "Epoch 5/100\n",
      "3750/3750 [==============================] - 9s 2ms/step - loss: 0.2477 - accuracy: 0.8952 - val_loss: 0.2482 - val_accuracy: 0.8942\n",
      "Epoch 6/100\n",
      "3750/3750 [==============================] - 9s 2ms/step - loss: 0.2471 - accuracy: 0.8954 - val_loss: 0.2493 - val_accuracy: 0.8944\n",
      "Epoch 7/100\n",
      "3750/3750 [==============================] - 9s 2ms/step - loss: 0.2467 - accuracy: 0.8957 - val_loss: 0.2478 - val_accuracy: 0.8952\n",
      "Epoch 8/100\n",
      "3750/3750 [==============================] - 9s 2ms/step - loss: 0.2465 - accuracy: 0.8958 - val_loss: 0.2482 - val_accuracy: 0.8953\n",
      "Epoch 9/100\n",
      "3750/3750 [==============================] - 9s 2ms/step - loss: 0.2461 - accuracy: 0.8960 - val_loss: 0.2470 - val_accuracy: 0.8949\n",
      "Epoch 10/100\n",
      "3750/3750 [==============================] - 9s 2ms/step - loss: 0.2459 - accuracy: 0.8959 - val_loss: 0.2482 - val_accuracy: 0.8941\n",
      "Epoch 11/100\n",
      "3750/3750 [==============================] - 9s 2ms/step - loss: 0.2457 - accuracy: 0.8960 - val_loss: 0.2464 - val_accuracy: 0.8953\n",
      "Epoch 12/100\n",
      "3750/3750 [==============================] - 9s 2ms/step - loss: 0.2457 - accuracy: 0.8960 - val_loss: 0.2467 - val_accuracy: 0.8949\n",
      "Epoch 13/100\n",
      "3750/3750 [==============================] - 9s 2ms/step - loss: 0.2455 - accuracy: 0.8959 - val_loss: 0.2467 - val_accuracy: 0.8951\n",
      "Epoch 14/100\n",
      "3750/3750 [==============================] - 9s 2ms/step - loss: 0.2453 - accuracy: 0.8961 - val_loss: 0.2478 - val_accuracy: 0.8951\n",
      "Epoch 15/100\n",
      "3750/3750 [==============================] - 9s 2ms/step - loss: 0.2450 - accuracy: 0.8961 - val_loss: 0.2486 - val_accuracy: 0.8948\n",
      "Epoch 16/100\n",
      "3750/3750 [==============================] - 10s 3ms/step - loss: 0.2450 - accuracy: 0.8960 - val_loss: 0.2460 - val_accuracy: 0.8953\n",
      "Epoch 17/100\n",
      "3750/3750 [==============================] - 9s 3ms/step - loss: 0.2450 - accuracy: 0.8961 - val_loss: 0.2462 - val_accuracy: 0.8947\n",
      "Epoch 18/100\n",
      "3750/3750 [==============================] - 11s 3ms/step - loss: 0.2448 - accuracy: 0.8961 - val_loss: 0.2467 - val_accuracy: 0.8950\n",
      "Epoch 19/100\n",
      "3750/3750 [==============================] - 9s 3ms/step - loss: 0.2447 - accuracy: 0.8963 - val_loss: 0.2459 - val_accuracy: 0.8950\n",
      "Epoch 20/100\n",
      "3750/3750 [==============================] - 9s 2ms/step - loss: 0.2444 - accuracy: 0.8962 - val_loss: 0.2467 - val_accuracy: 0.8950\n",
      "Epoch 21/100\n",
      "3750/3750 [==============================] - 9s 2ms/step - loss: 0.2445 - accuracy: 0.8960 - val_loss: 0.2468 - val_accuracy: 0.8950\n",
      "Epoch 22/100\n",
      "3750/3750 [==============================] - 9s 2ms/step - loss: 0.2443 - accuracy: 0.8961 - val_loss: 0.2465 - val_accuracy: 0.8950\n",
      "Epoch 23/100\n",
      "3750/3750 [==============================] - 9s 2ms/step - loss: 0.2442 - accuracy: 0.8961 - val_loss: 0.2461 - val_accuracy: 0.8953\n",
      "Epoch 24/100\n",
      "3750/3750 [==============================] - 9s 2ms/step - loss: 0.2440 - accuracy: 0.8963 - val_loss: 0.2459 - val_accuracy: 0.8953\n",
      "Epoch 25/100\n",
      "3750/3750 [==============================] - 9s 2ms/step - loss: 0.2437 - accuracy: 0.8965 - val_loss: 0.2454 - val_accuracy: 0.8949\n",
      "Epoch 26/100\n",
      "3750/3750 [==============================] - 9s 2ms/step - loss: 0.2438 - accuracy: 0.8964 - val_loss: 0.2460 - val_accuracy: 0.8950\n",
      "Epoch 27/100\n",
      "3750/3750 [==============================] - 9s 2ms/step - loss: 0.2435 - accuracy: 0.8965 - val_loss: 0.2464 - val_accuracy: 0.8949\n",
      "Epoch 28/100\n",
      "3750/3750 [==============================] - 9s 2ms/step - loss: 0.2435 - accuracy: 0.8964 - val_loss: 0.2472 - val_accuracy: 0.8948\n",
      "Epoch 29/100\n",
      "3750/3750 [==============================] - 9s 2ms/step - loss: 0.2436 - accuracy: 0.8965 - val_loss: 0.2457 - val_accuracy: 0.8952\n",
      "Epoch 30/100\n",
      "3750/3750 [==============================] - 9s 2ms/step - loss: 0.2433 - accuracy: 0.8965 - val_loss: 0.2462 - val_accuracy: 0.8952\n",
      "Epoch 31/100\n",
      "3750/3750 [==============================] - 9s 2ms/step - loss: 0.2432 - accuracy: 0.8964 - val_loss: 0.2458 - val_accuracy: 0.8954\n",
      "Epoch 32/100\n",
      "3750/3750 [==============================] - 10s 3ms/step - loss: 0.2430 - accuracy: 0.8964 - val_loss: 0.2454 - val_accuracy: 0.8949\n",
      "Epoch 33/100\n",
      "3750/3750 [==============================] - 11s 3ms/step - loss: 0.2431 - accuracy: 0.8964 - val_loss: 0.2458 - val_accuracy: 0.8952\n",
      "Epoch 34/100\n",
      "3750/3750 [==============================] - 12s 3ms/step - loss: 0.2430 - accuracy: 0.8964 - val_loss: 0.2456 - val_accuracy: 0.8953\n",
      "Epoch 35/100\n",
      "3750/3750 [==============================] - 12s 3ms/step - loss: 0.2429 - accuracy: 0.8965 - val_loss: 0.2454 - val_accuracy: 0.8956\n",
      "Epoch 36/100\n",
      "3750/3750 [==============================] - 10s 3ms/step - loss: 0.2428 - accuracy: 0.8964 - val_loss: 0.2459 - val_accuracy: 0.8952\n",
      "Epoch 37/100\n",
      "3750/3750 [==============================] - 9s 2ms/step - loss: 0.2428 - accuracy: 0.8966 - val_loss: 0.2456 - val_accuracy: 0.8953\n",
      "Epoch 38/100\n",
      "3750/3750 [==============================] - 9s 2ms/step - loss: 0.2427 - accuracy: 0.8966 - val_loss: 0.2454 - val_accuracy: 0.8954\n",
      "Epoch 39/100\n",
      "3750/3750 [==============================] - 9s 2ms/step - loss: 0.2426 - accuracy: 0.8966 - val_loss: 0.2477 - val_accuracy: 0.8941\n",
      "Epoch 40/100\n",
      "3750/3750 [==============================] - 9s 2ms/step - loss: 0.2427 - accuracy: 0.8963 - val_loss: 0.2451 - val_accuracy: 0.8956\n",
      "Epoch 41/100\n",
      "3750/3750 [==============================] - 9s 2ms/step - loss: 0.2423 - accuracy: 0.8967 - val_loss: 0.2451 - val_accuracy: 0.8951\n",
      "Epoch 42/100\n",
      "3750/3750 [==============================] - 9s 2ms/step - loss: 0.2424 - accuracy: 0.8966 - val_loss: 0.2456 - val_accuracy: 0.8953\n",
      "Epoch 43/100\n",
      "3750/3750 [==============================] - 9s 2ms/step - loss: 0.2422 - accuracy: 0.8965 - val_loss: 0.2454 - val_accuracy: 0.8952\n",
      "Epoch 44/100\n",
      "3750/3750 [==============================] - 9s 3ms/step - loss: 0.2423 - accuracy: 0.8966 - val_loss: 0.2449 - val_accuracy: 0.8949\n",
      "Epoch 45/100\n",
      "3750/3750 [==============================] - 9s 2ms/step - loss: 0.2422 - accuracy: 0.8968 - val_loss: 0.2459 - val_accuracy: 0.8953\n",
      "Epoch 46/100\n",
      "3750/3750 [==============================] - 9s 2ms/step - loss: 0.2421 - accuracy: 0.8966 - val_loss: 0.2455 - val_accuracy: 0.8950\n",
      "Epoch 47/100\n",
      "3750/3750 [==============================] - 9s 2ms/step - loss: 0.2421 - accuracy: 0.8966 - val_loss: 0.2448 - val_accuracy: 0.8957\n",
      "Epoch 48/100\n",
      "3750/3750 [==============================] - 9s 2ms/step - loss: 0.2420 - accuracy: 0.8967 - val_loss: 0.2445 - val_accuracy: 0.8953\n",
      "Epoch 49/100\n",
      "3750/3750 [==============================] - 9s 2ms/step - loss: 0.2420 - accuracy: 0.8967 - val_loss: 0.2450 - val_accuracy: 0.8953\n",
      "Epoch 50/100\n",
      "3750/3750 [==============================] - 9s 2ms/step - loss: 0.2418 - accuracy: 0.8966 - val_loss: 0.2451 - val_accuracy: 0.8954\n",
      "Epoch 51/100\n",
      "3750/3750 [==============================] - 9s 2ms/step - loss: 0.2417 - accuracy: 0.8967 - val_loss: 0.2453 - val_accuracy: 0.8953\n",
      "Epoch 52/100\n",
      "3750/3750 [==============================] - 10s 3ms/step - loss: 0.2416 - accuracy: 0.8968 - val_loss: 0.2446 - val_accuracy: 0.8953\n",
      "Epoch 53/100\n",
      "3750/3750 [==============================] - 10s 3ms/step - loss: 0.2418 - accuracy: 0.8967 - val_loss: 0.2446 - val_accuracy: 0.8957\n",
      "Epoch 54/100\n",
      "3750/3750 [==============================] - 10s 3ms/step - loss: 0.2417 - accuracy: 0.8968 - val_loss: 0.2447 - val_accuracy: 0.8954\n",
      "Epoch 55/100\n",
      "3750/3750 [==============================] - 9s 2ms/step - loss: 0.2418 - accuracy: 0.8966 - val_loss: 0.2450 - val_accuracy: 0.8953\n",
      "Epoch 56/100\n",
      "3750/3750 [==============================] - 9s 2ms/step - loss: 0.2416 - accuracy: 0.8967 - val_loss: 0.2449 - val_accuracy: 0.8953\n",
      "Epoch 57/100\n"
     ]
    },
    {
     "name": "stdout",
     "output_type": "stream",
     "text": [
      "3750/3750 [==============================] - 9s 2ms/step - loss: 0.2415 - accuracy: 0.8968 - val_loss: 0.2450 - val_accuracy: 0.8953\n",
      "Epoch 58/100\n",
      "3750/3750 [==============================] - 9s 2ms/step - loss: 0.2414 - accuracy: 0.8967 - val_loss: 0.2468 - val_accuracy: 0.8950\n"
     ]
    }
   ],
   "source": [
    "from keras.callbacks import EarlyStopping\n",
    "\n",
    "# EarlyStopping 콜백 정의\n",
    "early_stopping = EarlyStopping(monitor='val_loss', patience=10, restore_best_weights=True)\n",
    "\n",
    "# 모델 컴파일\n",
    "model.compile(optimizer='adam', loss='binary_crossentropy', metrics=['accuracy'])\n",
    "\n",
    "# 모델 학습\n",
    "history = model.fit(X_train_scaled, y_train, validation_data=(X_test_scaled, y_test), epochs=100, batch_size=64, callbacks=[early_stopping])\n"
   ]
  },
  {
   "cell_type": "code",
   "execution_count": 8,
   "id": "822535be",
   "metadata": {
    "ExecuteTime": {
     "end_time": "2023-04-22T12:18:07.276682Z",
     "start_time": "2023-04-22T12:18:03.608779Z"
    }
   },
   "outputs": [
    {
     "name": "stdout",
     "output_type": "stream",
     "text": [
      "1875/1875 [==============================] - 4s 2ms/step - loss: 0.2445 - accuracy: 0.8953\n",
      "Test accuracy: 0.8953499794006348\n"
     ]
    }
   ],
   "source": [
    "loss, accuracy = model.evaluate(X_test_scaled, y_test)\n",
    "print('Test accuracy:', accuracy)"
   ]
  },
  {
   "cell_type": "code",
   "execution_count": 9,
   "id": "ae3c2ab5",
   "metadata": {
    "ExecuteTime": {
     "end_time": "2023-04-22T12:18:09.121337Z",
     "start_time": "2023-04-22T12:18:07.279675Z"
    }
   },
   "outputs": [
    {
     "data": {
      "image/png": "[encoded data removed]",
      "text/plain": [
       "<Figure size 432x288 with 1 Axes>"
      ]
     },
     "metadata": {
      "needs_background": "light"
     },
     "output_type": "display_data"
    },
    {
     "data": {
      "image/png": "[encoded data removed]",
      "text/plain": [
       "<Figure size 432x288 with 1 Axes>"
      ]
     },
     "metadata": {
      "needs_background": "light"
     },
     "output_type": "display_data"
    }
   ],
   "source": [
    "import matplotlib.pyplot as plt\n",
    "\n",
    "# history 객체에서 손실값과 정확도를 추출합니다.\n",
    "train_loss = history.history['loss']\n",
    "val_loss = history.history['val_loss']\n",
    "train_acc = history.history['accuracy']\n",
    "val_acc = history.history['val_accuracy']\n",
    "\n",
    "# 손실값 그래프\n",
    "plt.plot(train_loss, label='train_loss')\n",
    "plt.plot(val_loss, label='val_loss')\n",
    "plt.legend()\n",
    "plt.title('Loss')\n",
    "plt.show()\n",
    "\n",
    "# 정확도 그래프\n",
    "plt.plot(train_acc, label='train_acc')\n",
    "plt.plot(val_acc, label='val_acc')\n",
    "plt.legend()\n",
    "plt.title('Accuracy')\n",
    "plt.show()\n"
   ]
  },
  {
   "cell_type": "code",
   "execution_count": 10,
   "id": "5e33c7fc",
   "metadata": {
    "ExecuteTime": {
     "end_time": "2023-04-22T12:18:09.189683Z",
     "start_time": "2023-04-22T12:18:09.128382Z"
    }
   },
   "outputs": [],
   "source": [
    "model.save('test_Specail_ANN.h5')"
   ]
  }
 ],
 "metadata": {
  "kernelspec": {
   "display_name": "Python 3 (ipykernel)",
   "language": "python",
   "name": "python3"
  },
  "language_info": {
   "codemirror_mode": {
    "name": "ipython",
    "version": 3
   },
   "file_extension": ".py",
   "mimetype": "text/x-python",
   "name": "python",
   "nbconvert_exporter": "python",
   "pygments_lexer": "ipython3",
   "version": "3.9.12"
  },
  "toc": {
   "base_numbering": 1,
   "nav_menu": {},
   "number_sections": false,
   "sideBar": true,
   "skip_h1_title": false,
   "title_cell": "Table of Contents",
   "title_sidebar": "Contents",
   "toc_cell": false,
   "toc_position": {},
   "toc_section_display": true,
   "toc_window_display": false
  },
  "varInspector": {
   "cols": {
    "lenName": 16,
    "lenType": 16,
    "lenVar": 40
   },
   "kernels_config": {
    "python": {
     "delete_cmd_postfix": "",
     "delete_cmd_prefix": "del ",
     "library": "var_list.py",
     "varRefreshCmd": "print(var_dic_list())"
    },
    "r": {
     "delete_cmd_postfix": ") ",
     "delete_cmd_prefix": "rm(",
     "library": "var_list.r",
     "varRefreshCmd": "cat(var_dic_list()) "
    }
   },
   "types_to_exclude": [
    "module",
    "function",
    "builtin_function_or_method",
    "instance",
    "_Feature"
   ],
   "window_display": false
  }
 },
 "nbformat": 4,
 "nbformat_minor": 5
}
