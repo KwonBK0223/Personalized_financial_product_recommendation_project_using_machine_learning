{
 "cells": [
  {
   "cell_type": "markdown",
   "id": "f800a72e",
   "metadata": {},
   "source": [
    "# 온라인 계좌_ANN_NoScaling"
   ]
  },
  {
   "cell_type": "code",
   "execution_count": 1,
   "id": "51553d14",
   "metadata": {
    "ExecuteTime": {
     "end_time": "2023-04-22T12:05:54.258706Z",
     "start_time": "2023-04-22T12:04:27.578626Z"
    }
   },
   "outputs": [],
   "source": [
    "import pandas as pd\n",
    "from sklearn.model_selection import train_test_split\n",
    "from tensorflow.keras.models import Sequential\n",
    "from tensorflow.keras.layers import Dense\n",
    "\n",
    "# 데이터 불러오기\n",
    "data = pd.read_excel('bank_pre.xlsx')"
   ]
  },
  {
   "cell_type": "code",
   "execution_count": 2,
   "id": "dd516bf2",
   "metadata": {
    "ExecuteTime": {
     "end_time": "2023-04-22T12:05:54.387754Z",
     "start_time": "2023-04-22T12:05:54.360822Z"
    }
   },
   "outputs": [
    {
     "name": "stdout",
     "output_type": "stream",
     "text": [
      "<class 'pandas.core.frame.DataFrame'>\n",
      "RangeIndex: 300000 entries, 0 to 299999\n",
      "Data columns (total 12 columns):\n",
      " #   Column         Non-Null Count   Dtype  \n",
      "---  ------         --------------   -----  \n",
      " 0   해외 거주 여부       300000 non-null  int64  \n",
      " 1   성별             300000 non-null  int64  \n",
      " 2   나이             300000 non-null  int64  \n",
      " 3   신규 고객(6개월 이내)  300000 non-null  int64  \n",
      " 4   거래 누적 기간(월)    300000 non-null  int64  \n",
      " 5   지역 코드          300000 non-null  int64  \n",
      " 6   고객 활성화 상태      300000 non-null  int64  \n",
      " 7   가구 소득          300000 non-null  float64\n",
      " 8   고객 구분          300000 non-null  int64  \n",
      " 9   특별계좌           300000 non-null  int64  \n",
      " 10  온라인 계좌         300000 non-null  int64  \n",
      " 11  체크카드           300000 non-null  int64  \n",
      "dtypes: float64(1), int64(11)\n",
      "memory usage: 27.5 MB\n"
     ]
    }
   ],
   "source": [
    "# 데이터 형태와 결측치 확인\n",
    "data.info()"
   ]
  },
  {
   "cell_type": "code",
   "execution_count": 3,
   "id": "35ec1156",
   "metadata": {
    "ExecuteTime": {
     "end_time": "2023-04-22T12:05:54.440092Z",
     "start_time": "2023-04-22T12:05:54.419665Z"
    }
   },
   "outputs": [],
   "source": [
    "# 입력 변수와 출력 변수 분리\n",
    "X = data.drop(columns=['특별계좌', '온라인 계좌', '체크카드'])\n",
    "y = data[['온라인 계좌']]"
   ]
  },
  {
   "cell_type": "code",
   "execution_count": 4,
   "id": "4845f03f",
   "metadata": {
    "ExecuteTime": {
     "end_time": "2023-04-22T12:05:54.596914Z",
     "start_time": "2023-04-22T12:05:54.471335Z"
    }
   },
   "outputs": [],
   "source": [
    "# 데이터를 훈련용과 검증용으로 분리\n",
    "X_train, X_test, y_train, y_test = train_test_split(X, y, test_size=0.2, random_state=1)"
   ]
  },
  {
   "cell_type": "code",
   "execution_count": 5,
   "id": "29838ceb",
   "metadata": {
    "ExecuteTime": {
     "end_time": "2023-04-22T12:05:54.875258Z",
     "start_time": "2023-04-22T12:05:54.679356Z"
    }
   },
   "outputs": [],
   "source": [
    "# 모델 설계\n",
    "from tensorflow.keras.models import Sequential\n",
    "model = Sequential()\n",
    "\n",
    "model.add(Dense(64, input_dim=X_train.shape[1], activation='relu'))\n",
    "model.add(Dense(32, activation='relu'))\n",
    "model.add(Dense(32, activation='relu'))\n",
    "model.add(Dense(1, activation='sigmoid'))"
   ]
  },
  {
   "cell_type": "code",
   "execution_count": 6,
   "id": "6cdf9afb",
   "metadata": {
    "ExecuteTime": {
     "end_time": "2023-04-22T12:08:31.250717Z",
     "start_time": "2023-04-22T12:05:54.923436Z"
    }
   },
   "outputs": [
    {
     "name": "stdout",
     "output_type": "stream",
     "text": [
      "Epoch 1/100\n",
      "3750/3750 [==============================] - 12s 3ms/step - loss: 23.3533 - accuracy: 0.6942 - val_loss: 1.3940 - val_accuracy: 0.7898\n",
      "Epoch 2/100\n",
      "3750/3750 [==============================] - 10s 3ms/step - loss: 1.7446 - accuracy: 0.7331 - val_loss: 0.5199 - val_accuracy: 0.7972\n",
      "Epoch 3/100\n",
      "3750/3750 [==============================] - 10s 3ms/step - loss: 0.5222 - accuracy: 0.7974 - val_loss: 0.5052 - val_accuracy: 0.7965\n",
      "Epoch 4/100\n",
      "3750/3750 [==============================] - 11s 3ms/step - loss: 0.5027 - accuracy: 0.7983 - val_loss: 0.5052 - val_accuracy: 0.7965\n",
      "Epoch 5/100\n",
      "3750/3750 [==============================] - 11s 3ms/step - loss: 0.5027 - accuracy: 0.7983 - val_loss: 0.5052 - val_accuracy: 0.7965\n",
      "Epoch 6/100\n",
      "3750/3750 [==============================] - 11s 3ms/step - loss: 0.5027 - accuracy: 0.7983 - val_loss: 0.5053 - val_accuracy: 0.7965\n",
      "Epoch 7/100\n",
      "3750/3750 [==============================] - 15s 4ms/step - loss: 0.5055 - accuracy: 0.7982 - val_loss: 0.5055 - val_accuracy: 0.7965\n",
      "Epoch 8/100\n",
      "3750/3750 [==============================] - 17s 5ms/step - loss: 0.5028 - accuracy: 0.7983 - val_loss: 0.5052 - val_accuracy: 0.7965\n",
      "Epoch 9/100\n",
      "3750/3750 [==============================] - 12s 3ms/step - loss: 0.5028 - accuracy: 0.7983 - val_loss: 0.5052 - val_accuracy: 0.7965\n",
      "Epoch 10/100\n",
      "3750/3750 [==============================] - 12s 3ms/step - loss: 0.5028 - accuracy: 0.7983 - val_loss: 0.5052 - val_accuracy: 0.7965\n",
      "Epoch 11/100\n",
      "3750/3750 [==============================] - 12s 3ms/step - loss: 0.5028 - accuracy: 0.7983 - val_loss: 0.5055 - val_accuracy: 0.7965\n",
      "Epoch 12/100\n",
      "3750/3750 [==============================] - 12s 3ms/step - loss: 0.5028 - accuracy: 0.7983 - val_loss: 0.5054 - val_accuracy: 0.7965\n",
      "Epoch 13/100\n",
      "3750/3750 [==============================] - 11s 3ms/step - loss: 0.5028 - accuracy: 0.7983 - val_loss: 0.5052 - val_accuracy: 0.7965\n"
     ]
    }
   ],
   "source": [
    "from keras.callbacks import EarlyStopping\n",
    "\n",
    "# EarlyStopping 콜백 정의\n",
    "early_stopping = EarlyStopping(monitor='val_loss', patience=10, restore_best_weights=True)\n",
    "\n",
    "# 모델 컴파일\n",
    "model.compile(optimizer='adam', loss='binary_crossentropy', metrics=['accuracy'])\n",
    "\n",
    "# 모델 학습\n",
    "history = model.fit(X_train, y_train, validation_data=(X_test, y_test), epochs=100, batch_size=64, callbacks=[early_stopping])\n"
   ]
  },
  {
   "cell_type": "code",
   "execution_count": 7,
   "id": "57641e53",
   "metadata": {
    "ExecuteTime": {
     "end_time": "2023-04-22T12:08:36.057664Z",
     "start_time": "2023-04-22T12:08:31.317893Z"
    }
   },
   "outputs": [
    {
     "name": "stdout",
     "output_type": "stream",
     "text": [
      "1875/1875 [==============================] - 5s 2ms/step - loss: 0.5052 - accuracy: 0.7965\n",
      "Test accuracy: 0.796500027179718\n"
     ]
    }
   ],
   "source": [
    "loss, accuracy = model.evaluate(X_test, y_test)\n",
    "print('Test accuracy:', accuracy)"
   ]
  },
  {
   "cell_type": "code",
   "execution_count": 9,
   "id": "65ad0884",
   "metadata": {
    "ExecuteTime": {
     "end_time": "2023-04-22T13:41:50.305308Z",
     "start_time": "2023-04-22T13:41:50.227504Z"
    }
   },
   "outputs": [
    {
     "name": "stdout",
     "output_type": "stream",
     "text": [
      "Test loss:  0.5052028894424438\n"
     ]
    }
   ],
   "source": [
    "print('Test loss: ', loss)"
   ]
  },
  {
   "cell_type": "code",
   "execution_count": 8,
   "id": "94e75dc8",
   "metadata": {
    "ExecuteTime": {
     "end_time": "2023-04-22T12:08:39.302028Z",
     "start_time": "2023-04-22T12:08:36.121737Z"
    }
   },
   "outputs": [
    {
     "data": {
      "image/png": "[encoded data removed]",
      "text/plain": [
       "<Figure size 432x288 with 1 Axes>"
      ]
     },
     "metadata": {
      "needs_background": "light"
     },
     "output_type": "display_data"
    },
    {
     "data": {
      "image/png": "[encoded data removed]",
      "text/plain": [
       "<Figure size 432x288 with 1 Axes>"
      ]
     },
     "metadata": {
      "needs_background": "light"
     },
     "output_type": "display_data"
    }
   ],
   "source": [
    "import matplotlib.pyplot as plt\n",
    "\n",
    "# history 객체에서 손실값과 정확도를 추출합니다.\n",
    "train_loss = history.history['loss']\n",
    "val_loss = history.history['val_loss']\n",
    "train_acc = history.history['accuracy']\n",
    "val_acc = history.history['val_accuracy']\n",
    "\n",
    "# 손실값 그래프\n",
    "plt.plot(train_loss, label='train_loss')\n",
    "plt.plot(val_loss, label='val_loss')\n",
    "plt.legend()\n",
    "plt.title('Loss')\n",
    "plt.show()\n",
    "\n",
    "# 정확도 그래프\n",
    "plt.plot(train_acc, label='train_acc')\n",
    "plt.plot(val_acc, label='val_acc')\n",
    "plt.legend()\n",
    "plt.title('Accuracy')\n",
    "plt.show()\n"
   ]
  },
  {
   "cell_type": "code",
   "execution_count": null,
   "id": "2629a5b0",
   "metadata": {},
   "outputs": [],
   "source": []
  }
 ],
 "metadata": {
  "kernelspec": {
   "display_name": "Python 3 (ipykernel)",
   "language": "python",
   "name": "python3"
  },
  "language_info": {
   "codemirror_mode": {
    "name": "ipython",
    "version": 3
   },
   "file_extension": ".py",
   "mimetype": "text/x-python",
   "name": "python",
   "nbconvert_exporter": "python",
   "pygments_lexer": "ipython3",
   "version": "3.9.12"
  },
  "toc": {
   "base_numbering": 1,
   "nav_menu": {},
   "number_sections": false,
   "sideBar": true,
   "skip_h1_title": false,
   "title_cell": "Table of Contents",
   "title_sidebar": "Contents",
   "toc_cell": false,
   "toc_position": {},
   "toc_section_display": true,
   "toc_window_display": false
  },
  "varInspector": {
   "cols": {
    "lenName": 16,
    "lenType": 16,
    "lenVar": 40
   },
   "kernels_config": {
    "python": {
     "delete_cmd_postfix": "",
     "delete_cmd_prefix": "del ",
     "library": "var_list.py",
     "varRefreshCmd": "print(var_dic_list())"
    },
    "r": {
     "delete_cmd_postfix": ") ",
     "delete_cmd_prefix": "rm(",
     "library": "var_list.r",
     "varRefreshCmd": "cat(var_dic_list()) "
    }
   },
   "types_to_exclude": [
    "module",
    "function",
    "builtin_function_or_method",
    "instance",
    "_Feature"
   ],
   "window_display": false
  }
 },
 "nbformat": 4,
 "nbformat_minor": 5
}
