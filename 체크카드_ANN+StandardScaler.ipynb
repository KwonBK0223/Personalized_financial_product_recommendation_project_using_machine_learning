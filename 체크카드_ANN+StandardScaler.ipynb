{
 "cells": [
  {
   "cell_type": "markdown",
   "id": "f5e8ccca",
   "metadata": {},
   "source": [
    "# 체크카드_ANN+StandardScaler"
   ]
  },
  {
   "cell_type": "code",
   "execution_count": 1,
   "id": "3a085d97",
   "metadata": {
    "ExecuteTime": {
     "end_time": "2023-04-22T12:42:20.554951Z",
     "start_time": "2023-04-22T12:41:05.654869Z"
    }
   },
   "outputs": [],
   "source": [
    "import pandas as pd\n",
    "from sklearn.model_selection import train_test_split\n",
    "from tensorflow.keras.models import Sequential\n",
    "from tensorflow.keras.layers import Dense\n",
    "\n",
    "# 데이터 불러오기\n",
    "data = pd.read_excel('bank_pre.xlsx')"
   ]
  },
  {
   "cell_type": "code",
   "execution_count": 2,
   "id": "82f447b7",
   "metadata": {
    "ExecuteTime": {
     "end_time": "2023-04-22T12:42:20.642534Z",
     "start_time": "2023-04-22T12:42:20.615286Z"
    }
   },
   "outputs": [
    {
     "name": "stdout",
     "output_type": "stream",
     "text": [
      "<class 'pandas.core.frame.DataFrame'>\n",
      "RangeIndex: 300000 entries, 0 to 299999\n",
      "Data columns (total 12 columns):\n",
      " #   Column         Non-Null Count   Dtype  \n",
      "---  ------         --------------   -----  \n",
      " 0   해외 거주 여부       300000 non-null  int64  \n",
      " 1   성별             300000 non-null  int64  \n",
      " 2   나이             300000 non-null  int64  \n",
      " 3   신규 고객(6개월 이내)  300000 non-null  int64  \n",
      " 4   거래 누적 기간(월)    300000 non-null  int64  \n",
      " 5   지역 코드          300000 non-null  int64  \n",
      " 6   고객 활성화 상태      300000 non-null  int64  \n",
      " 7   가구 소득          300000 non-null  float64\n",
      " 8   고객 구분          300000 non-null  int64  \n",
      " 9   특별계좌           300000 non-null  int64  \n",
      " 10  온라인 계좌         300000 non-null  int64  \n",
      " 11  체크카드           300000 non-null  int64  \n",
      "dtypes: float64(1), int64(11)\n",
      "memory usage: 27.5 MB\n"
     ]
    }
   ],
   "source": [
    "# 데이터 형태와 결측치 확인\n",
    "data.info()"
   ]
  },
  {
   "cell_type": "code",
   "execution_count": 3,
   "id": "ad6a8463",
   "metadata": {
    "ExecuteTime": {
     "end_time": "2023-04-22T12:42:20.699909Z",
     "start_time": "2023-04-22T12:42:20.664646Z"
    }
   },
   "outputs": [],
   "source": [
    "# 입력 변수와 출력 변수 분리\n",
    "X = data.drop(columns=['특별계좌', '온라인 계좌', '체크카드'])\n",
    "y = data[['체크카드']]"
   ]
  },
  {
   "cell_type": "code",
   "execution_count": 4,
   "id": "e679a557",
   "metadata": {
    "ExecuteTime": {
     "end_time": "2023-04-22T12:42:20.805627Z",
     "start_time": "2023-04-22T12:42:20.718862Z"
    }
   },
   "outputs": [],
   "source": [
    "# 데이터를 훈련용과 검증용으로 분리\n",
    "X_train, X_test, y_train, y_test = train_test_split(X, y, test_size=0.2, random_state=1)"
   ]
  },
  {
   "cell_type": "code",
   "execution_count": 5,
   "id": "71642140",
   "metadata": {
    "ExecuteTime": {
     "end_time": "2023-04-22T12:42:20.932054Z",
     "start_time": "2023-04-22T12:42:20.832560Z"
    }
   },
   "outputs": [],
   "source": [
    "from sklearn.preprocessing import StandardScaler\n",
    "\n",
    "# 스케일링\n",
    "scaler = StandardScaler()\n",
    "X_train_scaled = scaler.fit(X_train).transform(X_train)\n",
    "X_test_scaled = scaler.transform(X_test)\n"
   ]
  },
  {
   "cell_type": "code",
   "execution_count": 6,
   "id": "25fa0339",
   "metadata": {
    "ExecuteTime": {
     "end_time": "2023-04-22T12:42:21.099075Z",
     "start_time": "2023-04-22T12:42:20.965629Z"
    }
   },
   "outputs": [],
   "source": [
    "# 모델 설계\n",
    "from tensorflow.keras.models import Sequential\n",
    "model = Sequential()\n",
    "\n",
    "model.add(Dense(64, input_dim=X_train_scaled.shape[1], activation='relu'))\n",
    "model.add(Dense(32, activation='relu'))\n",
    "model.add(Dense(32, activation='relu'))\n",
    "model.add(Dense(1, activation='sigmoid'))"
   ]
  },
  {
   "cell_type": "code",
   "execution_count": 7,
   "id": "cc0d546d",
   "metadata": {
    "ExecuteTime": {
     "end_time": "2023-04-22T13:04:45.153600Z",
     "start_time": "2023-04-22T12:42:35.091007Z"
    },
    "scrolled": false
   },
   "outputs": [
    {
     "name": "stdout",
     "output_type": "stream",
     "text": [
      "Epoch 1/100\n",
      "3750/3750 [==============================] - 13s 3ms/step - loss: 0.3234 - accuracy: 0.8749 - val_loss: 0.3113 - val_accuracy: 0.8773\n",
      "Epoch 2/100\n",
      "3750/3750 [==============================] - 10s 3ms/step - loss: 0.3124 - accuracy: 0.8786 - val_loss: 0.3105 - val_accuracy: 0.8789\n",
      "Epoch 3/100\n",
      "3750/3750 [==============================] - 10s 3ms/step - loss: 0.3098 - accuracy: 0.8797 - val_loss: 0.3074 - val_accuracy: 0.8790\n",
      "Epoch 4/100\n",
      "3750/3750 [==============================] - 10s 3ms/step - loss: 0.3086 - accuracy: 0.8800 - val_loss: 0.3068 - val_accuracy: 0.8795\n",
      "Epoch 5/100\n",
      "3750/3750 [==============================] - 10s 3ms/step - loss: 0.3076 - accuracy: 0.8804 - val_loss: 0.3051 - val_accuracy: 0.8797\n",
      "Epoch 6/100\n",
      "3750/3750 [==============================] - 8s 2ms/step - loss: 0.3068 - accuracy: 0.8804 - val_loss: 0.3060 - val_accuracy: 0.8794\n",
      "Epoch 7/100\n",
      "3750/3750 [==============================] - 9s 2ms/step - loss: 0.3064 - accuracy: 0.8805 - val_loss: 0.3042 - val_accuracy: 0.8798\n",
      "Epoch 8/100\n",
      "3750/3750 [==============================] - 10s 3ms/step - loss: 0.3055 - accuracy: 0.8807 - val_loss: 0.3069 - val_accuracy: 0.8797\n",
      "Epoch 9/100\n",
      "3750/3750 [==============================] - 11s 3ms/step - loss: 0.3053 - accuracy: 0.8806 - val_loss: 0.3035 - val_accuracy: 0.8796\n",
      "Epoch 10/100\n",
      "3750/3750 [==============================] - 11s 3ms/step - loss: 0.3049 - accuracy: 0.8807 - val_loss: 0.3034 - val_accuracy: 0.8798\n",
      "Epoch 11/100\n",
      "3750/3750 [==============================] - 12s 3ms/step - loss: 0.3046 - accuracy: 0.8808 - val_loss: 0.3039 - val_accuracy: 0.8799\n",
      "Epoch 12/100\n",
      "3750/3750 [==============================] - 9s 2ms/step - loss: 0.3041 - accuracy: 0.8809 - val_loss: 0.3022 - val_accuracy: 0.8799\n",
      "Epoch 13/100\n",
      "3750/3750 [==============================] - 12s 3ms/step - loss: 0.3039 - accuracy: 0.8808 - val_loss: 0.3029 - val_accuracy: 0.8804\n",
      "Epoch 14/100\n",
      "3750/3750 [==============================] - 13s 4ms/step - loss: 0.3035 - accuracy: 0.8808 - val_loss: 0.3023 - val_accuracy: 0.8802\n",
      "Epoch 15/100\n",
      "3750/3750 [==============================] - 11s 3ms/step - loss: 0.3033 - accuracy: 0.8808 - val_loss: 0.3021 - val_accuracy: 0.8800\n",
      "Epoch 16/100\n",
      "3750/3750 [==============================] - 11s 3ms/step - loss: 0.3031 - accuracy: 0.8811 - val_loss: 0.3017 - val_accuracy: 0.8801\n",
      "Epoch 17/100\n",
      "3750/3750 [==============================] - 13s 4ms/step - loss: 0.3025 - accuracy: 0.8809 - val_loss: 0.3006 - val_accuracy: 0.8802\n",
      "Epoch 18/100\n",
      "3750/3750 [==============================] - 12s 3ms/step - loss: 0.3023 - accuracy: 0.8812 - val_loss: 0.3018 - val_accuracy: 0.8800\n",
      "Epoch 19/100\n",
      "3750/3750 [==============================] - 9s 2ms/step - loss: 0.3020 - accuracy: 0.8812 - val_loss: 0.3009 - val_accuracy: 0.8802\n",
      "Epoch 20/100\n",
      "3750/3750 [==============================] - 8s 2ms/step - loss: 0.3017 - accuracy: 0.8813 - val_loss: 0.3038 - val_accuracy: 0.8795\n",
      "Epoch 21/100\n",
      "3750/3750 [==============================] - 8s 2ms/step - loss: 0.3017 - accuracy: 0.8810 - val_loss: 0.3018 - val_accuracy: 0.8801\n",
      "Epoch 22/100\n",
      "3750/3750 [==============================] - 9s 2ms/step - loss: 0.3013 - accuracy: 0.8813 - val_loss: 0.3004 - val_accuracy: 0.8799\n",
      "Epoch 23/100\n",
      "3750/3750 [==============================] - 13s 3ms/step - loss: 0.3009 - accuracy: 0.8813 - val_loss: 0.3002 - val_accuracy: 0.8801\n",
      "Epoch 24/100\n",
      "3750/3750 [==============================] - 13s 3ms/step - loss: 0.3008 - accuracy: 0.8813 - val_loss: 0.3011 - val_accuracy: 0.8802\n",
      "Epoch 25/100\n",
      "3750/3750 [==============================] - 10s 3ms/step - loss: 0.3008 - accuracy: 0.8812 - val_loss: 0.3025 - val_accuracy: 0.8803\n",
      "Epoch 26/100\n",
      "3750/3750 [==============================] - 11s 3ms/step - loss: 0.3004 - accuracy: 0.8813 - val_loss: 0.3000 - val_accuracy: 0.8801\n",
      "Epoch 27/100\n",
      "3750/3750 [==============================] - 11s 3ms/step - loss: 0.3001 - accuracy: 0.8814 - val_loss: 0.2999 - val_accuracy: 0.8805\n",
      "Epoch 28/100\n",
      "3750/3750 [==============================] - 12s 3ms/step - loss: 0.2999 - accuracy: 0.8814 - val_loss: 0.3006 - val_accuracy: 0.8803\n",
      "Epoch 29/100\n",
      "3750/3750 [==============================] - 12s 3ms/step - loss: 0.2996 - accuracy: 0.8815 - val_loss: 0.2998 - val_accuracy: 0.8804\n",
      "Epoch 30/100\n",
      "3750/3750 [==============================] - 11s 3ms/step - loss: 0.2996 - accuracy: 0.8814 - val_loss: 0.3010 - val_accuracy: 0.8809\n",
      "Epoch 31/100\n",
      "3750/3750 [==============================] - 11s 3ms/step - loss: 0.2995 - accuracy: 0.8813 - val_loss: 0.2992 - val_accuracy: 0.8806\n",
      "Epoch 32/100\n",
      "3750/3750 [==============================] - 11s 3ms/step - loss: 0.2992 - accuracy: 0.8814 - val_loss: 0.2998 - val_accuracy: 0.8806\n",
      "Epoch 33/100\n",
      "3750/3750 [==============================] - 11s 3ms/step - loss: 0.2989 - accuracy: 0.8815 - val_loss: 0.3010 - val_accuracy: 0.8798\n",
      "Epoch 34/100\n",
      "3750/3750 [==============================] - 12s 3ms/step - loss: 0.2989 - accuracy: 0.8816 - val_loss: 0.2993 - val_accuracy: 0.8807\n",
      "Epoch 35/100\n",
      "3750/3750 [==============================] - 13s 4ms/step - loss: 0.2986 - accuracy: 0.8815 - val_loss: 0.2994 - val_accuracy: 0.8803\n",
      "Epoch 36/100\n",
      "3750/3750 [==============================] - 15s 4ms/step - loss: 0.2985 - accuracy: 0.8815 - val_loss: 0.2992 - val_accuracy: 0.8807\n",
      "Epoch 37/100\n",
      "3750/3750 [==============================] - 18s 5ms/step - loss: 0.2982 - accuracy: 0.8814 - val_loss: 0.2989 - val_accuracy: 0.8802\n",
      "Epoch 38/100\n",
      "3750/3750 [==============================] - 16s 4ms/step - loss: 0.2982 - accuracy: 0.8816 - val_loss: 0.3002 - val_accuracy: 0.8808\n",
      "Epoch 39/100\n",
      "3750/3750 [==============================] - 16s 4ms/step - loss: 0.2979 - accuracy: 0.8816 - val_loss: 0.2995 - val_accuracy: 0.8803\n",
      "Epoch 40/100\n",
      "3750/3750 [==============================] - 15s 4ms/step - loss: 0.2979 - accuracy: 0.8816 - val_loss: 0.2989 - val_accuracy: 0.8806\n",
      "Epoch 41/100\n",
      "3750/3750 [==============================] - 15s 4ms/step - loss: 0.2977 - accuracy: 0.8818 - val_loss: 0.3009 - val_accuracy: 0.8801\n",
      "Epoch 42/100\n",
      "3750/3750 [==============================] - 16s 4ms/step - loss: 0.2975 - accuracy: 0.8816 - val_loss: 0.2979 - val_accuracy: 0.8805\n",
      "Epoch 43/100\n",
      "3750/3750 [==============================] - 22s 6ms/step - loss: 0.2974 - accuracy: 0.8815 - val_loss: 0.2981 - val_accuracy: 0.8806\n",
      "Epoch 44/100\n",
      "3750/3750 [==============================] - 16s 4ms/step - loss: 0.2972 - accuracy: 0.8818 - val_loss: 0.2989 - val_accuracy: 0.8803\n",
      "Epoch 45/100\n",
      "3750/3750 [==============================] - 16s 4ms/step - loss: 0.2970 - accuracy: 0.8817 - val_loss: 0.2980 - val_accuracy: 0.8809\n",
      "Epoch 46/100\n",
      "3750/3750 [==============================] - 14s 4ms/step - loss: 0.2971 - accuracy: 0.8817 - val_loss: 0.2979 - val_accuracy: 0.8801\n",
      "Epoch 47/100\n",
      "3750/3750 [==============================] - 16s 4ms/step - loss: 0.2968 - accuracy: 0.8819 - val_loss: 0.2981 - val_accuracy: 0.8805\n",
      "Epoch 48/100\n",
      "3750/3750 [==============================] - 19s 5ms/step - loss: 0.2968 - accuracy: 0.8818 - val_loss: 0.2979 - val_accuracy: 0.8804\n",
      "Epoch 49/100\n",
      "3750/3750 [==============================] - 19s 5ms/step - loss: 0.2961 - accuracy: 0.8818 - val_loss: 0.3002 - val_accuracy: 0.8801\n",
      "Epoch 50/100\n",
      "3750/3750 [==============================] - 14s 4ms/step - loss: 0.2962 - accuracy: 0.8818 - val_loss: 0.3000 - val_accuracy: 0.8802\n",
      "Epoch 51/100\n",
      "3750/3750 [==============================] - 20s 5ms/step - loss: 0.2961 - accuracy: 0.8819 - val_loss: 0.2980 - val_accuracy: 0.8808\n",
      "Epoch 52/100\n",
      "3750/3750 [==============================] - 20s 5ms/step - loss: 0.2959 - accuracy: 0.8818 - val_loss: 0.2972 - val_accuracy: 0.8805\n",
      "Epoch 53/100\n",
      "3750/3750 [==============================] - 14s 4ms/step - loss: 0.2956 - accuracy: 0.8818 - val_loss: 0.2981 - val_accuracy: 0.8806\n",
      "Epoch 54/100\n",
      "3750/3750 [==============================] - 14s 4ms/step - loss: 0.2955 - accuracy: 0.8820 - val_loss: 0.2976 - val_accuracy: 0.8809\n",
      "Epoch 55/100\n",
      "3750/3750 [==============================] - 15s 4ms/step - loss: 0.2956 - accuracy: 0.8821 - val_loss: 0.2995 - val_accuracy: 0.8805\n",
      "Epoch 56/100\n",
      "3750/3750 [==============================] - 16s 4ms/step - loss: 0.2953 - accuracy: 0.8820 - val_loss: 0.2972 - val_accuracy: 0.8806\n"
     ]
    },
    {
     "name": "stdout",
     "output_type": "stream",
     "text": [
      "Epoch 57/100\n",
      "3750/3750 [==============================] - 17s 5ms/step - loss: 0.2950 - accuracy: 0.8821 - val_loss: 0.2978 - val_accuracy: 0.8814\n",
      "Epoch 58/100\n",
      "3750/3750 [==============================] - 16s 4ms/step - loss: 0.2953 - accuracy: 0.8821 - val_loss: 0.2974 - val_accuracy: 0.8803\n",
      "Epoch 59/100\n",
      "3750/3750 [==============================] - 16s 4ms/step - loss: 0.2948 - accuracy: 0.8822 - val_loss: 0.2983 - val_accuracy: 0.8807\n",
      "Epoch 60/100\n",
      "3750/3750 [==============================] - 16s 4ms/step - loss: 0.2947 - accuracy: 0.8823 - val_loss: 0.2979 - val_accuracy: 0.8804\n",
      "Epoch 61/100\n",
      "3750/3750 [==============================] - 18s 5ms/step - loss: 0.2948 - accuracy: 0.8824 - val_loss: 0.2969 - val_accuracy: 0.8809\n",
      "Epoch 62/100\n",
      "3750/3750 [==============================] - 17s 4ms/step - loss: 0.2947 - accuracy: 0.8822 - val_loss: 0.2971 - val_accuracy: 0.8812\n",
      "Epoch 63/100\n",
      "3750/3750 [==============================] - 19s 5ms/step - loss: 0.2943 - accuracy: 0.8825 - val_loss: 0.2980 - val_accuracy: 0.8814\n",
      "Epoch 64/100\n",
      "3750/3750 [==============================] - 14s 4ms/step - loss: 0.2946 - accuracy: 0.8823 - val_loss: 0.2968 - val_accuracy: 0.8809\n",
      "Epoch 65/100\n",
      "3750/3750 [==============================] - 13s 4ms/step - loss: 0.2942 - accuracy: 0.8825 - val_loss: 0.2974 - val_accuracy: 0.8809\n",
      "Epoch 66/100\n",
      "3750/3750 [==============================] - 14s 4ms/step - loss: 0.2941 - accuracy: 0.8824 - val_loss: 0.2976 - val_accuracy: 0.8812\n",
      "Epoch 67/100\n",
      "3750/3750 [==============================] - 13s 3ms/step - loss: 0.2940 - accuracy: 0.8824 - val_loss: 0.2963 - val_accuracy: 0.8806\n",
      "Epoch 68/100\n",
      "3750/3750 [==============================] - 15s 4ms/step - loss: 0.2938 - accuracy: 0.8825 - val_loss: 0.2967 - val_accuracy: 0.8807\n",
      "Epoch 69/100\n",
      "3750/3750 [==============================] - 15s 4ms/step - loss: 0.2938 - accuracy: 0.8825 - val_loss: 0.2970 - val_accuracy: 0.8806\n",
      "Epoch 70/100\n",
      "3750/3750 [==============================] - 14s 4ms/step - loss: 0.2934 - accuracy: 0.8825 - val_loss: 0.2974 - val_accuracy: 0.8806\n",
      "Epoch 71/100\n",
      "3750/3750 [==============================] - 13s 3ms/step - loss: 0.2934 - accuracy: 0.8826 - val_loss: 0.2961 - val_accuracy: 0.8810\n",
      "Epoch 72/100\n",
      "3750/3750 [==============================] - 14s 4ms/step - loss: 0.2933 - accuracy: 0.8822 - val_loss: 0.2970 - val_accuracy: 0.8808\n",
      "Epoch 73/100\n",
      "3750/3750 [==============================] - 13s 3ms/step - loss: 0.2932 - accuracy: 0.8825 - val_loss: 0.2960 - val_accuracy: 0.8812\n",
      "Epoch 74/100\n",
      "3750/3750 [==============================] - 13s 3ms/step - loss: 0.2932 - accuracy: 0.8826 - val_loss: 0.2964 - val_accuracy: 0.8810\n",
      "Epoch 75/100\n",
      "3750/3750 [==============================] - 13s 3ms/step - loss: 0.2931 - accuracy: 0.8825 - val_loss: 0.2967 - val_accuracy: 0.8813\n",
      "Epoch 76/100\n",
      "3750/3750 [==============================] - 15s 4ms/step - loss: 0.2928 - accuracy: 0.8826 - val_loss: 0.2969 - val_accuracy: 0.8809\n",
      "Epoch 77/100\n",
      "3750/3750 [==============================] - 15s 4ms/step - loss: 0.2926 - accuracy: 0.8825 - val_loss: 0.2987 - val_accuracy: 0.8808\n",
      "Epoch 78/100\n",
      "3750/3750 [==============================] - 16s 4ms/step - loss: 0.2926 - accuracy: 0.8828 - val_loss: 0.2967 - val_accuracy: 0.8805\n",
      "Epoch 79/100\n",
      "3750/3750 [==============================] - 14s 4ms/step - loss: 0.2924 - accuracy: 0.8826 - val_loss: 0.2965 - val_accuracy: 0.8805\n",
      "Epoch 80/100\n",
      "3750/3750 [==============================] - 16s 4ms/step - loss: 0.2923 - accuracy: 0.8827 - val_loss: 0.2971 - val_accuracy: 0.8805\n",
      "Epoch 81/100\n",
      "3750/3750 [==============================] - 17s 4ms/step - loss: 0.2920 - accuracy: 0.8831 - val_loss: 0.2968 - val_accuracy: 0.8802\n",
      "Epoch 82/100\n",
      "3750/3750 [==============================] - 15s 4ms/step - loss: 0.2919 - accuracy: 0.8829 - val_loss: 0.2963 - val_accuracy: 0.8810\n",
      "Epoch 83/100\n",
      "3750/3750 [==============================] - 13s 3ms/step - loss: 0.2919 - accuracy: 0.8829 - val_loss: 0.2955 - val_accuracy: 0.8811\n",
      "Epoch 84/100\n",
      "3750/3750 [==============================] - 13s 3ms/step - loss: 0.2918 - accuracy: 0.8829 - val_loss: 0.2955 - val_accuracy: 0.8812\n",
      "Epoch 85/100\n",
      "3750/3750 [==============================] - 14s 4ms/step - loss: 0.2917 - accuracy: 0.8830 - val_loss: 0.2963 - val_accuracy: 0.8808\n",
      "Epoch 86/100\n",
      "3750/3750 [==============================] - 14s 4ms/step - loss: 0.2915 - accuracy: 0.8828 - val_loss: 0.2965 - val_accuracy: 0.8802\n",
      "Epoch 87/100\n",
      "3750/3750 [==============================] - 13s 3ms/step - loss: 0.2915 - accuracy: 0.8831 - val_loss: 0.2960 - val_accuracy: 0.8803\n",
      "Epoch 88/100\n",
      "3750/3750 [==============================] - 13s 3ms/step - loss: 0.2914 - accuracy: 0.8827 - val_loss: 0.2955 - val_accuracy: 0.8811\n",
      "Epoch 89/100\n",
      "3750/3750 [==============================] - 13s 4ms/step - loss: 0.2912 - accuracy: 0.8828 - val_loss: 0.2961 - val_accuracy: 0.8813\n",
      "Epoch 90/100\n",
      "3750/3750 [==============================] - 12s 3ms/step - loss: 0.2912 - accuracy: 0.8828 - val_loss: 0.2956 - val_accuracy: 0.8812\n",
      "Epoch 91/100\n",
      "3750/3750 [==============================] - 11s 3ms/step - loss: 0.2910 - accuracy: 0.8829 - val_loss: 0.2961 - val_accuracy: 0.8809\n",
      "Epoch 92/100\n",
      "3750/3750 [==============================] - 11s 3ms/step - loss: 0.2910 - accuracy: 0.8831 - val_loss: 0.2954 - val_accuracy: 0.8805\n",
      "Epoch 93/100\n",
      "3750/3750 [==============================] - 10s 3ms/step - loss: 0.2908 - accuracy: 0.8829 - val_loss: 0.2967 - val_accuracy: 0.8807\n",
      "Epoch 94/100\n",
      "3750/3750 [==============================] - 12s 3ms/step - loss: 0.2906 - accuracy: 0.8829 - val_loss: 0.2957 - val_accuracy: 0.8806\n",
      "Epoch 95/100\n",
      "3750/3750 [==============================] - 11s 3ms/step - loss: 0.2904 - accuracy: 0.8830 - val_loss: 0.2951 - val_accuracy: 0.8810\n",
      "Epoch 96/100\n",
      "3750/3750 [==============================] - 10s 3ms/step - loss: 0.2906 - accuracy: 0.8829 - val_loss: 0.2945 - val_accuracy: 0.8812\n",
      "Epoch 97/100\n",
      "3750/3750 [==============================] - 10s 3ms/step - loss: 0.2902 - accuracy: 0.8830 - val_loss: 0.2966 - val_accuracy: 0.8812\n",
      "Epoch 98/100\n",
      "3750/3750 [==============================] - 11s 3ms/step - loss: 0.2902 - accuracy: 0.8830 - val_loss: 0.2961 - val_accuracy: 0.8809\n",
      "Epoch 99/100\n",
      "3750/3750 [==============================] - 11s 3ms/step - loss: 0.2903 - accuracy: 0.8831 - val_loss: 0.2962 - val_accuracy: 0.8807\n",
      "Epoch 100/100\n",
      "3750/3750 [==============================] - 10s 3ms/step - loss: 0.2898 - accuracy: 0.8832 - val_loss: 0.2960 - val_accuracy: 0.8808\n"
     ]
    }
   ],
   "source": [
    "from keras.callbacks import EarlyStopping\n",
    "\n",
    "# EarlyStopping 콜백 정의\n",
    "early_stopping = EarlyStopping(monitor='val_loss', patience=10, restore_best_weights=True)\n",
    "\n",
    "# 모델 컴파일\n",
    "model.compile(optimizer='adam', loss='binary_crossentropy', metrics=['accuracy'])\n",
    "\n",
    "# 모델 학습\n",
    "history = model.fit(X_train_scaled, y_train, validation_data=(X_test_scaled, y_test), epochs=100, batch_size=64, callbacks=[early_stopping])\n"
   ]
  },
  {
   "cell_type": "code",
   "execution_count": 8,
   "id": "946d2561",
   "metadata": {
    "ExecuteTime": {
     "end_time": "2023-04-22T13:04:49.305681Z",
     "start_time": "2023-04-22T13:04:45.210097Z"
    }
   },
   "outputs": [
    {
     "name": "stdout",
     "output_type": "stream",
     "text": [
      "1875/1875 [==============================] - 4s 2ms/step - loss: 0.2960 - accuracy: 0.8808\n",
      "Test accuracy: 0.8808000087738037\n"
     ]
    }
   ],
   "source": [
    "loss, accuracy = model.evaluate(X_test_scaled, y_test)\n",
    "print('Test accuracy:', accuracy)"
   ]
  },
  {
   "cell_type": "code",
   "execution_count": 10,
   "id": "cdacc2d9",
   "metadata": {
    "ExecuteTime": {
     "end_time": "2023-04-22T13:47:53.672860Z",
     "start_time": "2023-04-22T13:47:53.658922Z"
    }
   },
   "outputs": [
    {
     "name": "stdout",
     "output_type": "stream",
     "text": [
      "Test loss:  0.2960168719291687\n"
     ]
    }
   ],
   "source": [
    "print('Test loss: ', loss)"
   ]
  },
  {
   "cell_type": "code",
   "execution_count": 9,
   "id": "68233bb9",
   "metadata": {
    "ExecuteTime": {
     "end_time": "2023-04-22T13:04:51.391535Z",
     "start_time": "2023-04-22T13:04:49.365134Z"
    }
   },
   "outputs": [
    {
     "data": {
      "image/png": "[encoded data removed]",
      "text/plain": [
       "<Figure size 432x288 with 1 Axes>"
      ]
     },
     "metadata": {
      "needs_background": "light"
     },
     "output_type": "display_data"
    },
    {
     "data": {
      "image/png": "[encoded data removed]",
      "text/plain": [
       "<Figure size 432x288 with 1 Axes>"
      ]
     },
     "metadata": {
      "needs_background": "light"
     },
     "output_type": "display_data"
    }
   ],
   "source": [
    "import matplotlib.pyplot as plt\n",
    "# history 객체에서 손실값과 정확도를 추출합니다.\n",
    "train_loss = history.history['loss']\n",
    "val_loss = history.history['val_loss']\n",
    "train_acc = history.history['accuracy']\n",
    "val_acc = history.history['val_accuracy']\n",
    "\n",
    "# 손실값 그래프\n",
    "plt.plot(train_loss, label='train_loss')\n",
    "plt.plot(val_loss, label='val_loss')\n",
    "plt.legend()\n",
    "plt.title('Loss')\n",
    "plt.show()\n",
    "\n",
    "# 정확도 그래프\n",
    "plt.plot(train_acc, label='train_acc')\n",
    "plt.plot(val_acc, label='val_acc')\n",
    "plt.legend()\n",
    "plt.title('Accuracy')\n",
    "plt.show()\n"
   ]
  },
  {
   "cell_type": "code",
   "execution_count": null,
   "id": "6de90056",
   "metadata": {},
   "outputs": [],
   "source": []
  }
 ],
 "metadata": {
  "kernelspec": {
   "display_name": "Python 3 (ipykernel)",
   "language": "python",
   "name": "python3"
  },
  "language_info": {
   "codemirror_mode": {
    "name": "ipython",
    "version": 3
   },
   "file_extension": ".py",
   "mimetype": "text/x-python",
   "name": "python",
   "nbconvert_exporter": "python",
   "pygments_lexer": "ipython3",
   "version": "3.9.12"
  },
  "toc": {
   "base_numbering": 1,
   "nav_menu": {},
   "number_sections": false,
   "sideBar": true,
   "skip_h1_title": false,
   "title_cell": "Table of Contents",
   "title_sidebar": "Contents",
   "toc_cell": false,
   "toc_position": {},
   "toc_section_display": true,
   "toc_window_display": false
  },
  "varInspector": {
   "cols": {
    "lenName": 16,
    "lenType": 16,
    "lenVar": 40
   },
   "kernels_config": {
    "python": {
     "delete_cmd_postfix": "",
     "delete_cmd_prefix": "del ",
     "library": "var_list.py",
     "varRefreshCmd": "print(var_dic_list())"
    },
    "r": {
     "delete_cmd_postfix": ") ",
     "delete_cmd_prefix": "rm(",
     "library": "var_list.r",
     "varRefreshCmd": "cat(var_dic_list()) "
    }
   },
   "types_to_exclude": [
    "module",
    "function",
    "builtin_function_or_method",
    "instance",
    "_Feature"
   ],
   "window_display": false
  }
 },
 "nbformat": 4,
 "nbformat_minor": 5
}
