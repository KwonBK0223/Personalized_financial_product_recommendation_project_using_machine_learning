{
 "cells": [
  {
   "cell_type": "markdown",
   "id": "9bd135a7",
   "metadata": {},
   "source": [
    "# 특별계좌_ANN_NoScaling"
   ]
  },
  {
   "cell_type": "code",
   "execution_count": 1,
   "id": "5c9916e1",
   "metadata": {
    "ExecuteTime": {
     "end_time": "2023-04-22T12:05:53.825398Z",
     "start_time": "2023-04-22T12:04:25.369580Z"
    }
   },
   "outputs": [],
   "source": [
    "import pandas as pd\n",
    "from sklearn.model_selection import train_test_split\n",
    "from tensorflow.keras.models import Sequential\n",
    "from tensorflow.keras.layers import Dense\n",
    "\n",
    "# 데이터 불러오기\n",
    "data = pd.read_excel('bank_pre.xlsx')"
   ]
  },
  {
   "cell_type": "code",
   "execution_count": 2,
   "id": "de1ae49c",
   "metadata": {
    "ExecuteTime": {
     "end_time": "2023-04-22T12:05:53.971072Z",
     "start_time": "2023-04-22T12:05:53.927105Z"
    }
   },
   "outputs": [
    {
     "name": "stdout",
     "output_type": "stream",
     "text": [
      "<class 'pandas.core.frame.DataFrame'>\n",
      "RangeIndex: 300000 entries, 0 to 299999\n",
      "Data columns (total 12 columns):\n",
      " #   Column         Non-Null Count   Dtype  \n",
      "---  ------         --------------   -----  \n",
      " 0   해외 거주 여부       300000 non-null  int64  \n",
      " 1   성별             300000 non-null  int64  \n",
      " 2   나이             300000 non-null  int64  \n",
      " 3   신규 고객(6개월 이내)  300000 non-null  int64  \n",
      " 4   거래 누적 기간(월)    300000 non-null  int64  \n",
      " 5   지역 코드          300000 non-null  int64  \n",
      " 6   고객 활성화 상태      300000 non-null  int64  \n",
      " 7   가구 소득          300000 non-null  float64\n",
      " 8   고객 구분          300000 non-null  int64  \n",
      " 9   특별계좌           300000 non-null  int64  \n",
      " 10  온라인 계좌         300000 non-null  int64  \n",
      " 11  체크카드           300000 non-null  int64  \n",
      "dtypes: float64(1), int64(11)\n",
      "memory usage: 27.5 MB\n"
     ]
    }
   ],
   "source": [
    "# 데이터 형태와 결측치 확인\n",
    "data.info()"
   ]
  },
  {
   "cell_type": "code",
   "execution_count": 3,
   "id": "80bb26e5",
   "metadata": {
    "ExecuteTime": {
     "end_time": "2023-04-22T12:05:54.051002Z",
     "start_time": "2023-04-22T12:05:54.015718Z"
    }
   },
   "outputs": [],
   "source": [
    "# 입력 변수와 출력 변수 분리\n",
    "X = data.drop(columns=['특별계좌', '온라인 계좌', '체크카드'])\n",
    "y = data[['특별계좌']]"
   ]
  },
  {
   "cell_type": "code",
   "execution_count": 4,
   "id": "095707be",
   "metadata": {
    "ExecuteTime": {
     "end_time": "2023-04-22T12:05:54.243561Z",
     "start_time": "2023-04-22T12:05:54.096455Z"
    }
   },
   "outputs": [],
   "source": [
    "# 데이터를 훈련용과 검증용으로 분리\n",
    "X_train, X_test, y_train, y_test = train_test_split(X, y, test_size=0.2, random_state=1)"
   ]
  },
  {
   "cell_type": "code",
   "execution_count": 5,
   "id": "c6206b06",
   "metadata": {
    "ExecuteTime": {
     "end_time": "2023-04-22T12:05:54.486957Z",
     "start_time": "2023-04-22T12:05:54.311022Z"
    }
   },
   "outputs": [],
   "source": [
    "# 모델 설계\n",
    "from tensorflow.keras.models import Sequential\n",
    "model = Sequential()\n",
    "\n",
    "model.add(Dense(64, input_dim=X_train.shape[1], activation='relu'))\n",
    "model.add(Dense(32, activation='relu'))\n",
    "model.add(Dense(32, activation='relu'))\n",
    "model.add(Dense(1, activation='sigmoid'))"
   ]
  },
  {
   "cell_type": "code",
   "execution_count": 6,
   "id": "c56c844d",
   "metadata": {
    "ExecuteTime": {
     "end_time": "2023-04-22T12:08:40.143992Z",
     "start_time": "2023-04-22T12:05:54.561007Z"
    }
   },
   "outputs": [
    {
     "name": "stdout",
     "output_type": "stream",
     "text": [
      "Epoch 1/100\n",
      "3750/3750 [==============================] - 12s 3ms/step - loss: 19.4834 - accuracy: 0.6242 - val_loss: 7.5364 - val_accuracy: 0.5508\n",
      "Epoch 2/100\n",
      "3750/3750 [==============================] - 10s 3ms/step - loss: 4.8200 - accuracy: 0.6700 - val_loss: 1.7891 - val_accuracy: 0.6429\n",
      "Epoch 3/100\n",
      "3750/3750 [==============================] - 10s 3ms/step - loss: 0.8643 - accuracy: 0.7430 - val_loss: 0.4239 - val_accuracy: 0.8530\n",
      "Epoch 4/100\n",
      "3750/3750 [==============================] - 11s 3ms/step - loss: 0.4429 - accuracy: 0.8251 - val_loss: 0.3927 - val_accuracy: 0.8617\n",
      "Epoch 5/100\n",
      "3750/3750 [==============================] - 11s 3ms/step - loss: 0.6326 - accuracy: 0.6519 - val_loss: 0.6931 - val_accuracy: 0.5167\n",
      "Epoch 6/100\n",
      "3750/3750 [==============================] - 11s 3ms/step - loss: 0.6927 - accuracy: 0.5146 - val_loss: 0.6929 - val_accuracy: 0.5167\n",
      "Epoch 7/100\n",
      "3750/3750 [==============================] - 14s 4ms/step - loss: 0.6928 - accuracy: 0.5145 - val_loss: 0.6934 - val_accuracy: 0.5167\n",
      "Epoch 8/100\n",
      "3750/3750 [==============================] - 18s 5ms/step - loss: 0.6967 - accuracy: 0.5135 - val_loss: 0.6926 - val_accuracy: 0.5167\n",
      "Epoch 9/100\n",
      "3750/3750 [==============================] - 12s 3ms/step - loss: 0.6928 - accuracy: 0.5155 - val_loss: 0.6926 - val_accuracy: 0.5167\n",
      "Epoch 10/100\n",
      "3750/3750 [==============================] - 11s 3ms/step - loss: 0.6928 - accuracy: 0.5148 - val_loss: 0.6926 - val_accuracy: 0.5167\n",
      "Epoch 11/100\n",
      "3750/3750 [==============================] - 12s 3ms/step - loss: 0.6928 - accuracy: 0.5148 - val_loss: 0.6926 - val_accuracy: 0.5167\n",
      "Epoch 12/100\n",
      "3750/3750 [==============================] - 11s 3ms/step - loss: 0.6928 - accuracy: 0.5145 - val_loss: 0.6927 - val_accuracy: 0.5167\n",
      "Epoch 13/100\n",
      "3750/3750 [==============================] - 11s 3ms/step - loss: 0.6928 - accuracy: 0.5145 - val_loss: 0.6926 - val_accuracy: 0.5167\n",
      "Epoch 14/100\n",
      "3750/3750 [==============================] - 10s 3ms/step - loss: 0.6928 - accuracy: 0.5141 - val_loss: 0.6928 - val_accuracy: 0.5167\n"
     ]
    }
   ],
   "source": [
    "from keras.callbacks import EarlyStopping\n",
    "\n",
    "# EarlyStopping 콜백 정의\n",
    "early_stopping = EarlyStopping(monitor='val_loss', patience=10, restore_best_weights=True)\n",
    "\n",
    "# 모델 컴파일\n",
    "model.compile(optimizer='adam', loss='binary_crossentropy', metrics=['accuracy'])\n",
    "\n",
    "# 모델 학습\n",
    "history = model.fit(X_train, y_train, validation_data=(X_test, y_test), epochs=100, batch_size=64, callbacks=[early_stopping])\n"
   ]
  },
  {
   "cell_type": "code",
   "execution_count": 7,
   "id": "261829be",
   "metadata": {
    "ExecuteTime": {
     "end_time": "2023-04-22T12:08:43.402865Z",
     "start_time": "2023-04-22T12:08:40.206477Z"
    },
    "scrolled": true
   },
   "outputs": [
    {
     "name": "stdout",
     "output_type": "stream",
     "text": [
      "1875/1875 [==============================] - 3s 2ms/step - loss: 0.3927 - accuracy: 0.8617\n",
      "Test accuracy: 0.8616833090782166\n"
     ]
    }
   ],
   "source": [
    "loss, accuracy = model.evaluate(X_test, y_test)\n",
    "print('Test accuracy:', accuracy)"
   ]
  },
  {
   "cell_type": "code",
   "execution_count": 8,
   "id": "061c2906",
   "metadata": {
    "ExecuteTime": {
     "end_time": "2023-04-22T12:08:44.951527Z",
     "start_time": "2023-04-22T12:08:43.471442Z"
    }
   },
   "outputs": [
    {
     "data": {
      "image/png": "[encoded data removed]",
      "text/plain": [
       "<Figure size 432x288 with 1 Axes>"
      ]
     },
     "metadata": {
      "needs_background": "light"
     },
     "output_type": "display_data"
    },
    {
     "data": {
      "image/png": "[encoded data removed]",
      "text/plain": [
       "<Figure size 432x288 with 1 Axes>"
      ]
     },
     "metadata": {
      "needs_background": "light"
     },
     "output_type": "display_data"
    }
   ],
   "source": [
    "import matplotlib.pyplot as plt\n",
    "\n",
    "# history 객체에서 손실값과 정확도를 추출합니다.\n",
    "train_loss = history.history['loss']\n",
    "val_loss = history.history['val_loss']\n",
    "train_acc = history.history['accuracy']\n",
    "val_acc = history.history['val_accuracy']\n",
    "\n",
    "# 손실값 그래프\n",
    "plt.plot(train_loss, label='train_loss')\n",
    "plt.plot(val_loss, label='val_loss')\n",
    "plt.legend()\n",
    "plt.title('Loss')\n",
    "plt.show()\n",
    "\n",
    "# 정확도 그래프\n",
    "plt.plot(train_acc, label='train_acc')\n",
    "plt.plot(val_acc, label='val_acc')\n",
    "plt.legend()\n",
    "plt.title('Accuracy')\n",
    "plt.show()\n"
   ]
  },
  {
   "cell_type": "code",
   "execution_count": null,
   "id": "c461b178",
   "metadata": {},
   "outputs": [],
   "source": []
  }
 ],
 "metadata": {
  "kernelspec": {
   "display_name": "Python 3 (ipykernel)",
   "language": "python",
   "name": "python3"
  },
  "language_info": {
   "codemirror_mode": {
    "name": "ipython",
    "version": 3
   },
   "file_extension": ".py",
   "mimetype": "text/x-python",
   "name": "python",
   "nbconvert_exporter": "python",
   "pygments_lexer": "ipython3",
   "version": "3.9.12"
  },
  "toc": {
   "base_numbering": 1,
   "nav_menu": {},
   "number_sections": false,
   "sideBar": true,
   "skip_h1_title": false,
   "title_cell": "Table of Contents",
   "title_sidebar": "Contents",
   "toc_cell": false,
   "toc_position": {},
   "toc_section_display": true,
   "toc_window_display": false
  },
  "varInspector": {
   "cols": {
    "lenName": 16,
    "lenType": 16,
    "lenVar": 40
   },
   "kernels_config": {
    "python": {
     "delete_cmd_postfix": "",
     "delete_cmd_prefix": "del ",
     "library": "var_list.py",
     "varRefreshCmd": "print(var_dic_list())"
    },
    "r": {
     "delete_cmd_postfix": ") ",
     "delete_cmd_prefix": "rm(",
     "library": "var_list.r",
     "varRefreshCmd": "cat(var_dic_list()) "
    }
   },
   "types_to_exclude": [
    "module",
    "function",
    "builtin_function_or_method",
    "instance",
    "_Feature"
   ],
   "window_display": false
  }
 },
 "nbformat": 4,
 "nbformat_minor": 5
}
