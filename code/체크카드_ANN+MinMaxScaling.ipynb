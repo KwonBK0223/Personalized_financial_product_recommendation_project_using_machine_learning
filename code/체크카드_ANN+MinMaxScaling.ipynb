{
 "cells": [
  {
   "cell_type": "markdown",
   "id": "a7333008",
   "metadata": {},
   "source": [
    "# 체크카드_ANN+MinMaxScaling"
   ]
  },
  {
   "cell_type": "code",
   "execution_count": 11,
   "id": "ceb400b7",
   "metadata": {
    "ExecuteTime": {
     "end_time": "2023-04-22T13:11:45.242518Z",
     "start_time": "2023-04-22T13:10:46.396770Z"
    }
   },
   "outputs": [],
   "source": [
    "import pandas as pd\n",
    "from sklearn.model_selection import train_test_split\n",
    "from tensorflow.keras.models import Sequential\n",
    "from tensorflow.keras.layers import Dense\n",
    "\n",
    "# 데이터 불러오기\n",
    "data = pd.read_excel('bank_pre.xlsx')"
   ]
  },
  {
   "cell_type": "code",
   "execution_count": 2,
   "id": "bf7033b4",
   "metadata": {
    "ExecuteTime": {
     "end_time": "2023-04-22T12:09:16.536111Z",
     "start_time": "2023-04-22T12:09:16.445525Z"
    }
   },
   "outputs": [
    {
     "name": "stdout",
     "output_type": "stream",
     "text": [
      "<class 'pandas.core.frame.DataFrame'>\n",
      "RangeIndex: 300000 entries, 0 to 299999\n",
      "Data columns (total 12 columns):\n",
      " #   Column         Non-Null Count   Dtype  \n",
      "---  ------         --------------   -----  \n",
      " 0   해외 거주 여부       300000 non-null  int64  \n",
      " 1   성별             300000 non-null  int64  \n",
      " 2   나이             300000 non-null  int64  \n",
      " 3   신규 고객(6개월 이내)  300000 non-null  int64  \n",
      " 4   거래 누적 기간(월)    300000 non-null  int64  \n",
      " 5   지역 코드          300000 non-null  int64  \n",
      " 6   고객 활성화 상태      300000 non-null  int64  \n",
      " 7   가구 소득          300000 non-null  float64\n",
      " 8   고객 구분          300000 non-null  int64  \n",
      " 9   특별계좌           300000 non-null  int64  \n",
      " 10  온라인 계좌         300000 non-null  int64  \n",
      " 11  체크카드           300000 non-null  int64  \n",
      "dtypes: float64(1), int64(11)\n",
      "memory usage: 27.5 MB\n"
     ]
    }
   ],
   "source": [
    "data.info()"
   ]
  },
  {
   "cell_type": "code",
   "execution_count": 3,
   "id": "bb95e796",
   "metadata": {
    "ExecuteTime": {
     "end_time": "2023-04-22T12:09:16.589033Z",
     "start_time": "2023-04-22T12:09:16.537812Z"
    }
   },
   "outputs": [],
   "source": [
    "# 입력 변수와 출력 변수 분리\n",
    "X = data.drop(columns=['특별계좌', '온라인 계좌', '체크카드'])\n",
    "y = data[['체크카드']]"
   ]
  },
  {
   "cell_type": "code",
   "execution_count": 4,
   "id": "d82f8dab",
   "metadata": {
    "ExecuteTime": {
     "end_time": "2023-04-22T12:09:16.708774Z",
     "start_time": "2023-04-22T12:09:16.594020Z"
    }
   },
   "outputs": [],
   "source": [
    "# 데이터를 훈련용과 검증용으로 분리\n",
    "X_train, X_test, y_train, y_test = train_test_split(X, y, test_size=0.2, random_state=1)"
   ]
  },
  {
   "cell_type": "code",
   "execution_count": 5,
   "id": "a76983aa",
   "metadata": {
    "ExecuteTime": {
     "end_time": "2023-04-22T12:09:16.796746Z",
     "start_time": "2023-04-22T12:09:16.710767Z"
    }
   },
   "outputs": [],
   "source": [
    "from sklearn.preprocessing import MinMaxScaler\n",
    "\n",
    "# 스케일링\n",
    "scaler = MinMaxScaler()\n",
    "X_train_scaled = scaler.fit_transform(X_train)\n",
    "X_test_scaled = scaler.transform(X_test)"
   ]
  },
  {
   "cell_type": "code",
   "execution_count": 6,
   "id": "664f6815",
   "metadata": {
    "ExecuteTime": {
     "end_time": "2023-04-22T12:09:17.210862Z",
     "start_time": "2023-04-22T12:09:16.799739Z"
    }
   },
   "outputs": [],
   "source": [
    "# 모델 설계\n",
    "from tensorflow.keras.models import Sequential\n",
    "model = Sequential()\n",
    "\n",
    "model.add(Dense(64, input_dim=X_train_scaled.shape[1], activation='relu'))\n",
    "model.add(Dense(32, activation='relu'))\n",
    "model.add(Dense(32, activation='relu'))\n",
    "model.add(Dense(1, activation='sigmoid'))"
   ]
  },
  {
   "cell_type": "code",
   "execution_count": 7,
   "id": "9d37f2e9",
   "metadata": {
    "ExecuteTime": {
     "end_time": "2023-04-22T12:22:27.080463Z",
     "start_time": "2023-04-22T12:09:17.212855Z"
    },
    "scrolled": false
   },
   "outputs": [
    {
     "name": "stdout",
     "output_type": "stream",
     "text": [
      "Epoch 1/100\n",
      "3750/3750 [==============================] - 10s 2ms/step - loss: 0.3357 - accuracy: 0.8687 - val_loss: 0.3213 - val_accuracy: 0.8739\n",
      "Epoch 2/100\n",
      "3750/3750 [==============================] - 9s 2ms/step - loss: 0.3165 - accuracy: 0.8776 - val_loss: 0.3137 - val_accuracy: 0.8774\n",
      "Epoch 3/100\n",
      "3750/3750 [==============================] - 9s 2ms/step - loss: 0.3134 - accuracy: 0.8788 - val_loss: 0.3111 - val_accuracy: 0.8782\n",
      "Epoch 4/100\n",
      "3750/3750 [==============================] - 9s 2ms/step - loss: 0.3115 - accuracy: 0.8794 - val_loss: 0.3090 - val_accuracy: 0.8783\n",
      "Epoch 5/100\n",
      "3750/3750 [==============================] - 9s 2ms/step - loss: 0.3103 - accuracy: 0.8796 - val_loss: 0.3081 - val_accuracy: 0.8797\n",
      "Epoch 6/100\n",
      "3750/3750 [==============================] - 9s 2ms/step - loss: 0.3094 - accuracy: 0.8800 - val_loss: 0.3075 - val_accuracy: 0.8800\n",
      "Epoch 7/100\n",
      "3750/3750 [==============================] - 9s 2ms/step - loss: 0.3090 - accuracy: 0.8800 - val_loss: 0.3061 - val_accuracy: 0.8791\n",
      "Epoch 8/100\n",
      "3750/3750 [==============================] - 9s 2ms/step - loss: 0.3085 - accuracy: 0.8801 - val_loss: 0.3080 - val_accuracy: 0.8801\n",
      "Epoch 9/100\n",
      "3750/3750 [==============================] - 9s 2ms/step - loss: 0.3080 - accuracy: 0.8801 - val_loss: 0.3050 - val_accuracy: 0.8795\n",
      "Epoch 10/100\n",
      "3750/3750 [==============================] - 9s 2ms/step - loss: 0.3076 - accuracy: 0.8803 - val_loss: 0.3052 - val_accuracy: 0.8798\n",
      "Epoch 11/100\n",
      "3750/3750 [==============================] - 9s 2ms/step - loss: 0.3074 - accuracy: 0.8802 - val_loss: 0.3051 - val_accuracy: 0.8797\n",
      "Epoch 12/100\n",
      "3750/3750 [==============================] - 9s 2ms/step - loss: 0.3070 - accuracy: 0.8802 - val_loss: 0.3062 - val_accuracy: 0.8793\n",
      "Epoch 13/100\n",
      "3750/3750 [==============================] - 9s 2ms/step - loss: 0.3068 - accuracy: 0.8803 - val_loss: 0.3039 - val_accuracy: 0.8795\n",
      "Epoch 14/100\n",
      "3750/3750 [==============================] - 9s 2ms/step - loss: 0.3065 - accuracy: 0.8804 - val_loss: 0.3058 - val_accuracy: 0.8791\n",
      "Epoch 15/100\n",
      "3750/3750 [==============================] - 9s 2ms/step - loss: 0.3062 - accuracy: 0.8803 - val_loss: 0.3044 - val_accuracy: 0.8796\n",
      "Epoch 16/100\n",
      "3750/3750 [==============================] - 11s 3ms/step - loss: 0.3060 - accuracy: 0.8803 - val_loss: 0.3051 - val_accuracy: 0.8792\n",
      "Epoch 17/100\n",
      "3750/3750 [==============================] - 10s 3ms/step - loss: 0.3057 - accuracy: 0.8805 - val_loss: 0.3034 - val_accuracy: 0.8798\n",
      "Epoch 18/100\n",
      "3750/3750 [==============================] - 11s 3ms/step - loss: 0.3056 - accuracy: 0.8804 - val_loss: 0.3043 - val_accuracy: 0.8802\n",
      "Epoch 19/100\n",
      "3750/3750 [==============================] - 9s 2ms/step - loss: 0.3052 - accuracy: 0.8806 - val_loss: 0.3054 - val_accuracy: 0.8801\n",
      "Epoch 20/100\n",
      "3750/3750 [==============================] - 9s 2ms/step - loss: 0.3051 - accuracy: 0.8804 - val_loss: 0.3026 - val_accuracy: 0.8798\n",
      "Epoch 21/100\n",
      "3750/3750 [==============================] - 9s 2ms/step - loss: 0.3046 - accuracy: 0.8805 - val_loss: 0.3033 - val_accuracy: 0.8798\n",
      "Epoch 22/100\n",
      "3750/3750 [==============================] - 9s 2ms/step - loss: 0.3045 - accuracy: 0.8806 - val_loss: 0.3033 - val_accuracy: 0.8798\n",
      "Epoch 23/100\n",
      "3750/3750 [==============================] - 9s 2ms/step - loss: 0.3041 - accuracy: 0.8808 - val_loss: 0.3030 - val_accuracy: 0.8803\n",
      "Epoch 24/100\n",
      "3750/3750 [==============================] - 9s 2ms/step - loss: 0.3039 - accuracy: 0.8806 - val_loss: 0.3024 - val_accuracy: 0.8804\n",
      "Epoch 25/100\n",
      "3750/3750 [==============================] - 9s 2ms/step - loss: 0.3035 - accuracy: 0.8805 - val_loss: 0.3017 - val_accuracy: 0.8802\n",
      "Epoch 26/100\n",
      "3750/3750 [==============================] - 9s 2ms/step - loss: 0.3034 - accuracy: 0.8805 - val_loss: 0.3015 - val_accuracy: 0.8795\n",
      "Epoch 27/100\n",
      "3750/3750 [==============================] - 9s 2ms/step - loss: 0.3032 - accuracy: 0.8808 - val_loss: 0.3028 - val_accuracy: 0.8795\n",
      "Epoch 28/100\n",
      "3750/3750 [==============================] - 9s 2ms/step - loss: 0.3029 - accuracy: 0.8806 - val_loss: 0.3012 - val_accuracy: 0.8801\n",
      "Epoch 29/100\n",
      "3750/3750 [==============================] - 9s 2ms/step - loss: 0.3024 - accuracy: 0.8806 - val_loss: 0.3010 - val_accuracy: 0.8802\n",
      "Epoch 30/100\n",
      "3750/3750 [==============================] - 9s 2ms/step - loss: 0.3020 - accuracy: 0.8805 - val_loss: 0.3002 - val_accuracy: 0.8804\n",
      "Epoch 31/100\n",
      "3750/3750 [==============================] - 9s 2ms/step - loss: 0.3017 - accuracy: 0.8807 - val_loss: 0.3019 - val_accuracy: 0.8804\n",
      "Epoch 32/100\n",
      "3750/3750 [==============================] - 12s 3ms/step - loss: 0.3013 - accuracy: 0.8806 - val_loss: 0.3017 - val_accuracy: 0.8794\n",
      "Epoch 33/100\n",
      "3750/3750 [==============================] - 12s 3ms/step - loss: 0.3011 - accuracy: 0.8807 - val_loss: 0.3008 - val_accuracy: 0.8802\n",
      "Epoch 34/100\n",
      "3750/3750 [==============================] - 11s 3ms/step - loss: 0.3010 - accuracy: 0.8808 - val_loss: 0.3000 - val_accuracy: 0.8805\n",
      "Epoch 35/100\n",
      "3750/3750 [==============================] - 11s 3ms/step - loss: 0.3006 - accuracy: 0.8807 - val_loss: 0.3006 - val_accuracy: 0.8797\n",
      "Epoch 36/100\n",
      "3750/3750 [==============================] - 9s 2ms/step - loss: 0.3006 - accuracy: 0.8807 - val_loss: 0.3007 - val_accuracy: 0.8803\n",
      "Epoch 37/100\n",
      "3750/3750 [==============================] - 9s 2ms/step - loss: 0.3004 - accuracy: 0.8808 - val_loss: 0.2989 - val_accuracy: 0.8802\n",
      "Epoch 38/100\n",
      "3750/3750 [==============================] - 9s 2ms/step - loss: 0.3003 - accuracy: 0.8809 - val_loss: 0.2994 - val_accuracy: 0.8802\n",
      "Epoch 39/100\n",
      "3750/3750 [==============================] - 9s 2ms/step - loss: 0.2999 - accuracy: 0.8811 - val_loss: 0.2990 - val_accuracy: 0.8804\n",
      "Epoch 40/100\n",
      "3750/3750 [==============================] - 9s 2ms/step - loss: 0.2997 - accuracy: 0.8810 - val_loss: 0.2994 - val_accuracy: 0.8799\n",
      "Epoch 41/100\n",
      "3750/3750 [==============================] - 9s 2ms/step - loss: 0.2997 - accuracy: 0.8809 - val_loss: 0.3002 - val_accuracy: 0.8791\n",
      "Epoch 42/100\n",
      "3750/3750 [==============================] - 9s 2ms/step - loss: 0.2997 - accuracy: 0.8810 - val_loss: 0.2989 - val_accuracy: 0.8800\n",
      "Epoch 43/100\n",
      "3750/3750 [==============================] - 9s 2ms/step - loss: 0.2994 - accuracy: 0.8809 - val_loss: 0.2986 - val_accuracy: 0.8800\n",
      "Epoch 44/100\n",
      "3750/3750 [==============================] - 9s 2ms/step - loss: 0.2994 - accuracy: 0.8811 - val_loss: 0.3014 - val_accuracy: 0.8800\n",
      "Epoch 45/100\n",
      "3750/3750 [==============================] - 9s 2ms/step - loss: 0.2993 - accuracy: 0.8810 - val_loss: 0.3001 - val_accuracy: 0.8796\n",
      "Epoch 46/100\n",
      "3750/3750 [==============================] - 9s 2ms/step - loss: 0.2990 - accuracy: 0.8811 - val_loss: 0.2990 - val_accuracy: 0.8803\n",
      "Epoch 47/100\n",
      "3750/3750 [==============================] - 9s 2ms/step - loss: 0.2990 - accuracy: 0.8810 - val_loss: 0.3006 - val_accuracy: 0.8803\n",
      "Epoch 48/100\n",
      "3750/3750 [==============================] - 9s 2ms/step - loss: 0.2990 - accuracy: 0.8810 - val_loss: 0.2989 - val_accuracy: 0.8802\n",
      "Epoch 49/100\n",
      "3750/3750 [==============================] - 9s 2ms/step - loss: 0.2984 - accuracy: 0.8811 - val_loss: 0.2991 - val_accuracy: 0.8805\n",
      "Epoch 50/100\n",
      "3750/3750 [==============================] - 9s 2ms/step - loss: 0.2984 - accuracy: 0.8809 - val_loss: 0.2999 - val_accuracy: 0.8801\n",
      "Epoch 51/100\n",
      "3750/3750 [==============================] - 10s 3ms/step - loss: 0.2983 - accuracy: 0.8810 - val_loss: 0.2996 - val_accuracy: 0.8800\n",
      "Epoch 52/100\n",
      "3750/3750 [==============================] - 10s 3ms/step - loss: 0.2981 - accuracy: 0.8813 - val_loss: 0.2978 - val_accuracy: 0.8801\n",
      "Epoch 53/100\n",
      "3750/3750 [==============================] - 10s 3ms/step - loss: 0.2982 - accuracy: 0.8810 - val_loss: 0.2990 - val_accuracy: 0.8802\n",
      "Epoch 54/100\n",
      "3750/3750 [==============================] - 10s 3ms/step - loss: 0.2978 - accuracy: 0.8813 - val_loss: 0.2977 - val_accuracy: 0.8810\n",
      "Epoch 55/100\n",
      "3750/3750 [==============================] - 9s 2ms/step - loss: 0.2977 - accuracy: 0.8813 - val_loss: 0.2996 - val_accuracy: 0.8799\n",
      "Epoch 56/100\n",
      "3750/3750 [==============================] - 9s 2ms/step - loss: 0.2976 - accuracy: 0.8809 - val_loss: 0.2979 - val_accuracy: 0.8806\n",
      "Epoch 57/100\n",
      "3750/3750 [==============================] - 9s 2ms/step - loss: 0.2976 - accuracy: 0.8813 - val_loss: 0.2982 - val_accuracy: 0.8806\n",
      "Epoch 58/100\n",
      "3750/3750 [==============================] - 8s 2ms/step - loss: 0.2977 - accuracy: 0.8812 - val_loss: 0.2981 - val_accuracy: 0.8799\n",
      "Epoch 59/100\n",
      "3750/3750 [==============================] - 7s 2ms/step - loss: 0.2974 - accuracy: 0.8812 - val_loss: 0.2980 - val_accuracy: 0.8796\n",
      "Epoch 60/100\n",
      "3750/3750 [==============================] - 7s 2ms/step - loss: 0.2974 - accuracy: 0.8812 - val_loss: 0.2983 - val_accuracy: 0.8801\n",
      "Epoch 61/100\n",
      "3750/3750 [==============================] - 7s 2ms/step - loss: 0.2972 - accuracy: 0.8811 - val_loss: 0.2977 - val_accuracy: 0.8803\n",
      "Epoch 62/100\n",
      "3750/3750 [==============================] - 7s 2ms/step - loss: 0.2969 - accuracy: 0.8813 - val_loss: 0.2972 - val_accuracy: 0.8803\n",
      "Epoch 63/100\n",
      "3750/3750 [==============================] - 7s 2ms/step - loss: 0.2972 - accuracy: 0.8813 - val_loss: 0.2978 - val_accuracy: 0.8804\n",
      "Epoch 64/100\n",
      "3750/3750 [==============================] - 7s 2ms/step - loss: 0.2970 - accuracy: 0.8813 - val_loss: 0.2969 - val_accuracy: 0.8805\n",
      "Epoch 65/100\n",
      "3750/3750 [==============================] - 7s 2ms/step - loss: 0.2967 - accuracy: 0.8811 - val_loss: 0.2978 - val_accuracy: 0.8806\n",
      "Epoch 66/100\n",
      "3750/3750 [==============================] - 7s 2ms/step - loss: 0.2969 - accuracy: 0.8810 - val_loss: 0.2965 - val_accuracy: 0.8805\n",
      "Epoch 67/100\n",
      "3750/3750 [==============================] - 7s 2ms/step - loss: 0.2968 - accuracy: 0.8811 - val_loss: 0.2967 - val_accuracy: 0.8803\n",
      "Epoch 68/100\n",
      "3750/3750 [==============================] - 7s 2ms/step - loss: 0.2964 - accuracy: 0.8815 - val_loss: 0.2967 - val_accuracy: 0.8803\n",
      "Epoch 69/100\n",
      "3750/3750 [==============================] - 7s 2ms/step - loss: 0.2966 - accuracy: 0.8814 - val_loss: 0.2976 - val_accuracy: 0.8799\n",
      "Epoch 70/100\n",
      "3750/3750 [==============================] - 7s 2ms/step - loss: 0.2965 - accuracy: 0.8813 - val_loss: 0.2977 - val_accuracy: 0.8802\n",
      "Epoch 71/100\n",
      "3750/3750 [==============================] - 7s 2ms/step - loss: 0.2965 - accuracy: 0.8814 - val_loss: 0.2968 - val_accuracy: 0.8805\n",
      "Epoch 72/100\n",
      "3750/3750 [==============================] - 7s 2ms/step - loss: 0.2964 - accuracy: 0.8813 - val_loss: 0.2974 - val_accuracy: 0.8802\n",
      "Epoch 73/100\n",
      "3750/3750 [==============================] - 7s 2ms/step - loss: 0.2961 - accuracy: 0.8813 - val_loss: 0.2972 - val_accuracy: 0.8802\n",
      "Epoch 74/100\n",
      "3750/3750 [==============================] - 7s 2ms/step - loss: 0.2962 - accuracy: 0.8812 - val_loss: 0.2981 - val_accuracy: 0.8802\n",
      "Epoch 75/100\n",
      "3750/3750 [==============================] - 7s 2ms/step - loss: 0.2961 - accuracy: 0.8812 - val_loss: 0.2974 - val_accuracy: 0.8807\n",
      "Epoch 76/100\n",
      "3750/3750 [==============================] - 7s 2ms/step - loss: 0.2959 - accuracy: 0.8814 - val_loss: 0.2962 - val_accuracy: 0.8804\n",
      "Epoch 77/100\n",
      "3750/3750 [==============================] - 7s 2ms/step - loss: 0.2961 - accuracy: 0.8814 - val_loss: 0.2971 - val_accuracy: 0.8807\n",
      "Epoch 78/100\n",
      "3750/3750 [==============================] - 7s 2ms/step - loss: 0.2960 - accuracy: 0.8814 - val_loss: 0.2974 - val_accuracy: 0.8801\n",
      "Epoch 79/100\n",
      "3750/3750 [==============================] - 7s 2ms/step - loss: 0.2957 - accuracy: 0.8815 - val_loss: 0.3006 - val_accuracy: 0.8793\n",
      "Epoch 80/100\n",
      "3750/3750 [==============================] - 8s 2ms/step - loss: 0.2957 - accuracy: 0.8814 - val_loss: 0.2993 - val_accuracy: 0.8800\n",
      "Epoch 81/100\n",
      "3750/3750 [==============================] - 8s 2ms/step - loss: 0.2955 - accuracy: 0.8814 - val_loss: 0.2976 - val_accuracy: 0.8802\n",
      "Epoch 82/100\n",
      "3750/3750 [==============================] - 8s 2ms/step - loss: 0.2956 - accuracy: 0.8816 - val_loss: 0.2967 - val_accuracy: 0.8807\n",
      "Epoch 83/100\n",
      "3750/3750 [==============================] - 7s 2ms/step - loss: 0.2955 - accuracy: 0.8816 - val_loss: 0.2985 - val_accuracy: 0.8804\n",
      "Epoch 84/100\n",
      "3750/3750 [==============================] - 7s 2ms/step - loss: 0.2954 - accuracy: 0.8816 - val_loss: 0.2960 - val_accuracy: 0.8801\n",
      "Epoch 85/100\n",
      "3750/3750 [==============================] - 7s 2ms/step - loss: 0.2955 - accuracy: 0.8814 - val_loss: 0.2957 - val_accuracy: 0.8809\n",
      "Epoch 86/100\n",
      "3750/3750 [==============================] - 7s 2ms/step - loss: 0.2954 - accuracy: 0.8815 - val_loss: 0.2971 - val_accuracy: 0.8805\n",
      "Epoch 87/100\n",
      "3750/3750 [==============================] - 7s 2ms/step - loss: 0.2951 - accuracy: 0.8815 - val_loss: 0.2967 - val_accuracy: 0.8801\n",
      "Epoch 88/100\n",
      "3750/3750 [==============================] - 7s 2ms/step - loss: 0.2953 - accuracy: 0.8815 - val_loss: 0.2958 - val_accuracy: 0.8808\n",
      "Epoch 89/100\n",
      "3750/3750 [==============================] - 7s 2ms/step - loss: 0.2950 - accuracy: 0.8815 - val_loss: 0.2972 - val_accuracy: 0.8802\n",
      "Epoch 90/100\n",
      "3750/3750 [==============================] - 7s 2ms/step - loss: 0.2950 - accuracy: 0.8818 - val_loss: 0.2966 - val_accuracy: 0.8805\n",
      "Epoch 91/100\n",
      "3750/3750 [==============================] - 7s 2ms/step - loss: 0.2950 - accuracy: 0.8815 - val_loss: 0.2974 - val_accuracy: 0.8799\n",
      "Epoch 92/100\n",
      "3750/3750 [==============================] - 7s 2ms/step - loss: 0.2948 - accuracy: 0.8818 - val_loss: 0.2965 - val_accuracy: 0.8806\n",
      "Epoch 93/100\n",
      "3750/3750 [==============================] - 7s 2ms/step - loss: 0.2947 - accuracy: 0.8815 - val_loss: 0.2981 - val_accuracy: 0.8805\n",
      "Epoch 94/100\n",
      "3750/3750 [==============================] - 7s 2ms/step - loss: 0.2947 - accuracy: 0.8817 - val_loss: 0.2971 - val_accuracy: 0.8803\n",
      "Epoch 95/100\n",
      "3750/3750 [==============================] - 7s 2ms/step - loss: 0.2946 - accuracy: 0.8816 - val_loss: 0.2975 - val_accuracy: 0.8805\n"
     ]
    }
   ],
   "source": [
    "from keras.callbacks import EarlyStopping\n",
    "\n",
    "# EarlyStopping 콜백 정의\n",
    "early_stopping = EarlyStopping(monitor='val_loss', patience=10, restore_best_weights=True)\n",
    "\n",
    "# 모델 컴파일\n",
    "model.compile(optimizer='adam', loss='binary_crossentropy', metrics=['accuracy'])\n",
    "\n",
    "# 모델 학습\n",
    "history = model.fit(X_train_scaled, y_train, validation_data=(X_test_scaled, y_test), epochs=100, batch_size=64, callbacks=[early_stopping])\n"
   ]
  },
  {
   "cell_type": "code",
   "execution_count": 8,
   "id": "210ebc11",
   "metadata": {
    "ExecuteTime": {
     "end_time": "2023-04-22T12:22:29.730063Z",
     "start_time": "2023-04-22T12:22:27.081423Z"
    }
   },
   "outputs": [
    {
     "name": "stdout",
     "output_type": "stream",
     "text": [
      "1875/1875 [==============================] - 3s 1ms/step - loss: 0.2957 - accuracy: 0.8809\n",
      "Test accuracy: 0.8809166550636292\n"
     ]
    }
   ],
   "source": [
    "loss, accuracy = model.evaluate(X_test_scaled, y_test)\n",
    "print('Test accuracy:', accuracy)"
   ]
  },
  {
   "cell_type": "code",
   "execution_count": 12,
   "id": "b35c1481",
   "metadata": {
    "ExecuteTime": {
     "end_time": "2023-04-22T13:47:30.948354Z",
     "start_time": "2023-04-22T13:47:30.926442Z"
    }
   },
   "outputs": [
    {
     "name": "stdout",
     "output_type": "stream",
     "text": [
      "Test loss:  0.2957203686237335\n"
     ]
    }
   ],
   "source": [
    "print('Test loss: ', loss)"
   ]
  },
  {
   "cell_type": "code",
   "execution_count": 9,
   "id": "558809dc",
   "metadata": {
    "ExecuteTime": {
     "end_time": "2023-04-22T12:22:30.673165Z",
     "start_time": "2023-04-22T12:22:29.732067Z"
    }
   },
   "outputs": [
    {
     "data": {
      "image/png": "[encoded data removed]",
      "text/plain": [
       "<Figure size 432x288 with 1 Axes>"
      ]
     },
     "metadata": {
      "needs_background": "light"
     },
     "output_type": "display_data"
    },
    {
     "data": {
      "image/png": "[encoded data removed]",
      "text/plain": [
       "<Figure size 432x288 with 1 Axes>"
      ]
     },
     "metadata": {
      "needs_background": "light"
     },
     "output_type": "display_data"
    }
   ],
   "source": [
    "import matplotlib.pyplot as plt\n",
    "# history 객체에서 손실값과 정확도를 추출합니다.\n",
    "train_loss = history.history['loss']\n",
    "val_loss = history.history['val_loss']\n",
    "train_acc = history.history['accuracy']\n",
    "val_acc = history.history['val_accuracy']\n",
    "\n",
    "# 손실값 그래프\n",
    "plt.plot(train_loss, label='train_loss')\n",
    "plt.plot(val_loss, label='val_loss')\n",
    "plt.legend()\n",
    "plt.title('Loss')\n",
    "plt.show()\n",
    "\n",
    "# 정확도 그래프\n",
    "plt.plot(train_acc, label='train_acc')\n",
    "plt.plot(val_acc, label='val_acc')\n",
    "plt.legend()\n",
    "plt.title('Accuracy')\n",
    "plt.show()\n"
   ]
  },
  {
   "cell_type": "code",
   "execution_count": 10,
   "id": "57f6c378",
   "metadata": {
    "ExecuteTime": {
     "end_time": "2023-04-22T12:22:30.715191Z",
     "start_time": "2023-04-22T12:22:30.673165Z"
    }
   },
   "outputs": [],
   "source": [
    "model.save('test_Check_ANN.h')"
   ]
  }
 ],
 "metadata": {
  "kernelspec": {
   "display_name": "Python 3 (ipykernel)",
   "language": "python",
   "name": "python3"
  },
  "language_info": {
   "codemirror_mode": {
    "name": "ipython",
    "version": 3
   },
   "file_extension": ".py",
   "mimetype": "text/x-python",
   "name": "python",
   "nbconvert_exporter": "python",
   "pygments_lexer": "ipython3",
   "version": "3.9.12"
  },
  "toc": {
   "base_numbering": 1,
   "nav_menu": {},
   "number_sections": false,
   "sideBar": true,
   "skip_h1_title": false,
   "title_cell": "Table of Contents",
   "title_sidebar": "Contents",
   "toc_cell": false,
   "toc_position": {},
   "toc_section_display": true,
   "toc_window_display": false
  },
  "varInspector": {
   "cols": {
    "lenName": 16,
    "lenType": 16,
    "lenVar": 40
   },
   "kernels_config": {
    "python": {
     "delete_cmd_postfix": "",
     "delete_cmd_prefix": "del ",
     "library": "var_list.py",
     "varRefreshCmd": "print(var_dic_list())"
    },
    "r": {
     "delete_cmd_postfix": ") ",
     "delete_cmd_prefix": "rm(",
     "library": "var_list.r",
     "varRefreshCmd": "cat(var_dic_list()) "
    }
   },
   "types_to_exclude": [
    "module",
    "function",
    "builtin_function_or_method",
    "instance",
    "_Feature"
   ],
   "window_display": false
  }
 },
 "nbformat": 4,
 "nbformat_minor": 5
}
