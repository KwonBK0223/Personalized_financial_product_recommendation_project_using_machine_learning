{
 "cells": [
  {
   "cell_type": "markdown",
   "id": "0caba201",
   "metadata": {},
   "source": [
    "# 온라인 계좌_ANN+MinMaxScaling"
   ]
  },
  {
   "cell_type": "code",
   "execution_count": 1,
   "id": "094c60c3",
   "metadata": {
    "ExecuteTime": {
     "end_time": "2023-04-22T12:09:17.015384Z",
     "start_time": "2023-04-22T12:07:21.205479Z"
    }
   },
   "outputs": [],
   "source": [
    "import pandas as pd\n",
    "from sklearn.model_selection import train_test_split\n",
    "from tensorflow.keras.models import Sequential\n",
    "from tensorflow.keras.layers import Dense\n",
    "\n",
    "# 데이터 불러오기\n",
    "data = pd.read_excel('bank_pre.xlsx')"
   ]
  },
  {
   "cell_type": "code",
   "execution_count": 2,
   "id": "aaa501ee",
   "metadata": {
    "ExecuteTime": {
     "end_time": "2023-04-22T12:09:17.106141Z",
     "start_time": "2023-04-22T12:09:17.019373Z"
    }
   },
   "outputs": [
    {
     "name": "stdout",
     "output_type": "stream",
     "text": [
      "<class 'pandas.core.frame.DataFrame'>\n",
      "RangeIndex: 300000 entries, 0 to 299999\n",
      "Data columns (total 12 columns):\n",
      " #   Column         Non-Null Count   Dtype  \n",
      "---  ------         --------------   -----  \n",
      " 0   해외 거주 여부       300000 non-null  int64  \n",
      " 1   성별             300000 non-null  int64  \n",
      " 2   나이             300000 non-null  int64  \n",
      " 3   신규 고객(6개월 이내)  300000 non-null  int64  \n",
      " 4   거래 누적 기간(월)    300000 non-null  int64  \n",
      " 5   지역 코드          300000 non-null  int64  \n",
      " 6   고객 활성화 상태      300000 non-null  int64  \n",
      " 7   가구 소득          300000 non-null  float64\n",
      " 8   고객 구분          300000 non-null  int64  \n",
      " 9   특별계좌           300000 non-null  int64  \n",
      " 10  온라인 계좌         300000 non-null  int64  \n",
      " 11  체크카드           300000 non-null  int64  \n",
      "dtypes: float64(1), int64(11)\n",
      "memory usage: 27.5 MB\n"
     ]
    }
   ],
   "source": [
    "data.info()"
   ]
  },
  {
   "cell_type": "code",
   "execution_count": 3,
   "id": "eb66ed9b",
   "metadata": {
    "ExecuteTime": {
     "end_time": "2023-04-22T12:09:17.136060Z",
     "start_time": "2023-04-22T12:09:17.109134Z"
    }
   },
   "outputs": [],
   "source": [
    "# 입력 변수와 출력 변수 분리\n",
    "X = data.drop(columns=['특별계좌', '온라인 계좌', '체크카드'])\n",
    "y = data[['온라인 계좌']]"
   ]
  },
  {
   "cell_type": "code",
   "execution_count": 4,
   "id": "0137fb80",
   "metadata": {
    "ExecuteTime": {
     "end_time": "2023-04-22T12:09:17.255869Z",
     "start_time": "2023-04-22T12:09:17.140050Z"
    }
   },
   "outputs": [],
   "source": [
    "# 데이터를 훈련용과 검증용으로 분리\n",
    "X_train, X_test, y_train, y_test = train_test_split(X, y, test_size=0.2, random_state=1)"
   ]
  },
  {
   "cell_type": "code",
   "execution_count": 5,
   "id": "4211c323",
   "metadata": {
    "ExecuteTime": {
     "end_time": "2023-04-22T12:09:17.330665Z",
     "start_time": "2023-04-22T12:09:17.259856Z"
    }
   },
   "outputs": [],
   "source": [
    "from sklearn.preprocessing import MinMaxScaler\n",
    "\n",
    "# 스케일링\n",
    "scaler = MinMaxScaler()\n",
    "X_train_scaled = scaler.fit_transform(X_train)\n",
    "X_test_scaled = scaler.transform(X_test)"
   ]
  },
  {
   "cell_type": "code",
   "execution_count": 6,
   "id": "a6811cae",
   "metadata": {
    "ExecuteTime": {
     "end_time": "2023-04-22T12:09:17.496657Z",
     "start_time": "2023-04-22T12:09:17.332661Z"
    }
   },
   "outputs": [],
   "source": [
    "# 모델 설계\n",
    "from tensorflow.keras.models import Sequential\n",
    "model = Sequential()\n",
    "\n",
    "model.add(Dense(64, input_dim=X_train_scaled.shape[1], activation='relu'))\n",
    "model.add(Dense(32, activation='relu'))\n",
    "model.add(Dense(32, activation='relu'))\n",
    "model.add(Dense(1, activation='sigmoid'))"
   ]
  },
  {
   "cell_type": "code",
   "execution_count": 7,
   "id": "0632b013",
   "metadata": {
    "ExecuteTime": {
     "end_time": "2023-04-22T12:18:17.868931Z",
     "start_time": "2023-04-22T12:09:17.498651Z"
    },
    "scrolled": false
   },
   "outputs": [
    {
     "name": "stdout",
     "output_type": "stream",
     "text": [
      "Epoch 1/100\n",
      "3750/3750 [==============================] - 10s 2ms/step - loss: 0.3507 - accuracy: 0.8649 - val_loss: 0.3387 - val_accuracy: 0.8669\n",
      "Epoch 2/100\n",
      "3750/3750 [==============================] - 9s 2ms/step - loss: 0.3323 - accuracy: 0.8749 - val_loss: 0.3295 - val_accuracy: 0.8816\n",
      "Epoch 3/100\n",
      "3750/3750 [==============================] - 9s 2ms/step - loss: 0.3230 - accuracy: 0.8844 - val_loss: 0.3190 - val_accuracy: 0.8864\n",
      "Epoch 4/100\n",
      "3750/3750 [==============================] - 9s 2ms/step - loss: 0.3161 - accuracy: 0.8873 - val_loss: 0.3151 - val_accuracy: 0.8874\n",
      "Epoch 5/100\n",
      "3750/3750 [==============================] - 9s 2ms/step - loss: 0.3129 - accuracy: 0.8881 - val_loss: 0.3148 - val_accuracy: 0.8861\n",
      "Epoch 6/100\n",
      "3750/3750 [==============================] - 9s 2ms/step - loss: 0.3118 - accuracy: 0.8884 - val_loss: 0.3137 - val_accuracy: 0.8870\n",
      "Epoch 7/100\n",
      "3750/3750 [==============================] - 9s 2ms/step - loss: 0.3104 - accuracy: 0.8887 - val_loss: 0.3157 - val_accuracy: 0.8873\n",
      "Epoch 8/100\n",
      "3750/3750 [==============================] - 9s 2ms/step - loss: 0.3098 - accuracy: 0.8889 - val_loss: 0.3104 - val_accuracy: 0.8882\n",
      "Epoch 9/100\n",
      "3750/3750 [==============================] - 9s 2ms/step - loss: 0.3093 - accuracy: 0.8888 - val_loss: 0.3126 - val_accuracy: 0.8868\n",
      "Epoch 10/100\n",
      "3750/3750 [==============================] - 9s 2ms/step - loss: 0.3086 - accuracy: 0.8889 - val_loss: 0.3113 - val_accuracy: 0.8876\n",
      "Epoch 11/100\n",
      "3750/3750 [==============================] - 9s 2ms/step - loss: 0.3082 - accuracy: 0.8891 - val_loss: 0.3096 - val_accuracy: 0.8874\n",
      "Epoch 12/100\n",
      "3750/3750 [==============================] - 9s 2ms/step - loss: 0.3078 - accuracy: 0.8893 - val_loss: 0.3119 - val_accuracy: 0.8864\n",
      "Epoch 13/100\n",
      "3750/3750 [==============================] - 9s 2ms/step - loss: 0.3073 - accuracy: 0.8893 - val_loss: 0.3109 - val_accuracy: 0.8874\n",
      "Epoch 14/100\n",
      "3750/3750 [==============================] - 9s 2ms/step - loss: 0.3070 - accuracy: 0.8894 - val_loss: 0.3104 - val_accuracy: 0.8882\n",
      "Epoch 15/100\n",
      "3750/3750 [==============================] - 9s 2ms/step - loss: 0.3067 - accuracy: 0.8895 - val_loss: 0.3097 - val_accuracy: 0.8875\n",
      "Epoch 16/100\n",
      "3750/3750 [==============================] - 11s 3ms/step - loss: 0.3065 - accuracy: 0.8894 - val_loss: 0.3081 - val_accuracy: 0.8885\n",
      "Epoch 17/100\n",
      "3750/3750 [==============================] - 10s 3ms/step - loss: 0.3061 - accuracy: 0.8895 - val_loss: 0.3080 - val_accuracy: 0.8885\n",
      "Epoch 18/100\n",
      "3750/3750 [==============================] - 11s 3ms/step - loss: 0.3058 - accuracy: 0.8896 - val_loss: 0.3075 - val_accuracy: 0.8886\n",
      "Epoch 19/100\n",
      "3750/3750 [==============================] - 9s 2ms/step - loss: 0.3055 - accuracy: 0.8896 - val_loss: 0.3078 - val_accuracy: 0.8880\n",
      "Epoch 20/100\n",
      "3750/3750 [==============================] - 9s 2ms/step - loss: 0.3054 - accuracy: 0.8897 - val_loss: 0.3084 - val_accuracy: 0.8885\n",
      "Epoch 21/100\n",
      "3750/3750 [==============================] - 9s 2ms/step - loss: 0.3051 - accuracy: 0.8898 - val_loss: 0.3073 - val_accuracy: 0.8877\n",
      "Epoch 22/100\n",
      "3750/3750 [==============================] - 9s 2ms/step - loss: 0.3049 - accuracy: 0.8897 - val_loss: 0.3073 - val_accuracy: 0.8882\n",
      "Epoch 23/100\n",
      "3750/3750 [==============================] - 9s 2ms/step - loss: 0.3047 - accuracy: 0.8897 - val_loss: 0.3071 - val_accuracy: 0.8875\n",
      "Epoch 24/100\n",
      "3750/3750 [==============================] - 9s 2ms/step - loss: 0.3046 - accuracy: 0.8897 - val_loss: 0.3073 - val_accuracy: 0.8879\n",
      "Epoch 25/100\n",
      "3750/3750 [==============================] - 9s 2ms/step - loss: 0.3045 - accuracy: 0.8898 - val_loss: 0.3076 - val_accuracy: 0.8879\n",
      "Epoch 26/100\n",
      "3750/3750 [==============================] - 9s 2ms/step - loss: 0.3041 - accuracy: 0.8897 - val_loss: 0.3066 - val_accuracy: 0.8877\n",
      "Epoch 27/100\n",
      "3750/3750 [==============================] - 9s 2ms/step - loss: 0.3038 - accuracy: 0.8899 - val_loss: 0.3088 - val_accuracy: 0.8878\n",
      "Epoch 28/100\n",
      "3750/3750 [==============================] - 9s 2ms/step - loss: 0.3039 - accuracy: 0.8898 - val_loss: 0.3073 - val_accuracy: 0.8883\n",
      "Epoch 29/100\n",
      "3750/3750 [==============================] - 9s 2ms/step - loss: 0.3036 - accuracy: 0.8898 - val_loss: 0.3071 - val_accuracy: 0.8884\n",
      "Epoch 30/100\n",
      "3750/3750 [==============================] - 9s 2ms/step - loss: 0.3036 - accuracy: 0.8898 - val_loss: 0.3087 - val_accuracy: 0.8878\n",
      "Epoch 31/100\n",
      "3750/3750 [==============================] - 9s 2ms/step - loss: 0.3035 - accuracy: 0.8898 - val_loss: 0.3062 - val_accuracy: 0.8885\n",
      "Epoch 32/100\n",
      "3750/3750 [==============================] - 12s 3ms/step - loss: 0.3030 - accuracy: 0.8900 - val_loss: 0.3062 - val_accuracy: 0.8882\n",
      "Epoch 33/100\n",
      "3750/3750 [==============================] - 12s 3ms/step - loss: 0.3032 - accuracy: 0.8900 - val_loss: 0.3087 - val_accuracy: 0.8883\n",
      "Epoch 34/100\n",
      "3750/3750 [==============================] - 11s 3ms/step - loss: 0.3030 - accuracy: 0.8901 - val_loss: 0.3060 - val_accuracy: 0.8882\n",
      "Epoch 35/100\n",
      "3750/3750 [==============================] - 11s 3ms/step - loss: 0.3027 - accuracy: 0.8900 - val_loss: 0.3050 - val_accuracy: 0.8886\n",
      "Epoch 36/100\n",
      "3750/3750 [==============================] - 9s 2ms/step - loss: 0.3025 - accuracy: 0.8900 - val_loss: 0.3051 - val_accuracy: 0.8885\n",
      "Epoch 37/100\n",
      "3750/3750 [==============================] - 9s 2ms/step - loss: 0.3026 - accuracy: 0.8901 - val_loss: 0.3046 - val_accuracy: 0.8884\n",
      "Epoch 38/100\n",
      "3750/3750 [==============================] - 9s 2ms/step - loss: 0.3024 - accuracy: 0.8899 - val_loss: 0.3060 - val_accuracy: 0.8876\n",
      "Epoch 39/100\n",
      "3750/3750 [==============================] - 9s 2ms/step - loss: 0.3022 - accuracy: 0.8902 - val_loss: 0.3066 - val_accuracy: 0.8881\n",
      "Epoch 40/100\n",
      "3750/3750 [==============================] - 9s 2ms/step - loss: 0.3023 - accuracy: 0.8900 - val_loss: 0.3054 - val_accuracy: 0.8889\n",
      "Epoch 41/100\n",
      "3750/3750 [==============================] - 9s 2ms/step - loss: 0.3019 - accuracy: 0.8900 - val_loss: 0.3055 - val_accuracy: 0.8884\n",
      "Epoch 42/100\n",
      "3750/3750 [==============================] - 9s 2ms/step - loss: 0.3021 - accuracy: 0.8900 - val_loss: 0.3049 - val_accuracy: 0.8888\n",
      "Epoch 43/100\n",
      "3750/3750 [==============================] - 9s 2ms/step - loss: 0.3019 - accuracy: 0.8901 - val_loss: 0.3045 - val_accuracy: 0.8890\n",
      "Epoch 44/100\n",
      "3750/3750 [==============================] - 9s 2ms/step - loss: 0.3016 - accuracy: 0.8901 - val_loss: 0.3050 - val_accuracy: 0.8885\n",
      "Epoch 45/100\n",
      "3750/3750 [==============================] - 9s 2ms/step - loss: 0.3016 - accuracy: 0.8901 - val_loss: 0.3070 - val_accuracy: 0.8877\n",
      "Epoch 46/100\n",
      "3750/3750 [==============================] - 9s 2ms/step - loss: 0.3014 - accuracy: 0.8900 - val_loss: 0.3060 - val_accuracy: 0.8880\n",
      "Epoch 47/100\n",
      "3750/3750 [==============================] - 9s 2ms/step - loss: 0.3013 - accuracy: 0.8902 - val_loss: 0.3053 - val_accuracy: 0.8886\n",
      "Epoch 48/100\n",
      "3750/3750 [==============================] - 9s 2ms/step - loss: 0.3014 - accuracy: 0.8902 - val_loss: 0.3049 - val_accuracy: 0.8888\n",
      "Epoch 49/100\n",
      "3750/3750 [==============================] - 9s 2ms/step - loss: 0.3010 - accuracy: 0.8902 - val_loss: 0.3040 - val_accuracy: 0.8887\n",
      "Epoch 50/100\n",
      "3750/3750 [==============================] - 9s 2ms/step - loss: 0.3009 - accuracy: 0.8902 - val_loss: 0.3073 - val_accuracy: 0.8878\n",
      "Epoch 51/100\n",
      "3750/3750 [==============================] - 9s 3ms/step - loss: 0.3009 - accuracy: 0.8901 - val_loss: 0.3044 - val_accuracy: 0.8886\n",
      "Epoch 52/100\n",
      "3750/3750 [==============================] - 10s 3ms/step - loss: 0.3009 - accuracy: 0.8901 - val_loss: 0.3055 - val_accuracy: 0.8888\n",
      "Epoch 53/100\n",
      "3750/3750 [==============================] - 10s 3ms/step - loss: 0.3008 - accuracy: 0.8901 - val_loss: 0.3071 - val_accuracy: 0.8874\n",
      "Epoch 54/100\n",
      "3750/3750 [==============================] - 9s 3ms/step - loss: 0.3007 - accuracy: 0.8904 - val_loss: 0.3042 - val_accuracy: 0.8887\n",
      "Epoch 55/100\n",
      "3750/3750 [==============================] - 9s 2ms/step - loss: 0.3007 - accuracy: 0.8902 - val_loss: 0.3052 - val_accuracy: 0.8882\n",
      "Epoch 56/100\n",
      "3750/3750 [==============================] - 9s 2ms/step - loss: 0.3006 - accuracy: 0.8901 - val_loss: 0.3050 - val_accuracy: 0.8889\n",
      "Epoch 57/100\n",
      "3750/3750 [==============================] - 9s 2ms/step - loss: 0.3005 - accuracy: 0.8903 - val_loss: 0.3050 - val_accuracy: 0.8887\n",
      "Epoch 58/100\n",
      "3750/3750 [==============================] - 8s 2ms/step - loss: 0.3003 - accuracy: 0.8903 - val_loss: 0.3047 - val_accuracy: 0.8888\n",
      "Epoch 59/100\n",
      "3750/3750 [==============================] - 7s 2ms/step - loss: 0.3003 - accuracy: 0.8904 - val_loss: 0.3049 - val_accuracy: 0.8887\n"
     ]
    }
   ],
   "source": [
    "from keras.callbacks import EarlyStopping\n",
    "\n",
    "# EarlyStopping 콜백 정의\n",
    "early_stopping = EarlyStopping(monitor='val_loss', patience=10, restore_best_weights=True)\n",
    "\n",
    "# 모델 컴파일\n",
    "model.compile(optimizer='adam', loss='binary_crossentropy', metrics=['accuracy'])\n",
    "\n",
    "# 모델 학습\n",
    "history = model.fit(X_train_scaled, y_train, validation_data=(X_test_scaled, y_test), epochs=100, batch_size=64, callbacks=[early_stopping])\n"
   ]
  },
  {
   "cell_type": "code",
   "execution_count": 8,
   "id": "e1456644",
   "metadata": {
    "ExecuteTime": {
     "end_time": "2023-04-22T12:18:20.773012Z",
     "start_time": "2023-04-22T12:18:17.868931Z"
    }
   },
   "outputs": [
    {
     "name": "stdout",
     "output_type": "stream",
     "text": [
      "1875/1875 [==============================] - 3s 1ms/step - loss: 0.3040 - accuracy: 0.8887\n",
      "Test accuracy: 0.8887166380882263\n"
     ]
    }
   ],
   "source": [
    "loss, accuracy = model.evaluate(X_test_scaled, y_test)\n",
    "print('Test accuracy:', accuracy)"
   ]
  },
  {
   "cell_type": "code",
   "execution_count": 11,
   "id": "6e4dfeae",
   "metadata": {
    "ExecuteTime": {
     "end_time": "2023-04-22T13:47:22.911272Z",
     "start_time": "2023-04-22T13:47:22.855519Z"
    }
   },
   "outputs": [
    {
     "name": "stdout",
     "output_type": "stream",
     "text": [
      "Test loss:  0.30395838618278503\n"
     ]
    }
   ],
   "source": [
    "print('Test loss: ', loss)"
   ]
  },
  {
   "cell_type": "code",
   "execution_count": 9,
   "id": "d2e06d75",
   "metadata": {
    "ExecuteTime": {
     "end_time": "2023-04-22T12:18:22.125982Z",
     "start_time": "2023-04-22T12:18:20.773012Z"
    }
   },
   "outputs": [
    {
     "data": {
      "image/png": "[encoded data removed]",
      "text/plain": [
       "<Figure size 432x288 with 1 Axes>"
      ]
     },
     "metadata": {
      "needs_background": "light"
     },
     "output_type": "display_data"
    },
    {
     "data": {
      "image/png": "[encoded data removed]",
      "text/plain": [
       "<Figure size 432x288 with 1 Axes>"
      ]
     },
     "metadata": {
      "needs_background": "light"
     },
     "output_type": "display_data"
    }
   ],
   "source": [
    "import matplotlib.pyplot as plt\n",
    "\n",
    "# history 객체에서 손실값과 정확도를 추출합니다.\n",
    "train_loss = history.history['loss']\n",
    "val_loss = history.history['val_loss']\n",
    "train_acc = history.history['accuracy']\n",
    "val_acc = history.history['val_accuracy']\n",
    "\n",
    "# 손실값 그래프\n",
    "plt.plot(train_loss, label='train_loss')\n",
    "plt.plot(val_loss, label='val_loss')\n",
    "plt.legend()\n",
    "plt.title('Loss')\n",
    "plt.show()\n",
    "\n",
    "# 정확도 그래프\n",
    "plt.plot(train_acc, label='train_acc')\n",
    "plt.plot(val_acc, label='val_acc')\n",
    "plt.legend()\n",
    "plt.title('Accuracy')\n",
    "plt.show()\n"
   ]
  },
  {
   "cell_type": "code",
   "execution_count": 10,
   "id": "a6b473f9",
   "metadata": {
    "ExecuteTime": {
     "end_time": "2023-04-22T12:18:22.172844Z",
     "start_time": "2023-04-22T12:18:22.125982Z"
    }
   },
   "outputs": [],
   "source": [
    "model.save('test_Online_ANN.h5')"
   ]
  }
 ],
 "metadata": {
  "kernelspec": {
   "display_name": "Python 3 (ipykernel)",
   "language": "python",
   "name": "python3"
  },
  "language_info": {
   "codemirror_mode": {
    "name": "ipython",
    "version": 3
   },
   "file_extension": ".py",
   "mimetype": "text/x-python",
   "name": "python",
   "nbconvert_exporter": "python",
   "pygments_lexer": "ipython3",
   "version": "3.9.12"
  },
  "toc": {
   "base_numbering": 1,
   "nav_menu": {},
   "number_sections": false,
   "sideBar": true,
   "skip_h1_title": false,
   "title_cell": "Table of Contents",
   "title_sidebar": "Contents",
   "toc_cell": false,
   "toc_position": {},
   "toc_section_display": true,
   "toc_window_display": false
  },
  "varInspector": {
   "cols": {
    "lenName": 16,
    "lenType": 16,
    "lenVar": 40
   },
   "kernels_config": {
    "python": {
     "delete_cmd_postfix": "",
     "delete_cmd_prefix": "del ",
     "library": "var_list.py",
     "varRefreshCmd": "print(var_dic_list())"
    },
    "r": {
     "delete_cmd_postfix": ") ",
     "delete_cmd_prefix": "rm(",
     "library": "var_list.r",
     "varRefreshCmd": "cat(var_dic_list()) "
    }
   },
   "types_to_exclude": [
    "module",
    "function",
    "builtin_function_or_method",
    "instance",
    "_Feature"
   ],
   "window_display": false
  }
 },
 "nbformat": 4,
 "nbformat_minor": 5
}
