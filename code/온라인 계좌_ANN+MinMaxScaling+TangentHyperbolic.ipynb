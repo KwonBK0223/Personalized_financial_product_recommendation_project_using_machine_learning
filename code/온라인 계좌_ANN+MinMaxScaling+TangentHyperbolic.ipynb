{
 "cells": [
  {
   "cell_type": "markdown",
   "id": "151082ee",
   "metadata": {},
   "source": [
    "# 온라인 계좌_ANN+MinMaxScaling+TangentHyperbolic"
   ]
  },
  {
   "cell_type": "code",
   "execution_count": 1,
   "id": "fef333a5",
   "metadata": {
    "ExecuteTime": {
     "end_time": "2023-04-22T14:46:09.307850Z",
     "start_time": "2023-04-22T14:44:43.117067Z"
    }
   },
   "outputs": [],
   "source": [
    "import pandas as pd\n",
    "from sklearn.model_selection import train_test_split\n",
    "from tensorflow.keras.models import Sequential\n",
    "from tensorflow.keras.layers import Dense\n",
    "\n",
    "# 데이터 불러오기\n",
    "data = pd.read_excel('bank_pre.xlsx')"
   ]
  },
  {
   "cell_type": "code",
   "execution_count": 2,
   "id": "80a583dc",
   "metadata": {
    "ExecuteTime": {
     "end_time": "2023-04-22T14:46:09.436261Z",
     "start_time": "2023-04-22T14:46:09.410330Z"
    }
   },
   "outputs": [
    {
     "name": "stdout",
     "output_type": "stream",
     "text": [
      "<class 'pandas.core.frame.DataFrame'>\n",
      "RangeIndex: 300000 entries, 0 to 299999\n",
      "Data columns (total 12 columns):\n",
      " #   Column         Non-Null Count   Dtype  \n",
      "---  ------         --------------   -----  \n",
      " 0   해외 거주 여부       300000 non-null  int64  \n",
      " 1   성별             300000 non-null  int64  \n",
      " 2   나이             300000 non-null  int64  \n",
      " 3   신규 고객(6개월 이내)  300000 non-null  int64  \n",
      " 4   거래 누적 기간(월)    300000 non-null  int64  \n",
      " 5   지역 코드          300000 non-null  int64  \n",
      " 6   고객 활성화 상태      300000 non-null  int64  \n",
      " 7   가구 소득          300000 non-null  float64\n",
      " 8   고객 구분          300000 non-null  int64  \n",
      " 9   특별계좌           300000 non-null  int64  \n",
      " 10  온라인 계좌         300000 non-null  int64  \n",
      " 11  체크카드           300000 non-null  int64  \n",
      "dtypes: float64(1), int64(11)\n",
      "memory usage: 27.5 MB\n"
     ]
    }
   ],
   "source": [
    "# 데이터 형태와 결측치 확인\n",
    "data.info()"
   ]
  },
  {
   "cell_type": "code",
   "execution_count": 4,
   "id": "4c1afc96",
   "metadata": {
    "ExecuteTime": {
     "end_time": "2023-04-22T14:46:50.091602Z",
     "start_time": "2023-04-22T14:46:50.057781Z"
    }
   },
   "outputs": [],
   "source": [
    "# 입력 변수와 출력 변수 분리\n",
    "X = data.drop(columns=['특별계좌', '온라인 계좌', '체크카드'])\n",
    "y = data[['온라인 계좌']]"
   ]
  },
  {
   "cell_type": "code",
   "execution_count": 5,
   "id": "ceede955",
   "metadata": {
    "ExecuteTime": {
     "end_time": "2023-04-22T14:46:50.303631Z",
     "start_time": "2023-04-22T14:46:50.223139Z"
    }
   },
   "outputs": [],
   "source": [
    "# 데이터를 훈련용과 검증용으로 분리\n",
    "X_train, X_test, y_train, y_test = train_test_split(X, y, test_size=0.2, random_state=1)"
   ]
  },
  {
   "cell_type": "code",
   "execution_count": 7,
   "id": "129a79d5",
   "metadata": {
    "ExecuteTime": {
     "end_time": "2023-04-22T14:47:04.300568Z",
     "start_time": "2023-04-22T14:47:04.232922Z"
    }
   },
   "outputs": [],
   "source": [
    "from sklearn.preprocessing import MinMaxScaler\n",
    "\n",
    "# 스케일링\n",
    "scaler = MinMaxScaler()\n",
    "X_train_scaled = scaler.fit_transform(X_train)\n",
    "X_test_scaled = scaler.transform(X_test)"
   ]
  },
  {
   "cell_type": "code",
   "execution_count": 8,
   "id": "87c541a5",
   "metadata": {
    "ExecuteTime": {
     "end_time": "2023-04-22T14:47:04.619407Z",
     "start_time": "2023-04-22T14:47:04.504196Z"
    }
   },
   "outputs": [],
   "source": [
    "# 모델 설계\n",
    "from tensorflow.keras.models import Sequential\n",
    "model = Sequential()\n",
    "\n",
    "model.add(Dense(64, input_dim=X_train_scaled.shape[1], activation='tanh'))\n",
    "model.add(Dense(32, activation='tanh'))\n",
    "model.add(Dense(32, activation='tanh'))\n",
    "model.add(Dense(1, activation='sigmoid'))"
   ]
  },
  {
   "cell_type": "code",
   "execution_count": 9,
   "id": "df4f3889",
   "metadata": {
    "ExecuteTime": {
     "end_time": "2023-04-22T14:54:08.572067Z",
     "start_time": "2023-04-22T14:47:49.044800Z"
    },
    "scrolled": false
   },
   "outputs": [
    {
     "name": "stdout",
     "output_type": "stream",
     "text": [
      "Epoch 1/100\n",
      "3750/3750 [==============================] - 13s 3ms/step - loss: 0.3643 - accuracy: 0.8592 - val_loss: 0.3473 - val_accuracy: 0.8642\n",
      "Epoch 2/100\n",
      "3750/3750 [==============================] - 10s 3ms/step - loss: 0.3398 - accuracy: 0.8687 - val_loss: 0.3372 - val_accuracy: 0.8675\n",
      "Epoch 3/100\n",
      "3750/3750 [==============================] - 11s 3ms/step - loss: 0.3315 - accuracy: 0.8750 - val_loss: 0.3327 - val_accuracy: 0.8789\n",
      "Epoch 4/100\n",
      "3750/3750 [==============================] - 10s 3ms/step - loss: 0.3236 - accuracy: 0.8847 - val_loss: 0.3228 - val_accuracy: 0.8842\n",
      "Epoch 5/100\n",
      "3750/3750 [==============================] - 9s 2ms/step - loss: 0.3192 - accuracy: 0.8853 - val_loss: 0.3210 - val_accuracy: 0.8842\n",
      "Epoch 6/100\n",
      "3750/3750 [==============================] - 10s 3ms/step - loss: 0.3168 - accuracy: 0.8859 - val_loss: 0.3177 - val_accuracy: 0.8848\n",
      "Epoch 7/100\n",
      "3750/3750 [==============================] - 9s 2ms/step - loss: 0.3154 - accuracy: 0.8861 - val_loss: 0.3169 - val_accuracy: 0.8854\n",
      "Epoch 8/100\n",
      "3750/3750 [==============================] - 10s 3ms/step - loss: 0.3141 - accuracy: 0.8865 - val_loss: 0.3149 - val_accuracy: 0.8859\n",
      "Epoch 9/100\n",
      "3750/3750 [==============================] - 11s 3ms/step - loss: 0.3128 - accuracy: 0.8872 - val_loss: 0.3132 - val_accuracy: 0.8861\n",
      "Epoch 10/100\n",
      "3750/3750 [==============================] - 12s 3ms/step - loss: 0.3117 - accuracy: 0.8882 - val_loss: 0.3146 - val_accuracy: 0.8870\n",
      "Epoch 11/100\n",
      "3750/3750 [==============================] - 10s 3ms/step - loss: 0.3107 - accuracy: 0.8885 - val_loss: 0.3134 - val_accuracy: 0.8875\n",
      "Epoch 12/100\n",
      "3750/3750 [==============================] - 11s 3ms/step - loss: 0.3103 - accuracy: 0.8888 - val_loss: 0.3123 - val_accuracy: 0.8875\n",
      "Epoch 13/100\n",
      "3750/3750 [==============================] - 10s 3ms/step - loss: 0.3096 - accuracy: 0.8891 - val_loss: 0.3108 - val_accuracy: 0.8878\n",
      "Epoch 14/100\n",
      "3750/3750 [==============================] - 10s 3ms/step - loss: 0.3092 - accuracy: 0.8892 - val_loss: 0.3157 - val_accuracy: 0.8856\n",
      "Epoch 15/100\n",
      "3750/3750 [==============================] - 10s 3ms/step - loss: 0.3088 - accuracy: 0.8893 - val_loss: 0.3120 - val_accuracy: 0.8873\n",
      "Epoch 16/100\n",
      "3750/3750 [==============================] - 10s 3ms/step - loss: 0.3087 - accuracy: 0.8893 - val_loss: 0.3123 - val_accuracy: 0.8874\n",
      "Epoch 17/100\n",
      "3750/3750 [==============================] - 10s 3ms/step - loss: 0.3082 - accuracy: 0.8893 - val_loss: 0.3111 - val_accuracy: 0.8881\n",
      "Epoch 18/100\n",
      "3750/3750 [==============================] - 10s 3ms/step - loss: 0.3082 - accuracy: 0.8893 - val_loss: 0.3113 - val_accuracy: 0.8881\n",
      "Epoch 19/100\n",
      "3750/3750 [==============================] - 10s 3ms/step - loss: 0.3077 - accuracy: 0.8895 - val_loss: 0.3089 - val_accuracy: 0.8884\n",
      "Epoch 20/100\n",
      "3750/3750 [==============================] - 10s 3ms/step - loss: 0.3076 - accuracy: 0.8895 - val_loss: 0.3099 - val_accuracy: 0.8884\n",
      "Epoch 21/100\n",
      "3750/3750 [==============================] - 10s 3ms/step - loss: 0.3077 - accuracy: 0.8893 - val_loss: 0.3095 - val_accuracy: 0.8880\n",
      "Epoch 22/100\n",
      "3750/3750 [==============================] - 10s 3ms/step - loss: 0.3073 - accuracy: 0.8896 - val_loss: 0.3092 - val_accuracy: 0.8885\n",
      "Epoch 23/100\n",
      "3750/3750 [==============================] - 10s 3ms/step - loss: 0.3070 - accuracy: 0.8897 - val_loss: 0.3089 - val_accuracy: 0.8885\n",
      "Epoch 24/100\n",
      "3750/3750 [==============================] - 10s 3ms/step - loss: 0.3068 - accuracy: 0.8895 - val_loss: 0.3110 - val_accuracy: 0.8874\n",
      "Epoch 25/100\n",
      "3750/3750 [==============================] - 11s 3ms/step - loss: 0.3066 - accuracy: 0.8895 - val_loss: 0.3085 - val_accuracy: 0.8886\n",
      "Epoch 26/100\n",
      "3750/3750 [==============================] - 12s 3ms/step - loss: 0.3065 - accuracy: 0.8897 - val_loss: 0.3082 - val_accuracy: 0.8882\n",
      "Epoch 27/100\n",
      "3750/3750 [==============================] - 10s 3ms/step - loss: 0.3064 - accuracy: 0.8897 - val_loss: 0.3091 - val_accuracy: 0.8882\n",
      "Epoch 28/100\n",
      "3750/3750 [==============================] - 11s 3ms/step - loss: 0.3061 - accuracy: 0.8897 - val_loss: 0.3092 - val_accuracy: 0.8882\n",
      "Epoch 29/100\n",
      "3750/3750 [==============================] - 11s 3ms/step - loss: 0.3060 - accuracy: 0.8897 - val_loss: 0.3088 - val_accuracy: 0.8885\n",
      "Epoch 30/100\n",
      "3750/3750 [==============================] - 10s 3ms/step - loss: 0.3059 - accuracy: 0.8897 - val_loss: 0.3089 - val_accuracy: 0.8884\n",
      "Epoch 31/100\n",
      "3750/3750 [==============================] - 10s 3ms/step - loss: 0.3059 - accuracy: 0.8897 - val_loss: 0.3082 - val_accuracy: 0.8885\n",
      "Epoch 32/100\n",
      "3750/3750 [==============================] - 11s 3ms/step - loss: 0.3057 - accuracy: 0.8897 - val_loss: 0.3089 - val_accuracy: 0.8877\n",
      "Epoch 33/100\n",
      "3750/3750 [==============================] - 10s 3ms/step - loss: 0.3053 - accuracy: 0.8898 - val_loss: 0.3083 - val_accuracy: 0.8884\n",
      "Epoch 34/100\n",
      "3750/3750 [==============================] - 12s 3ms/step - loss: 0.3052 - accuracy: 0.8898 - val_loss: 0.3144 - val_accuracy: 0.8858\n",
      "Epoch 35/100\n",
      "3750/3750 [==============================] - 12s 3ms/step - loss: 0.3052 - accuracy: 0.8898 - val_loss: 0.3087 - val_accuracy: 0.8885\n",
      "Epoch 36/100\n",
      "3750/3750 [==============================] - 11s 3ms/step - loss: 0.3051 - accuracy: 0.8896 - val_loss: 0.3089 - val_accuracy: 0.8882\n"
     ]
    }
   ],
   "source": [
    "from keras.callbacks import EarlyStopping\n",
    "\n",
    "# EarlyStopping 콜백 정의\n",
    "early_stopping = EarlyStopping(monitor='val_loss', patience=10, restore_best_weights=True)\n",
    "\n",
    "# 모델 컴파일\n",
    "model.compile(optimizer='adam', loss='binary_crossentropy', metrics=['accuracy'])\n",
    "\n",
    "# 모델 학습\n",
    "history = model.fit(X_train_scaled, y_train, validation_data=(X_test_scaled, y_test), epochs=100, batch_size=64, callbacks=[early_stopping])\n"
   ]
  },
  {
   "cell_type": "code",
   "execution_count": 10,
   "id": "c6538828",
   "metadata": {
    "ExecuteTime": {
     "end_time": "2023-04-22T14:54:13.129884Z",
     "start_time": "2023-04-22T14:54:08.654846Z"
    }
   },
   "outputs": [
    {
     "name": "stdout",
     "output_type": "stream",
     "text": [
      "1875/1875 [==============================] - 4s 2ms/step - loss: 0.3082 - accuracy: 0.8882\n",
      "Test accuracy: 0.8881999850273132\n"
     ]
    }
   ],
   "source": [
    "loss, accuracy = model.evaluate(X_test_scaled, y_test)\n",
    "print('Test accuracy:', accuracy)"
   ]
  },
  {
   "cell_type": "code",
   "execution_count": 11,
   "id": "e468f96d",
   "metadata": {
    "ExecuteTime": {
     "end_time": "2023-04-22T14:54:13.220640Z",
     "start_time": "2023-04-22T14:54:13.208672Z"
    }
   },
   "outputs": [
    {
     "name": "stdout",
     "output_type": "stream",
     "text": [
      "Test loss:  0.30817779898643494\n"
     ]
    }
   ],
   "source": [
    "print('Test loss: ', loss)"
   ]
  },
  {
   "cell_type": "code",
   "execution_count": 12,
   "id": "b1b721d5",
   "metadata": {
    "ExecuteTime": {
     "end_time": "2023-04-22T14:54:16.495886Z",
     "start_time": "2023-04-22T14:54:13.284469Z"
    }
   },
   "outputs": [
    {
     "data": {
      "image/png": "[encoded data removed]",
      "text/plain": [
       "<Figure size 432x288 with 1 Axes>"
      ]
     },
     "metadata": {
      "needs_background": "light"
     },
     "output_type": "display_data"
    },
    {
     "data": {
      "image/png": "[encoded data removed]",
      "text/plain": [
       "<Figure size 432x288 with 1 Axes>"
      ]
     },
     "metadata": {
      "needs_background": "light"
     },
     "output_type": "display_data"
    }
   ],
   "source": [
    "import matplotlib.pyplot as plt\n",
    "\n",
    "# history 객체에서 손실값과 정확도를 추출합니다.\n",
    "train_loss = history.history['loss']\n",
    "val_loss = history.history['val_loss']\n",
    "train_acc = history.history['accuracy']\n",
    "val_acc = history.history['val_accuracy']\n",
    "\n",
    "# 손실값 그래프\n",
    "plt.plot(train_loss, label='train_loss')\n",
    "plt.plot(val_loss, label='val_loss')\n",
    "plt.legend()\n",
    "plt.title('Loss')\n",
    "plt.show()\n",
    "\n",
    "# 정확도 그래프\n",
    "plt.plot(train_acc, label='train_acc')\n",
    "plt.plot(val_acc, label='val_acc')\n",
    "plt.legend()\n",
    "plt.title('Accuracy')\n",
    "plt.show()\n"
   ]
  },
  {
   "cell_type": "code",
   "execution_count": null,
   "id": "fbb7ae02",
   "metadata": {},
   "outputs": [],
   "source": []
  }
 ],
 "metadata": {
  "kernelspec": {
   "display_name": "Python 3 (ipykernel)",
   "language": "python",
   "name": "python3"
  },
  "language_info": {
   "codemirror_mode": {
    "name": "ipython",
    "version": 3
   },
   "file_extension": ".py",
   "mimetype": "text/x-python",
   "name": "python",
   "nbconvert_exporter": "python",
   "pygments_lexer": "ipython3",
   "version": "3.9.12"
  },
  "toc": {
   "base_numbering": 1,
   "nav_menu": {},
   "number_sections": false,
   "sideBar": true,
   "skip_h1_title": false,
   "title_cell": "Table of Contents",
   "title_sidebar": "Contents",
   "toc_cell": false,
   "toc_position": {},
   "toc_section_display": true,
   "toc_window_display": false
  },
  "varInspector": {
   "cols": {
    "lenName": 16,
    "lenType": 16,
    "lenVar": 40
   },
   "kernels_config": {
    "python": {
     "delete_cmd_postfix": "",
     "delete_cmd_prefix": "del ",
     "library": "var_list.py",
     "varRefreshCmd": "print(var_dic_list())"
    },
    "r": {
     "delete_cmd_postfix": ") ",
     "delete_cmd_prefix": "rm(",
     "library": "var_list.r",
     "varRefreshCmd": "cat(var_dic_list()) "
    }
   },
   "types_to_exclude": [
    "module",
    "function",
    "builtin_function_or_method",
    "instance",
    "_Feature"
   ],
   "window_display": false
  }
 },
 "nbformat": 4,
 "nbformat_minor": 5
}
