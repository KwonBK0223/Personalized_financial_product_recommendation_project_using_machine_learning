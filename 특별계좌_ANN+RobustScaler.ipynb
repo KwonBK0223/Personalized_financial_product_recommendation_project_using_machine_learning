{
 "cells": [
  {
   "cell_type": "markdown",
   "id": "4dd5a8eb",
   "metadata": {},
   "source": [
    "# 특별계좌_ANN+RobustScaler"
   ]
  },
  {
   "cell_type": "code",
   "execution_count": 1,
   "id": "43763e13",
   "metadata": {
    "ExecuteTime": {
     "end_time": "2023-04-22T12:48:49.885115Z",
     "start_time": "2023-04-22T12:46:25.541479Z"
    }
   },
   "outputs": [],
   "source": [
    "import pandas as pd\n",
    "from sklearn.model_selection import train_test_split\n",
    "from tensorflow.keras.models import Sequential\n",
    "from tensorflow.keras.layers import Dense\n",
    "\n",
    "# 데이터 불러오기\n",
    "data = pd.read_excel('bank_pre.xlsx')"
   ]
  },
  {
   "cell_type": "code",
   "execution_count": 2,
   "id": "49334d17",
   "metadata": {
    "ExecuteTime": {
     "end_time": "2023-04-22T12:48:50.112135Z",
     "start_time": "2023-04-22T12:48:50.053495Z"
    }
   },
   "outputs": [
    {
     "name": "stdout",
     "output_type": "stream",
     "text": [
      "<class 'pandas.core.frame.DataFrame'>\n",
      "RangeIndex: 300000 entries, 0 to 299999\n",
      "Data columns (total 12 columns):\n",
      " #   Column         Non-Null Count   Dtype  \n",
      "---  ------         --------------   -----  \n",
      " 0   해외 거주 여부       300000 non-null  int64  \n",
      " 1   성별             300000 non-null  int64  \n",
      " 2   나이             300000 non-null  int64  \n",
      " 3   신규 고객(6개월 이내)  300000 non-null  int64  \n",
      " 4   거래 누적 기간(월)    300000 non-null  int64  \n",
      " 5   지역 코드          300000 non-null  int64  \n",
      " 6   고객 활성화 상태      300000 non-null  int64  \n",
      " 7   가구 소득          300000 non-null  float64\n",
      " 8   고객 구분          300000 non-null  int64  \n",
      " 9   특별계좌           300000 non-null  int64  \n",
      " 10  온라인 계좌         300000 non-null  int64  \n",
      " 11  체크카드           300000 non-null  int64  \n",
      "dtypes: float64(1), int64(11)\n",
      "memory usage: 27.5 MB\n"
     ]
    }
   ],
   "source": [
    "# 데이터 형태와 결측치 확인\n",
    "data.info()"
   ]
  },
  {
   "cell_type": "code",
   "execution_count": 3,
   "id": "cf180430",
   "metadata": {
    "ExecuteTime": {
     "end_time": "2023-04-22T12:48:50.207879Z",
     "start_time": "2023-04-22T12:48:50.134095Z"
    }
   },
   "outputs": [],
   "source": [
    "# 입력 변수와 출력 변수 분리\n",
    "X = data.drop(columns=['특별계좌', '온라인 계좌', '체크카드'])\n",
    "y = data[['특별계좌']]"
   ]
  },
  {
   "cell_type": "code",
   "execution_count": 4,
   "id": "6453f9d5",
   "metadata": {
    "ExecuteTime": {
     "end_time": "2023-04-22T12:48:50.517514Z",
     "start_time": "2023-04-22T12:48:50.243783Z"
    }
   },
   "outputs": [],
   "source": [
    "# 데이터를 훈련용과 검증용으로 분리\n",
    "X_train, X_test, y_train, y_test = train_test_split(X, y, test_size=0.2, random_state=1)"
   ]
  },
  {
   "cell_type": "code",
   "execution_count": 5,
   "id": "0ccf1fbd",
   "metadata": {
    "ExecuteTime": {
     "end_time": "2023-04-22T12:48:50.852488Z",
     "start_time": "2023-04-22T12:48:50.569119Z"
    }
   },
   "outputs": [],
   "source": [
    "from sklearn.preprocessing import RobustScaler\n",
    "\n",
    "# 스케일링\n",
    "scaler = RobustScaler()\n",
    "X_train_scaled = scaler.fit_transform(X_train)\n",
    "X_test_scaled = scaler.transform(X_test)\n"
   ]
  },
  {
   "cell_type": "code",
   "execution_count": 6,
   "id": "95ded01f",
   "metadata": {
    "ExecuteTime": {
     "end_time": "2023-04-22T12:48:51.183533Z",
     "start_time": "2023-04-22T12:48:50.885895Z"
    }
   },
   "outputs": [],
   "source": [
    "# 모델 설계\n",
    "from tensorflow.keras.models import Sequential\n",
    "model = Sequential()\n",
    "\n",
    "model.add(Dense(64, input_dim=X_train_scaled.shape[1], activation='relu'))\n",
    "model.add(Dense(32, activation='relu'))\n",
    "model.add(Dense(32, activation='relu'))\n",
    "model.add(Dense(1, activation='sigmoid'))"
   ]
  },
  {
   "cell_type": "code",
   "execution_count": 7,
   "id": "f6a3cabb",
   "metadata": {
    "ExecuteTime": {
     "end_time": "2023-04-22T13:05:15.538476Z",
     "start_time": "2023-04-22T12:48:51.214927Z"
    },
    "scrolled": false
   },
   "outputs": [
    {
     "name": "stdout",
     "output_type": "stream",
     "text": [
      "Epoch 1/100\n",
      "3750/3750 [==============================] - 19s 4ms/step - loss: 0.2663 - accuracy: 0.8868 - val_loss: 0.2563 - val_accuracy: 0.8891\n",
      "Epoch 2/100\n",
      "3750/3750 [==============================] - 17s 5ms/step - loss: 0.2535 - accuracy: 0.8916 - val_loss: 0.2534 - val_accuracy: 0.8913\n",
      "Epoch 3/100\n",
      "3750/3750 [==============================] - 16s 4ms/step - loss: 0.2506 - accuracy: 0.8935 - val_loss: 0.2517 - val_accuracy: 0.8935\n",
      "Epoch 4/100\n",
      "3750/3750 [==============================] - 16s 4ms/step - loss: 0.2481 - accuracy: 0.8946 - val_loss: 0.2482 - val_accuracy: 0.8938\n",
      "Epoch 5/100\n",
      "3750/3750 [==============================] - 15s 4ms/step - loss: 0.2468 - accuracy: 0.8952 - val_loss: 0.2515 - val_accuracy: 0.8935\n",
      "Epoch 6/100\n",
      "3750/3750 [==============================] - 16s 4ms/step - loss: 0.2461 - accuracy: 0.8955 - val_loss: 0.2470 - val_accuracy: 0.8947\n",
      "Epoch 7/100\n",
      "3750/3750 [==============================] - 16s 4ms/step - loss: 0.2457 - accuracy: 0.8954 - val_loss: 0.2460 - val_accuracy: 0.8951\n",
      "Epoch 8/100\n",
      "3750/3750 [==============================] - 22s 6ms/step - loss: 0.2452 - accuracy: 0.8955 - val_loss: 0.2466 - val_accuracy: 0.8945\n",
      "Epoch 9/100\n",
      "3750/3750 [==============================] - 15s 4ms/step - loss: 0.2447 - accuracy: 0.8959 - val_loss: 0.2484 - val_accuracy: 0.8949\n",
      "Epoch 10/100\n",
      "3750/3750 [==============================] - 16s 4ms/step - loss: 0.2446 - accuracy: 0.8960 - val_loss: 0.2473 - val_accuracy: 0.8948\n",
      "Epoch 11/100\n",
      "3750/3750 [==============================] - 14s 4ms/step - loss: 0.2440 - accuracy: 0.8960 - val_loss: 0.2476 - val_accuracy: 0.8940\n",
      "Epoch 12/100\n",
      "3750/3750 [==============================] - 17s 4ms/step - loss: 0.2442 - accuracy: 0.8959 - val_loss: 0.2449 - val_accuracy: 0.8947\n",
      "Epoch 13/100\n",
      "3750/3750 [==============================] - 19s 5ms/step - loss: 0.2434 - accuracy: 0.8961 - val_loss: 0.2452 - val_accuracy: 0.8952\n",
      "Epoch 14/100\n",
      "3750/3750 [==============================] - 19s 5ms/step - loss: 0.2433 - accuracy: 0.8962 - val_loss: 0.2456 - val_accuracy: 0.8946\n",
      "Epoch 15/100\n",
      "3750/3750 [==============================] - 15s 4ms/step - loss: 0.2431 - accuracy: 0.8963 - val_loss: 0.2451 - val_accuracy: 0.8951\n",
      "Epoch 16/100\n",
      "3750/3750 [==============================] - 20s 5ms/step - loss: 0.2428 - accuracy: 0.8963 - val_loss: 0.2466 - val_accuracy: 0.8945\n",
      "Epoch 17/100\n",
      "3750/3750 [==============================] - 19s 5ms/step - loss: 0.2426 - accuracy: 0.8965 - val_loss: 0.2456 - val_accuracy: 0.8949\n",
      "Epoch 18/100\n",
      "3750/3750 [==============================] - 14s 4ms/step - loss: 0.2424 - accuracy: 0.8964 - val_loss: 0.2446 - val_accuracy: 0.8951\n",
      "Epoch 19/100\n",
      "3750/3750 [==============================] - 14s 4ms/step - loss: 0.2422 - accuracy: 0.8964 - val_loss: 0.2448 - val_accuracy: 0.8949\n",
      "Epoch 20/100\n",
      "3750/3750 [==============================] - 15s 4ms/step - loss: 0.2419 - accuracy: 0.8966 - val_loss: 0.2445 - val_accuracy: 0.8947\n",
      "Epoch 21/100\n",
      "3750/3750 [==============================] - 17s 5ms/step - loss: 0.2416 - accuracy: 0.8965 - val_loss: 0.2442 - val_accuracy: 0.8953\n",
      "Epoch 22/100\n",
      "3750/3750 [==============================] - 17s 5ms/step - loss: 0.2415 - accuracy: 0.8967 - val_loss: 0.2441 - val_accuracy: 0.8941\n",
      "Epoch 23/100\n",
      "3750/3750 [==============================] - 15s 4ms/step - loss: 0.2413 - accuracy: 0.8968 - val_loss: 0.2454 - val_accuracy: 0.8947\n",
      "Epoch 24/100\n",
      "3750/3750 [==============================] - 16s 4ms/step - loss: 0.2411 - accuracy: 0.8970 - val_loss: 0.2437 - val_accuracy: 0.8950\n",
      "Epoch 25/100\n",
      "3750/3750 [==============================] - 16s 4ms/step - loss: 0.2408 - accuracy: 0.8970 - val_loss: 0.2437 - val_accuracy: 0.8952\n",
      "Epoch 26/100\n",
      "3750/3750 [==============================] - 18s 5ms/step - loss: 0.2407 - accuracy: 0.8970 - val_loss: 0.2461 - val_accuracy: 0.8939\n",
      "Epoch 27/100\n",
      "3750/3750 [==============================] - 17s 4ms/step - loss: 0.2407 - accuracy: 0.8970 - val_loss: 0.2453 - val_accuracy: 0.8950\n",
      "Epoch 28/100\n",
      "3750/3750 [==============================] - 19s 5ms/step - loss: 0.2403 - accuracy: 0.8971 - val_loss: 0.2440 - val_accuracy: 0.8951\n",
      "Epoch 29/100\n",
      "3750/3750 [==============================] - 14s 4ms/step - loss: 0.2401 - accuracy: 0.8972 - val_loss: 0.2433 - val_accuracy: 0.8952\n",
      "Epoch 30/100\n",
      "3750/3750 [==============================] - 13s 3ms/step - loss: 0.2397 - accuracy: 0.8971 - val_loss: 0.2432 - val_accuracy: 0.8953\n",
      "Epoch 31/100\n",
      "3750/3750 [==============================] - 14s 4ms/step - loss: 0.2397 - accuracy: 0.8974 - val_loss: 0.2433 - val_accuracy: 0.8955\n",
      "Epoch 32/100\n",
      "3750/3750 [==============================] - 13s 3ms/step - loss: 0.2395 - accuracy: 0.8975 - val_loss: 0.2433 - val_accuracy: 0.8957\n",
      "Epoch 33/100\n",
      "3750/3750 [==============================] - 15s 4ms/step - loss: 0.2394 - accuracy: 0.8973 - val_loss: 0.2427 - val_accuracy: 0.8955\n",
      "Epoch 34/100\n",
      "3750/3750 [==============================] - 14s 4ms/step - loss: 0.2390 - accuracy: 0.8977 - val_loss: 0.2439 - val_accuracy: 0.8950\n",
      "Epoch 35/100\n",
      "3750/3750 [==============================] - 14s 4ms/step - loss: 0.2386 - accuracy: 0.8977 - val_loss: 0.2435 - val_accuracy: 0.8950\n",
      "Epoch 36/100\n",
      "3750/3750 [==============================] - 13s 4ms/step - loss: 0.2386 - accuracy: 0.8976 - val_loss: 0.2427 - val_accuracy: 0.8954\n",
      "Epoch 37/100\n",
      "3750/3750 [==============================] - 13s 4ms/step - loss: 0.2384 - accuracy: 0.8977 - val_loss: 0.2429 - val_accuracy: 0.8954\n",
      "Epoch 38/100\n",
      "3750/3750 [==============================] - 13s 4ms/step - loss: 0.2383 - accuracy: 0.8978 - val_loss: 0.2422 - val_accuracy: 0.8955\n",
      "Epoch 39/100\n",
      "3750/3750 [==============================] - 13s 3ms/step - loss: 0.2382 - accuracy: 0.8976 - val_loss: 0.2435 - val_accuracy: 0.8955\n",
      "Epoch 40/100\n",
      "3750/3750 [==============================] - 14s 4ms/step - loss: 0.2378 - accuracy: 0.8978 - val_loss: 0.2427 - val_accuracy: 0.8954\n",
      "Epoch 41/100\n",
      "3750/3750 [==============================] - 15s 4ms/step - loss: 0.2376 - accuracy: 0.8978 - val_loss: 0.2420 - val_accuracy: 0.8955\n",
      "Epoch 42/100\n",
      "3750/3750 [==============================] - 14s 4ms/step - loss: 0.2376 - accuracy: 0.8979 - val_loss: 0.2418 - val_accuracy: 0.8962\n",
      "Epoch 43/100\n",
      "3750/3750 [==============================] - 16s 4ms/step - loss: 0.2373 - accuracy: 0.8979 - val_loss: 0.2431 - val_accuracy: 0.8960\n",
      "Epoch 44/100\n",
      "3750/3750 [==============================] - 14s 4ms/step - loss: 0.2373 - accuracy: 0.8981 - val_loss: 0.2439 - val_accuracy: 0.8952\n",
      "Epoch 45/100\n",
      "3750/3750 [==============================] - 16s 4ms/step - loss: 0.2369 - accuracy: 0.8984 - val_loss: 0.2426 - val_accuracy: 0.8952\n",
      "Epoch 46/100\n",
      "3750/3750 [==============================] - 17s 4ms/step - loss: 0.2369 - accuracy: 0.8982 - val_loss: 0.2424 - val_accuracy: 0.8955\n",
      "Epoch 47/100\n",
      "3750/3750 [==============================] - 14s 4ms/step - loss: 0.2366 - accuracy: 0.8984 - val_loss: 0.2419 - val_accuracy: 0.8963\n",
      "Epoch 48/100\n",
      "3750/3750 [==============================] - 13s 3ms/step - loss: 0.2363 - accuracy: 0.8982 - val_loss: 0.2430 - val_accuracy: 0.8957\n",
      "Epoch 49/100\n",
      "3750/3750 [==============================] - 13s 3ms/step - loss: 0.2362 - accuracy: 0.8985 - val_loss: 0.2420 - val_accuracy: 0.8961\n",
      "Epoch 50/100\n",
      "3750/3750 [==============================] - 14s 4ms/step - loss: 0.2360 - accuracy: 0.8982 - val_loss: 0.2425 - val_accuracy: 0.8950\n",
      "Epoch 51/100\n",
      "3750/3750 [==============================] - 14s 4ms/step - loss: 0.2359 - accuracy: 0.8987 - val_loss: 0.2418 - val_accuracy: 0.8951\n",
      "Epoch 52/100\n",
      "3750/3750 [==============================] - 13s 4ms/step - loss: 0.2411 - accuracy: 0.8985 - val_loss: 0.2412 - val_accuracy: 0.8963\n",
      "Epoch 53/100\n",
      "3750/3750 [==============================] - 13s 3ms/step - loss: 0.2354 - accuracy: 0.8988 - val_loss: 0.2421 - val_accuracy: 0.8952\n",
      "Epoch 54/100\n",
      "3750/3750 [==============================] - 13s 4ms/step - loss: 0.2352 - accuracy: 0.8987 - val_loss: 0.2417 - val_accuracy: 0.8958\n",
      "Epoch 55/100\n",
      "3750/3750 [==============================] - 12s 3ms/step - loss: 0.2353 - accuracy: 0.8987 - val_loss: 0.2419 - val_accuracy: 0.8954\n",
      "Epoch 56/100\n",
      "3750/3750 [==============================] - 11s 3ms/step - loss: 0.2350 - accuracy: 0.8987 - val_loss: 0.2424 - val_accuracy: 0.8954\n"
     ]
    },
    {
     "name": "stdout",
     "output_type": "stream",
     "text": [
      "Epoch 57/100\n",
      "3750/3750 [==============================] - 11s 3ms/step - loss: 0.2351 - accuracy: 0.8989 - val_loss: 0.2417 - val_accuracy: 0.8967\n",
      "Epoch 58/100\n",
      "3750/3750 [==============================] - 10s 3ms/step - loss: 0.2348 - accuracy: 0.8990 - val_loss: 0.2407 - val_accuracy: 0.8965\n",
      "Epoch 59/100\n",
      "3750/3750 [==============================] - 13s 3ms/step - loss: 0.2345 - accuracy: 0.8991 - val_loss: 0.2440 - val_accuracy: 0.8943\n",
      "Epoch 60/100\n",
      "3750/3750 [==============================] - 11s 3ms/step - loss: 0.2345 - accuracy: 0.8991 - val_loss: 0.2418 - val_accuracy: 0.8961\n",
      "Epoch 61/100\n",
      "3750/3750 [==============================] - 10s 3ms/step - loss: 0.2342 - accuracy: 0.8990 - val_loss: 0.2424 - val_accuracy: 0.8946\n",
      "Epoch 62/100\n",
      "3750/3750 [==============================] - 11s 3ms/step - loss: 0.2341 - accuracy: 0.8992 - val_loss: 0.2414 - val_accuracy: 0.8959\n",
      "Epoch 63/100\n",
      "3750/3750 [==============================] - 11s 3ms/step - loss: 0.2340 - accuracy: 0.8991 - val_loss: 0.2419 - val_accuracy: 0.8963\n",
      "Epoch 64/100\n",
      "3750/3750 [==============================] - 11s 3ms/step - loss: 0.2338 - accuracy: 0.8995 - val_loss: 0.2415 - val_accuracy: 0.8960\n",
      "Epoch 65/100\n",
      "3750/3750 [==============================] - 10s 3ms/step - loss: 0.2340 - accuracy: 0.8992 - val_loss: 0.2428 - val_accuracy: 0.8961\n",
      "Epoch 66/100\n",
      "3750/3750 [==============================] - 9s 2ms/step - loss: 0.2336 - accuracy: 0.8993 - val_loss: 0.2414 - val_accuracy: 0.8961\n",
      "Epoch 67/100\n",
      "3750/3750 [==============================] - 9s 2ms/step - loss: 0.2334 - accuracy: 0.8995 - val_loss: 0.2407 - val_accuracy: 0.8964\n",
      "Epoch 68/100\n",
      "3750/3750 [==============================] - 10s 3ms/step - loss: 0.2333 - accuracy: 0.8994 - val_loss: 0.2416 - val_accuracy: 0.8952\n"
     ]
    }
   ],
   "source": [
    "from keras.callbacks import EarlyStopping\n",
    "\n",
    "# EarlyStopping 콜백 정의\n",
    "early_stopping = EarlyStopping(monitor='val_loss', patience=10, restore_best_weights=True)\n",
    "\n",
    "# 모델 컴파일\n",
    "model.compile(optimizer='adam', loss='binary_crossentropy', metrics=['accuracy'])\n",
    "\n",
    "# 모델 학습\n",
    "history = model.fit(X_train_scaled, y_train, validation_data=(X_test_scaled, y_test), epochs=100, batch_size=64, callbacks=[early_stopping])\n"
   ]
  },
  {
   "cell_type": "code",
   "execution_count": 8,
   "id": "7bb0a7b4",
   "metadata": {
    "ExecuteTime": {
     "end_time": "2023-04-22T13:05:19.355864Z",
     "start_time": "2023-04-22T13:05:15.572762Z"
    }
   },
   "outputs": [
    {
     "name": "stdout",
     "output_type": "stream",
     "text": [
      "1875/1875 [==============================] - 4s 2ms/step - loss: 0.2407 - accuracy: 0.8965\n",
      "Test accuracy: 0.8965499997138977\n"
     ]
    }
   ],
   "source": [
    "loss, accuracy = model.evaluate(X_test_scaled, y_test)\n",
    "print('Test accuracy:', accuracy)"
   ]
  },
  {
   "cell_type": "code",
   "execution_count": 9,
   "id": "95e07da7",
   "metadata": {
    "ExecuteTime": {
     "end_time": "2023-04-22T13:05:21.003509Z",
     "start_time": "2023-04-22T13:05:19.394349Z"
    }
   },
   "outputs": [
    {
     "data": {
      "image/png": "[encoded data removed]",
      "text/plain": [
       "<Figure size 432x288 with 1 Axes>"
      ]
     },
     "metadata": {
      "needs_background": "light"
     },
     "output_type": "display_data"
    },
    {
     "data": {
      "image/png": "[encoded data removed]",
      "text/plain": [
       "<Figure size 432x288 with 1 Axes>"
      ]
     },
     "metadata": {
      "needs_background": "light"
     },
     "output_type": "display_data"
    }
   ],
   "source": [
    "import matplotlib.pyplot as plt\n",
    "# history 객체에서 손실값과 정확도를 추출합니다.\n",
    "train_loss = history.history['loss']\n",
    "val_loss = history.history['val_loss']\n",
    "train_acc = history.history['accuracy']\n",
    "val_acc = history.history['val_accuracy']\n",
    "\n",
    "# 손실값 그래프\n",
    "plt.plot(train_loss, label='train_loss')\n",
    "plt.plot(val_loss, label='val_loss')\n",
    "plt.legend()\n",
    "plt.title('Loss')\n",
    "plt.show()\n",
    "\n",
    "# 정확도 그래프\n",
    "plt.plot(train_acc, label='train_acc')\n",
    "plt.plot(val_acc, label='val_acc')\n",
    "plt.legend()\n",
    "plt.title('Accuracy')\n",
    "plt.show()\n"
   ]
  },
  {
   "cell_type": "code",
   "execution_count": null,
   "id": "6e351aa0",
   "metadata": {},
   "outputs": [],
   "source": []
  }
 ],
 "metadata": {
  "kernelspec": {
   "display_name": "Python 3 (ipykernel)",
   "language": "python",
   "name": "python3"
  },
  "language_info": {
   "codemirror_mode": {
    "name": "ipython",
    "version": 3
   },
   "file_extension": ".py",
   "mimetype": "text/x-python",
   "name": "python",
   "nbconvert_exporter": "python",
   "pygments_lexer": "ipython3",
   "version": "3.9.12"
  },
  "toc": {
   "base_numbering": 1,
   "nav_menu": {},
   "number_sections": false,
   "sideBar": true,
   "skip_h1_title": false,
   "title_cell": "Table of Contents",
   "title_sidebar": "Contents",
   "toc_cell": false,
   "toc_position": {},
   "toc_section_display": true,
   "toc_window_display": false
  },
  "varInspector": {
   "cols": {
    "lenName": 16,
    "lenType": 16,
    "lenVar": 40
   },
   "kernels_config": {
    "python": {
     "delete_cmd_postfix": "",
     "delete_cmd_prefix": "del ",
     "library": "var_list.py",
     "varRefreshCmd": "print(var_dic_list())"
    },
    "r": {
     "delete_cmd_postfix": ") ",
     "delete_cmd_prefix": "rm(",
     "library": "var_list.r",
     "varRefreshCmd": "cat(var_dic_list()) "
    }
   },
   "types_to_exclude": [
    "module",
    "function",
    "builtin_function_or_method",
    "instance",
    "_Feature"
   ],
   "window_display": false
  }
 },
 "nbformat": 4,
 "nbformat_minor": 5
}
