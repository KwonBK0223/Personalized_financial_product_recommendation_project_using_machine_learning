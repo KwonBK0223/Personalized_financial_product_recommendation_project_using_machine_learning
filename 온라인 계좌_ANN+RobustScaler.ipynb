{
 "cells": [
  {
   "cell_type": "markdown",
   "id": "01f0af5a",
   "metadata": {},
   "source": [
    "# 온라인 계좌_ANN+RobustScaler"
   ]
  },
  {
   "cell_type": "code",
   "execution_count": 1,
   "id": "6ab844c9",
   "metadata": {
    "ExecuteTime": {
     "end_time": "2023-04-22T12:48:54.698968Z",
     "start_time": "2023-04-22T12:46:28.201301Z"
    }
   },
   "outputs": [],
   "source": [
    "import pandas as pd\n",
    "from sklearn.model_selection import train_test_split\n",
    "from tensorflow.keras.models import Sequential\n",
    "from tensorflow.keras.layers import Dense\n",
    "\n",
    "# 데이터 불러오기\n",
    "data = pd.read_excel('bank_pre.xlsx')"
   ]
  },
  {
   "cell_type": "code",
   "execution_count": 2,
   "id": "81123060",
   "metadata": {
    "ExecuteTime": {
     "end_time": "2023-04-22T12:48:55.093113Z",
     "start_time": "2023-04-22T12:48:54.973900Z"
    }
   },
   "outputs": [
    {
     "name": "stdout",
     "output_type": "stream",
     "text": [
      "<class 'pandas.core.frame.DataFrame'>\n",
      "RangeIndex: 300000 entries, 0 to 299999\n",
      "Data columns (total 12 columns):\n",
      " #   Column         Non-Null Count   Dtype  \n",
      "---  ------         --------------   -----  \n",
      " 0   해외 거주 여부       300000 non-null  int64  \n",
      " 1   성별             300000 non-null  int64  \n",
      " 2   나이             300000 non-null  int64  \n",
      " 3   신규 고객(6개월 이내)  300000 non-null  int64  \n",
      " 4   거래 누적 기간(월)    300000 non-null  int64  \n",
      " 5   지역 코드          300000 non-null  int64  \n",
      " 6   고객 활성화 상태      300000 non-null  int64  \n",
      " 7   가구 소득          300000 non-null  float64\n",
      " 8   고객 구분          300000 non-null  int64  \n",
      " 9   특별계좌           300000 non-null  int64  \n",
      " 10  온라인 계좌         300000 non-null  int64  \n",
      " 11  체크카드           300000 non-null  int64  \n",
      "dtypes: float64(1), int64(11)\n",
      "memory usage: 27.5 MB\n"
     ]
    }
   ],
   "source": [
    "# 데이터 형태와 결측치 확인\n",
    "data.info()"
   ]
  },
  {
   "cell_type": "code",
   "execution_count": 3,
   "id": "3becc58d",
   "metadata": {
    "ExecuteTime": {
     "end_time": "2023-04-22T12:48:55.265443Z",
     "start_time": "2023-04-22T12:48:55.195865Z"
    }
   },
   "outputs": [],
   "source": [
    "# 입력 변수와 출력 변수 분리\n",
    "X = data.drop(columns=['특별계좌', '온라인 계좌', '체크카드'])\n",
    "y = data[['온라인 계좌']]"
   ]
  },
  {
   "cell_type": "code",
   "execution_count": 4,
   "id": "1a89a9b0",
   "metadata": {
    "ExecuteTime": {
     "end_time": "2023-04-22T12:48:55.710099Z",
     "start_time": "2023-04-22T12:48:55.353448Z"
    }
   },
   "outputs": [],
   "source": [
    "# 데이터를 훈련용과 검증용으로 분리\n",
    "X_train, X_test, y_train, y_test = train_test_split(X, y, test_size=0.2, random_state=1)"
   ]
  },
  {
   "cell_type": "code",
   "execution_count": 5,
   "id": "65d20c81",
   "metadata": {
    "ExecuteTime": {
     "end_time": "2023-04-22T12:48:56.287556Z",
     "start_time": "2023-04-22T12:48:55.887625Z"
    }
   },
   "outputs": [],
   "source": [
    "from sklearn.preprocessing import RobustScaler\n",
    "\n",
    "# 스케일링\n",
    "scaler = RobustScaler()\n",
    "X_train_scaled = scaler.fit_transform(X_train)\n",
    "X_test_scaled = scaler.transform(X_test)\n"
   ]
  },
  {
   "cell_type": "code",
   "execution_count": 6,
   "id": "9ffdacd1",
   "metadata": {
    "ExecuteTime": {
     "end_time": "2023-04-22T12:48:57.135935Z",
     "start_time": "2023-04-22T12:48:56.515765Z"
    }
   },
   "outputs": [],
   "source": [
    "# 모델 설계\n",
    "from tensorflow.keras.models import Sequential\n",
    "model = Sequential()\n",
    "\n",
    "model.add(Dense(64, input_dim=X_train_scaled.shape[1], activation='relu'))\n",
    "model.add(Dense(32, activation='relu'))\n",
    "model.add(Dense(32, activation='relu'))\n",
    "model.add(Dense(1, activation='sigmoid'))"
   ]
  },
  {
   "cell_type": "code",
   "execution_count": 7,
   "id": "01c2335e",
   "metadata": {
    "ExecuteTime": {
     "end_time": "2023-04-22T13:02:12.149316Z",
     "start_time": "2023-04-22T12:48:57.279856Z"
    },
    "scrolled": false
   },
   "outputs": [
    {
     "name": "stdout",
     "output_type": "stream",
     "text": [
      "Epoch 1/100\n",
      "3750/3750 [==============================] - 21s 5ms/step - loss: 0.3469 - accuracy: 0.8672 - val_loss: 0.3350 - val_accuracy: 0.8711\n",
      "Epoch 2/100\n",
      "3750/3750 [==============================] - 16s 4ms/step - loss: 0.3299 - accuracy: 0.8749 - val_loss: 0.3298 - val_accuracy: 0.8738\n",
      "Epoch 3/100\n",
      "3750/3750 [==============================] - 17s 5ms/step - loss: 0.3262 - accuracy: 0.8761 - val_loss: 0.3292 - val_accuracy: 0.8745\n",
      "Epoch 4/100\n",
      "3750/3750 [==============================] - 15s 4ms/step - loss: 0.3233 - accuracy: 0.8776 - val_loss: 0.3236 - val_accuracy: 0.8782\n",
      "Epoch 5/100\n",
      "3750/3750 [==============================] - 15s 4ms/step - loss: 0.3205 - accuracy: 0.8813 - val_loss: 0.3207 - val_accuracy: 0.8834\n",
      "Epoch 6/100\n",
      "3750/3750 [==============================] - 15s 4ms/step - loss: 0.3173 - accuracy: 0.8859 - val_loss: 0.3175 - val_accuracy: 0.8867\n",
      "Epoch 7/100\n",
      "3750/3750 [==============================] - 17s 5ms/step - loss: 0.3144 - accuracy: 0.8873 - val_loss: 0.3153 - val_accuracy: 0.8860\n",
      "Epoch 8/100\n",
      "3750/3750 [==============================] - 20s 5ms/step - loss: 0.3116 - accuracy: 0.8878 - val_loss: 0.3169 - val_accuracy: 0.8870\n",
      "Epoch 9/100\n",
      "3750/3750 [==============================] - 17s 4ms/step - loss: 0.3102 - accuracy: 0.8881 - val_loss: 0.3142 - val_accuracy: 0.8856\n",
      "Epoch 10/100\n",
      "3750/3750 [==============================] - 15s 4ms/step - loss: 0.3089 - accuracy: 0.8884 - val_loss: 0.3133 - val_accuracy: 0.8860\n",
      "Epoch 11/100\n",
      "3750/3750 [==============================] - 16s 4ms/step - loss: 0.3083 - accuracy: 0.8885 - val_loss: 0.3130 - val_accuracy: 0.8853\n",
      "Epoch 12/100\n",
      "3750/3750 [==============================] - 17s 4ms/step - loss: 0.3076 - accuracy: 0.8887 - val_loss: 0.3089 - val_accuracy: 0.8875\n",
      "Epoch 13/100\n",
      "3750/3750 [==============================] - 20s 5ms/step - loss: 0.3069 - accuracy: 0.8889 - val_loss: 0.3095 - val_accuracy: 0.8872\n",
      "Epoch 14/100\n",
      "3750/3750 [==============================] - 16s 4ms/step - loss: 0.3065 - accuracy: 0.8887 - val_loss: 0.3099 - val_accuracy: 0.8880\n",
      "Epoch 15/100\n",
      "3750/3750 [==============================] - 17s 5ms/step - loss: 0.3060 - accuracy: 0.8888 - val_loss: 0.3114 - val_accuracy: 0.8861\n",
      "Epoch 16/100\n",
      "3750/3750 [==============================] - 21s 5ms/step - loss: 0.3059 - accuracy: 0.8891 - val_loss: 0.3094 - val_accuracy: 0.8869\n",
      "Epoch 17/100\n",
      "3750/3750 [==============================] - 16s 4ms/step - loss: 0.3054 - accuracy: 0.8892 - val_loss: 0.3110 - val_accuracy: 0.8865\n",
      "Epoch 18/100\n",
      "3750/3750 [==============================] - 14s 4ms/step - loss: 0.3052 - accuracy: 0.8891 - val_loss: 0.3098 - val_accuracy: 0.8864\n",
      "Epoch 19/100\n",
      "3750/3750 [==============================] - 15s 4ms/step - loss: 0.3046 - accuracy: 0.8893 - val_loss: 0.3075 - val_accuracy: 0.8881\n",
      "Epoch 20/100\n",
      "3750/3750 [==============================] - 15s 4ms/step - loss: 0.3046 - accuracy: 0.8892 - val_loss: 0.3077 - val_accuracy: 0.8877\n",
      "Epoch 21/100\n",
      "3750/3750 [==============================] - 19s 5ms/step - loss: 0.3043 - accuracy: 0.8895 - val_loss: 0.3090 - val_accuracy: 0.8875\n",
      "Epoch 22/100\n",
      "3750/3750 [==============================] - 15s 4ms/step - loss: 0.3037 - accuracy: 0.8895 - val_loss: 0.3099 - val_accuracy: 0.8871\n",
      "Epoch 23/100\n",
      "3750/3750 [==============================] - 15s 4ms/step - loss: 0.3036 - accuracy: 0.8897 - val_loss: 0.3077 - val_accuracy: 0.8881\n",
      "Epoch 24/100\n",
      "3750/3750 [==============================] - 16s 4ms/step - loss: 0.3033 - accuracy: 0.8895 - val_loss: 0.3065 - val_accuracy: 0.8879\n",
      "Epoch 25/100\n",
      "3750/3750 [==============================] - 18s 5ms/step - loss: 0.3032 - accuracy: 0.8896 - val_loss: 0.3086 - val_accuracy: 0.8874\n",
      "Epoch 26/100\n",
      "3750/3750 [==============================] - 17s 4ms/step - loss: 0.3029 - accuracy: 0.8895 - val_loss: 0.3092 - val_accuracy: 0.8878\n",
      "Epoch 27/100\n",
      "3750/3750 [==============================] - 17s 5ms/step - loss: 0.3025 - accuracy: 0.8897 - val_loss: 0.3069 - val_accuracy: 0.8881\n",
      "Epoch 28/100\n",
      "3750/3750 [==============================] - 17s 4ms/step - loss: 0.3024 - accuracy: 0.8897 - val_loss: 0.3057 - val_accuracy: 0.8874\n",
      "Epoch 29/100\n",
      "3750/3750 [==============================] - 14s 4ms/step - loss: 0.3023 - accuracy: 0.8896 - val_loss: 0.3061 - val_accuracy: 0.8882\n",
      "Epoch 30/100\n",
      "3750/3750 [==============================] - 13s 3ms/step - loss: 0.3018 - accuracy: 0.8898 - val_loss: 0.3061 - val_accuracy: 0.8882\n",
      "Epoch 31/100\n",
      "3750/3750 [==============================] - 14s 4ms/step - loss: 0.3016 - accuracy: 0.8896 - val_loss: 0.3061 - val_accuracy: 0.8884\n",
      "Epoch 32/100\n",
      "3750/3750 [==============================] - 13s 4ms/step - loss: 0.3014 - accuracy: 0.8898 - val_loss: 0.3088 - val_accuracy: 0.8867\n",
      "Epoch 33/100\n",
      "3750/3750 [==============================] - 16s 4ms/step - loss: 0.3014 - accuracy: 0.8898 - val_loss: 0.3080 - val_accuracy: 0.8875\n",
      "Epoch 34/100\n",
      "3750/3750 [==============================] - 13s 4ms/step - loss: 0.3010 - accuracy: 0.8899 - val_loss: 0.3058 - val_accuracy: 0.8886\n",
      "Epoch 35/100\n",
      "3750/3750 [==============================] - 14s 4ms/step - loss: 0.3009 - accuracy: 0.8899 - val_loss: 0.3060 - val_accuracy: 0.8881\n",
      "Epoch 36/100\n",
      "3750/3750 [==============================] - 14s 4ms/step - loss: 0.3005 - accuracy: 0.8898 - val_loss: 0.3058 - val_accuracy: 0.8884\n",
      "Epoch 37/100\n",
      "3750/3750 [==============================] - 13s 4ms/step - loss: 0.3003 - accuracy: 0.8900 - val_loss: 0.3047 - val_accuracy: 0.8881\n",
      "Epoch 38/100\n",
      "3750/3750 [==============================] - 13s 3ms/step - loss: 0.3006 - accuracy: 0.8898 - val_loss: 0.3052 - val_accuracy: 0.8878\n",
      "Epoch 39/100\n",
      "3750/3750 [==============================] - 13s 4ms/step - loss: 0.3001 - accuracy: 0.8898 - val_loss: 0.3046 - val_accuracy: 0.8884\n",
      "Epoch 40/100\n",
      "3750/3750 [==============================] - 15s 4ms/step - loss: 0.2998 - accuracy: 0.8901 - val_loss: 0.3054 - val_accuracy: 0.8891\n",
      "Epoch 41/100\n",
      "3750/3750 [==============================] - 15s 4ms/step - loss: 0.2997 - accuracy: 0.8901 - val_loss: 0.3034 - val_accuracy: 0.8889\n",
      "Epoch 42/100\n",
      "3750/3750 [==============================] - 15s 4ms/step - loss: 0.2994 - accuracy: 0.8901 - val_loss: 0.3040 - val_accuracy: 0.8883\n",
      "Epoch 43/100\n",
      "3750/3750 [==============================] - 16s 4ms/step - loss: 0.2991 - accuracy: 0.8902 - val_loss: 0.3066 - val_accuracy: 0.8874\n",
      "Epoch 44/100\n",
      "3750/3750 [==============================] - 13s 4ms/step - loss: 0.2991 - accuracy: 0.8903 - val_loss: 0.3041 - val_accuracy: 0.8881\n",
      "Epoch 45/100\n",
      "3750/3750 [==============================] - 18s 5ms/step - loss: 0.2988 - accuracy: 0.8904 - val_loss: 0.3043 - val_accuracy: 0.8885\n",
      "Epoch 46/100\n",
      "3750/3750 [==============================] - 16s 4ms/step - loss: 0.2989 - accuracy: 0.8901 - val_loss: 0.3053 - val_accuracy: 0.8881\n",
      "Epoch 47/100\n",
      "3750/3750 [==============================] - 13s 3ms/step - loss: 0.2985 - accuracy: 0.8904 - val_loss: 0.3049 - val_accuracy: 0.8875\n",
      "Epoch 48/100\n",
      "3750/3750 [==============================] - 13s 3ms/step - loss: 0.2985 - accuracy: 0.8902 - val_loss: 0.3066 - val_accuracy: 0.8877\n",
      "Epoch 49/100\n",
      "3750/3750 [==============================] - 13s 4ms/step - loss: 0.2983 - accuracy: 0.8902 - val_loss: 0.3037 - val_accuracy: 0.8880\n",
      "Epoch 50/100\n",
      "3750/3750 [==============================] - 14s 4ms/step - loss: 0.2982 - accuracy: 0.8904 - val_loss: 0.3054 - val_accuracy: 0.8871\n",
      "Epoch 51/100\n",
      "3750/3750 [==============================] - 14s 4ms/step - loss: 0.2981 - accuracy: 0.8904 - val_loss: 0.3076 - val_accuracy: 0.8874\n"
     ]
    }
   ],
   "source": [
    "from keras.callbacks import EarlyStopping\n",
    "\n",
    "# EarlyStopping 콜백 정의\n",
    "early_stopping = EarlyStopping(monitor='val_loss', patience=10, restore_best_weights=True)\n",
    "\n",
    "# 모델 컴파일\n",
    "model.compile(optimizer='adam', loss='binary_crossentropy', metrics=['accuracy'])\n",
    "\n",
    "# 모델 학습\n",
    "history = model.fit(X_train_scaled, y_train, validation_data=(X_test_scaled, y_test), epochs=100, batch_size=64, callbacks=[early_stopping])\n"
   ]
  },
  {
   "cell_type": "code",
   "execution_count": 8,
   "id": "f4e21659",
   "metadata": {
    "ExecuteTime": {
     "end_time": "2023-04-22T13:02:29.578715Z",
     "start_time": "2023-04-22T13:02:12.257586Z"
    }
   },
   "outputs": [
    {
     "name": "stdout",
     "output_type": "stream",
     "text": [
      "1875/1875 [==============================] - 6s 3ms/step - loss: 0.3034 - accuracy: 0.8889\n",
      "Test accuracy: 0.8888999819755554\n"
     ]
    }
   ],
   "source": [
    "loss, accuracy = model.evaluate(X_test_scaled, y_test)\n",
    "print('Test accuracy:', accuracy)"
   ]
  },
  {
   "cell_type": "code",
   "execution_count": 9,
   "id": "2d093359",
   "metadata": {
    "ExecuteTime": {
     "end_time": "2023-04-22T13:02:32.654530Z",
     "start_time": "2023-04-22T13:02:29.667592Z"
    }
   },
   "outputs": [
    {
     "data": {
      "image/png": "[encoded data removed]",
      "text/plain": [
       "<Figure size 432x288 with 1 Axes>"
      ]
     },
     "metadata": {
      "needs_background": "light"
     },
     "output_type": "display_data"
    },
    {
     "data": {
      "image/png": "[encoded data removed]",
      "text/plain": [
       "<Figure size 432x288 with 1 Axes>"
      ]
     },
     "metadata": {
      "needs_background": "light"
     },
     "output_type": "display_data"
    }
   ],
   "source": [
    "import matplotlib.pyplot as plt\n",
    "# history 객체에서 손실값과 정확도를 추출합니다.\n",
    "train_loss = history.history['loss']\n",
    "val_loss = history.history['val_loss']\n",
    "train_acc = history.history['accuracy']\n",
    "val_acc = history.history['val_accuracy']\n",
    "\n",
    "# 손실값 그래프\n",
    "plt.plot(train_loss, label='train_loss')\n",
    "plt.plot(val_loss, label='val_loss')\n",
    "plt.legend()\n",
    "plt.title('Loss')\n",
    "plt.show()\n",
    "\n",
    "# 정확도 그래프\n",
    "plt.plot(train_acc, label='train_acc')\n",
    "plt.plot(val_acc, label='val_acc')\n",
    "plt.legend()\n",
    "plt.title('Accuracy')\n",
    "plt.show()\n"
   ]
  },
  {
   "cell_type": "code",
   "execution_count": null,
   "id": "3e323dd5",
   "metadata": {},
   "outputs": [],
   "source": []
  }
 ],
 "metadata": {
  "kernelspec": {
   "display_name": "Python 3 (ipykernel)",
   "language": "python",
   "name": "python3"
  },
  "language_info": {
   "codemirror_mode": {
    "name": "ipython",
    "version": 3
   },
   "file_extension": ".py",
   "mimetype": "text/x-python",
   "name": "python",
   "nbconvert_exporter": "python",
   "pygments_lexer": "ipython3",
   "version": "3.9.12"
  },
  "toc": {
   "base_numbering": 1,
   "nav_menu": {},
   "number_sections": false,
   "sideBar": true,
   "skip_h1_title": false,
   "title_cell": "Table of Contents",
   "title_sidebar": "Contents",
   "toc_cell": false,
   "toc_position": {},
   "toc_section_display": true,
   "toc_window_display": false
  },
  "varInspector": {
   "cols": {
    "lenName": 16,
    "lenType": 16,
    "lenVar": 40
   },
   "kernels_config": {
    "python": {
     "delete_cmd_postfix": "",
     "delete_cmd_prefix": "del ",
     "library": "var_list.py",
     "varRefreshCmd": "print(var_dic_list())"
    },
    "r": {
     "delete_cmd_postfix": ") ",
     "delete_cmd_prefix": "rm(",
     "library": "var_list.r",
     "varRefreshCmd": "cat(var_dic_list()) "
    }
   },
   "types_to_exclude": [
    "module",
    "function",
    "builtin_function_or_method",
    "instance",
    "_Feature"
   ],
   "window_display": false
  }
 },
 "nbformat": 4,
 "nbformat_minor": 5
}
