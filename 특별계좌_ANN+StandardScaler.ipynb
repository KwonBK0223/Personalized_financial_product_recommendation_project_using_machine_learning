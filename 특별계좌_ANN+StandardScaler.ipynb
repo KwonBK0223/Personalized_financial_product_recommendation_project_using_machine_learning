{
 "cells": [
  {
   "cell_type": "markdown",
   "id": "37fdbf9c",
   "metadata": {},
   "source": [
    "# 특별계좌_ANN+StandardScaler"
   ]
  },
  {
   "cell_type": "code",
   "execution_count": 1,
   "id": "91bde4eb",
   "metadata": {
    "ExecuteTime": {
     "end_time": "2023-04-22T12:42:15.420464Z",
     "start_time": "2023-04-22T12:41:00.560357Z"
    }
   },
   "outputs": [],
   "source": [
    "import pandas as pd\n",
    "from sklearn.model_selection import train_test_split\n",
    "from tensorflow.keras.models import Sequential\n",
    "from tensorflow.keras.layers import Dense\n",
    "\n",
    "# 데이터 불러오기\n",
    "data = pd.read_excel('bank_pre.xlsx')"
   ]
  },
  {
   "cell_type": "code",
   "execution_count": 2,
   "id": "abc15c88",
   "metadata": {
    "ExecuteTime": {
     "end_time": "2023-04-22T12:42:15.510226Z",
     "start_time": "2023-04-22T12:42:15.482298Z"
    }
   },
   "outputs": [
    {
     "name": "stdout",
     "output_type": "stream",
     "text": [
      "<class 'pandas.core.frame.DataFrame'>\n",
      "RangeIndex: 300000 entries, 0 to 299999\n",
      "Data columns (total 12 columns):\n",
      " #   Column         Non-Null Count   Dtype  \n",
      "---  ------         --------------   -----  \n",
      " 0   해외 거주 여부       300000 non-null  int64  \n",
      " 1   성별             300000 non-null  int64  \n",
      " 2   나이             300000 non-null  int64  \n",
      " 3   신규 고객(6개월 이내)  300000 non-null  int64  \n",
      " 4   거래 누적 기간(월)    300000 non-null  int64  \n",
      " 5   지역 코드          300000 non-null  int64  \n",
      " 6   고객 활성화 상태      300000 non-null  int64  \n",
      " 7   가구 소득          300000 non-null  float64\n",
      " 8   고객 구분          300000 non-null  int64  \n",
      " 9   특별계좌           300000 non-null  int64  \n",
      " 10  온라인 계좌         300000 non-null  int64  \n",
      " 11  체크카드           300000 non-null  int64  \n",
      "dtypes: float64(1), int64(11)\n",
      "memory usage: 27.5 MB\n"
     ]
    }
   ],
   "source": [
    "# 데이터 형태와 결측치 확인\n",
    "data.info()"
   ]
  },
  {
   "cell_type": "code",
   "execution_count": 3,
   "id": "46b2ba22",
   "metadata": {
    "ExecuteTime": {
     "end_time": "2023-04-22T12:42:15.570065Z",
     "start_time": "2023-04-22T12:42:15.543137Z"
    }
   },
   "outputs": [],
   "source": [
    "# 입력 변수와 출력 변수 분리\n",
    "X = data.drop(columns=['특별계좌', '온라인 계좌', '체크카드'])\n",
    "y = data[['특별계좌']]"
   ]
  },
  {
   "cell_type": "code",
   "execution_count": 4,
   "id": "8f1a467c",
   "metadata": {
    "ExecuteTime": {
     "end_time": "2023-04-22T12:42:15.661040Z",
     "start_time": "2023-04-22T12:42:15.599496Z"
    }
   },
   "outputs": [],
   "source": [
    "# 데이터를 훈련용과 검증용으로 분리\n",
    "X_train, X_test, y_train, y_test = train_test_split(X, y, test_size=0.2, random_state=1)"
   ]
  },
  {
   "cell_type": "code",
   "execution_count": 5,
   "id": "565fa68e",
   "metadata": {
    "ExecuteTime": {
     "end_time": "2023-04-22T12:42:15.780776Z",
     "start_time": "2023-04-22T12:42:15.693011Z"
    }
   },
   "outputs": [],
   "source": [
    "from sklearn.preprocessing import StandardScaler\n",
    "\n",
    "# 스케일링\n",
    "scaler = StandardScaler()\n",
    "X_train_scaled = scaler.fit(X_train).transform(X_train)\n",
    "X_test_scaled = scaler.transform(X_test)\n"
   ]
  },
  {
   "cell_type": "code",
   "execution_count": 6,
   "id": "eeb4a64a",
   "metadata": {
    "ExecuteTime": {
     "end_time": "2023-04-22T12:42:26.340221Z",
     "start_time": "2023-04-22T12:42:26.232327Z"
    }
   },
   "outputs": [],
   "source": [
    "# 모델 설계\n",
    "from tensorflow.keras.models import Sequential\n",
    "model = Sequential()\n",
    "\n",
    "model.add(Dense(64, input_dim=X_train_scaled.shape[1], activation='relu'))\n",
    "model.add(Dense(32, activation='relu'))\n",
    "model.add(Dense(32, activation='relu'))\n",
    "model.add(Dense(1, activation='sigmoid'))"
   ]
  },
  {
   "cell_type": "code",
   "execution_count": 7,
   "id": "9c9e7906",
   "metadata": {
    "ExecuteTime": {
     "end_time": "2023-04-22T12:45:44.057354Z",
     "start_time": "2023-04-22T12:42:29.966070Z"
    }
   },
   "outputs": [
    {
     "name": "stdout",
     "output_type": "stream",
     "text": [
      "Epoch 1/100\n",
      "3750/3750 [==============================] - 11s 3ms/step - loss: 0.2617 - accuracy: 0.8880 - val_loss: 0.2548 - val_accuracy: 0.8902\n",
      "Epoch 2/100\n",
      "3750/3750 [==============================] - 11s 3ms/step - loss: 0.2523 - accuracy: 0.8920 - val_loss: 0.2555 - val_accuracy: 0.8904\n",
      "Epoch 3/100\n",
      "3750/3750 [==============================] - 9s 2ms/step - loss: 0.2502 - accuracy: 0.8931 - val_loss: 0.2513 - val_accuracy: 0.8920\n",
      "Epoch 4/100\n",
      "3750/3750 [==============================] - 10s 3ms/step - loss: 0.2486 - accuracy: 0.8942 - val_loss: 0.2498 - val_accuracy: 0.8942\n",
      "Epoch 5/100\n",
      "3750/3750 [==============================] - 9s 2ms/step - loss: 0.2473 - accuracy: 0.8948 - val_loss: 0.2489 - val_accuracy: 0.8942\n",
      "Epoch 6/100\n",
      "3750/3750 [==============================] - 10s 3ms/step - loss: 0.2463 - accuracy: 0.8954 - val_loss: 0.2487 - val_accuracy: 0.8945\n",
      "Epoch 7/100\n",
      "3750/3750 [==============================] - 9s 2ms/step - loss: 0.2458 - accuracy: 0.8956 - val_loss: 0.2484 - val_accuracy: 0.8946\n",
      "Epoch 8/100\n",
      "3750/3750 [==============================] - 9s 2ms/step - loss: 0.2452 - accuracy: 0.8959 - val_loss: 0.2474 - val_accuracy: 0.8954\n",
      "Epoch 9/100\n",
      "3750/3750 [==============================] - 11s 3ms/step - loss: 0.2449 - accuracy: 0.8959 - val_loss: 0.2480 - val_accuracy: 0.8949\n",
      "Epoch 10/100\n",
      "3750/3750 [==============================] - 12s 3ms/step - loss: 0.2447 - accuracy: 0.8960 - val_loss: 0.2497 - val_accuracy: 0.8945\n",
      "Epoch 11/100\n",
      "3750/3750 [==============================] - 12s 3ms/step - loss: 0.2443 - accuracy: 0.8961 - val_loss: 0.2496 - val_accuracy: 0.8945\n",
      "Epoch 12/100\n",
      "3750/3750 [==============================] - 11s 3ms/step - loss: 0.2441 - accuracy: 0.8960 - val_loss: 0.2480 - val_accuracy: 0.8951\n",
      "Epoch 13/100\n",
      "3750/3750 [==============================] - 10s 3ms/step - loss: 0.2438 - accuracy: 0.8962 - val_loss: 0.2486 - val_accuracy: 0.8949\n",
      "Epoch 14/100\n",
      "3750/3750 [==============================] - 12s 3ms/step - loss: 0.2435 - accuracy: 0.8960 - val_loss: 0.2478 - val_accuracy: 0.8954\n",
      "Epoch 15/100\n",
      "3750/3750 [==============================] - 13s 3ms/step - loss: 0.2433 - accuracy: 0.8964 - val_loss: 0.2489 - val_accuracy: 0.8950\n",
      "Epoch 16/100\n",
      "3750/3750 [==============================] - 11s 3ms/step - loss: 0.2431 - accuracy: 0.8963 - val_loss: 0.2478 - val_accuracy: 0.8953\n",
      "Epoch 17/100\n",
      "3750/3750 [==============================] - 11s 3ms/step - loss: 0.2429 - accuracy: 0.8964 - val_loss: 0.2479 - val_accuracy: 0.8950\n",
      "Epoch 18/100\n",
      "3750/3750 [==============================] - 14s 4ms/step - loss: 0.2427 - accuracy: 0.8964 - val_loss: 0.2493 - val_accuracy: 0.8946\n"
     ]
    }
   ],
   "source": [
    "from keras.callbacks import EarlyStopping\n",
    "\n",
    "# EarlyStopping 콜백 정의\n",
    "early_stopping = EarlyStopping(monitor='val_loss', patience=10, restore_best_weights=True)\n",
    "\n",
    "# 모델 컴파일\n",
    "model.compile(optimizer='adam', loss='binary_crossentropy', metrics=['accuracy'])\n",
    "\n",
    "# 모델 학습\n",
    "history = model.fit(X_train_scaled, y_train, validation_data=(X_test_scaled, y_test), epochs=100, batch_size=64, callbacks=[early_stopping])\n"
   ]
  },
  {
   "cell_type": "code",
   "execution_count": 8,
   "id": "6eab8e3b",
   "metadata": {
    "ExecuteTime": {
     "end_time": "2023-04-22T12:45:48.789704Z",
     "start_time": "2023-04-22T12:45:44.108218Z"
    },
    "scrolled": true
   },
   "outputs": [
    {
     "name": "stdout",
     "output_type": "stream",
     "text": [
      "1875/1875 [==============================] - 4s 2ms/step - loss: 0.2474 - accuracy: 0.8954\n",
      "Test accuracy: 0.8953999876976013\n"
     ]
    }
   ],
   "source": [
    "loss, accuracy = model.evaluate(X_test_scaled, y_test)\n",
    "print('Test accuracy:', accuracy)"
   ]
  },
  {
   "cell_type": "code",
   "execution_count": 10,
   "id": "d722e4fc",
   "metadata": {
    "ExecuteTime": {
     "end_time": "2023-04-22T13:47:40.962646Z",
     "start_time": "2023-04-22T13:47:40.873006Z"
    }
   },
   "outputs": [
    {
     "name": "stdout",
     "output_type": "stream",
     "text": [
      "Test loss:  0.2474210113286972\n"
     ]
    }
   ],
   "source": [
    "print('Test loss: ', loss)"
   ]
  },
  {
   "cell_type": "code",
   "execution_count": 9,
   "id": "bc9a050a",
   "metadata": {
    "ExecuteTime": {
     "end_time": "2023-04-22T12:45:52.032208Z",
     "start_time": "2023-04-22T12:45:48.838573Z"
    }
   },
   "outputs": [
    {
     "data": {
      "image/png": "[encoded data removed]",
      "text/plain": [
       "<Figure size 432x288 with 1 Axes>"
      ]
     },
     "metadata": {
      "needs_background": "light"
     },
     "output_type": "display_data"
    },
    {
     "data": {
      "image/png": "[encoded data removed]",
      "text/plain": [
       "<Figure size 432x288 with 1 Axes>"
      ]
     },
     "metadata": {
      "needs_background": "light"
     },
     "output_type": "display_data"
    }
   ],
   "source": [
    "import matplotlib.pyplot as plt\n",
    "# history 객체에서 손실값과 정확도를 추출합니다.\n",
    "train_loss = history.history['loss']\n",
    "val_loss = history.history['val_loss']\n",
    "train_acc = history.history['accuracy']\n",
    "val_acc = history.history['val_accuracy']\n",
    "\n",
    "# 손실값 그래프\n",
    "plt.plot(train_loss, label='train_loss')\n",
    "plt.plot(val_loss, label='val_loss')\n",
    "plt.legend()\n",
    "plt.title('Loss')\n",
    "plt.show()\n",
    "\n",
    "# 정확도 그래프\n",
    "plt.plot(train_acc, label='train_acc')\n",
    "plt.plot(val_acc, label='val_acc')\n",
    "plt.legend()\n",
    "plt.title('Accuracy')\n",
    "plt.show()\n"
   ]
  },
  {
   "cell_type": "code",
   "execution_count": null,
   "id": "6425360b",
   "metadata": {},
   "outputs": [],
   "source": []
  }
 ],
 "metadata": {
  "kernelspec": {
   "display_name": "Python 3 (ipykernel)",
   "language": "python",
   "name": "python3"
  },
  "language_info": {
   "codemirror_mode": {
    "name": "ipython",
    "version": 3
   },
   "file_extension": ".py",
   "mimetype": "text/x-python",
   "name": "python",
   "nbconvert_exporter": "python",
   "pygments_lexer": "ipython3",
   "version": "3.9.12"
  },
  "toc": {
   "base_numbering": 1,
   "nav_menu": {},
   "number_sections": false,
   "sideBar": true,
   "skip_h1_title": false,
   "title_cell": "Table of Contents",
   "title_sidebar": "Contents",
   "toc_cell": false,
   "toc_position": {},
   "toc_section_display": true,
   "toc_window_display": false
  },
  "varInspector": {
   "cols": {
    "lenName": 16,
    "lenType": 16,
    "lenVar": 40
   },
   "kernels_config": {
    "python": {
     "delete_cmd_postfix": "",
     "delete_cmd_prefix": "del ",
     "library": "var_list.py",
     "varRefreshCmd": "print(var_dic_list())"
    },
    "r": {
     "delete_cmd_postfix": ") ",
     "delete_cmd_prefix": "rm(",
     "library": "var_list.r",
     "varRefreshCmd": "cat(var_dic_list()) "
    }
   },
   "types_to_exclude": [
    "module",
    "function",
    "builtin_function_or_method",
    "instance",
    "_Feature"
   ],
   "window_display": false
  }
 },
 "nbformat": 4,
 "nbformat_minor": 5
}
