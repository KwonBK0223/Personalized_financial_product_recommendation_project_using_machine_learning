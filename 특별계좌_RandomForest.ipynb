{
 "cells": [
  {
   "cell_type": "markdown",
   "id": "84c862b7",
   "metadata": {},
   "source": [
    "# 특별계좌_RandomForest"
   ]
  },
  {
   "cell_type": "code",
   "execution_count": 1,
   "id": "8e5a0ee0",
   "metadata": {
    "ExecuteTime": {
     "end_time": "2023-04-22T15:30:19.863760Z",
     "start_time": "2023-04-22T15:29:07.991400Z"
    }
   },
   "outputs": [],
   "source": [
    "import pandas as pd\n",
    "from sklearn.ensemble import RandomForestClassifier\n",
    "\n",
    "# 데이터 불러오기\n",
    "data = pd.read_excel('bank_pre.xlsx')"
   ]
  },
  {
   "cell_type": "code",
   "execution_count": 2,
   "id": "14e89c69",
   "metadata": {
    "ExecuteTime": {
     "end_time": "2023-04-22T15:31:42.901989Z",
     "start_time": "2023-04-22T15:31:42.873044Z"
    }
   },
   "outputs": [
    {
     "name": "stdout",
     "output_type": "stream",
     "text": [
      "<class 'pandas.core.frame.DataFrame'>\n",
      "RangeIndex: 300000 entries, 0 to 299999\n",
      "Data columns (total 12 columns):\n",
      " #   Column         Non-Null Count   Dtype  \n",
      "---  ------         --------------   -----  \n",
      " 0   해외 거주 여부       300000 non-null  int64  \n",
      " 1   성별             300000 non-null  int64  \n",
      " 2   나이             300000 non-null  int64  \n",
      " 3   신규 고객(6개월 이내)  300000 non-null  int64  \n",
      " 4   거래 누적 기간(월)    300000 non-null  int64  \n",
      " 5   지역 코드          300000 non-null  int64  \n",
      " 6   고객 활성화 상태      300000 non-null  int64  \n",
      " 7   가구 소득          300000 non-null  float64\n",
      " 8   고객 구분          300000 non-null  int64  \n",
      " 9   특별계좌           300000 non-null  int64  \n",
      " 10  온라인 계좌         300000 non-null  int64  \n",
      " 11  체크카드           300000 non-null  int64  \n",
      "dtypes: float64(1), int64(11)\n",
      "memory usage: 27.5 MB\n"
     ]
    }
   ],
   "source": [
    "# 데이터 형태와 결측치 확인\n",
    "data.info()"
   ]
  },
  {
   "cell_type": "code",
   "execution_count": 3,
   "id": "b045965c",
   "metadata": {
    "ExecuteTime": {
     "end_time": "2023-04-22T15:31:43.920564Z",
     "start_time": "2023-04-22T15:31:43.890123Z"
    }
   },
   "outputs": [],
   "source": [
    "# 입력 변수와 출력 변수 분리\n",
    "X = data.drop(columns=['특별계좌', '온라인 계좌', '체크카드'])\n",
    "y = data[['특별계좌']]"
   ]
  },
  {
   "cell_type": "code",
   "execution_count": 4,
   "id": "bf0ecf45",
   "metadata": {
    "ExecuteTime": {
     "end_time": "2023-04-22T15:31:44.683552Z",
     "start_time": "2023-04-22T15:31:44.599765Z"
    }
   },
   "outputs": [],
   "source": [
    "# 데이터를 훈련용과 검증용으로 분리\n",
    "from sklearn.model_selection import train_test_split\n",
    "X_train, X_test, y_train, y_test = train_test_split(X, y, test_size=0.2, random_state=1)"
   ]
  },
  {
   "cell_type": "code",
   "execution_count": 5,
   "id": "f4f0149f",
   "metadata": {
    "ExecuteTime": {
     "end_time": "2023-04-22T15:31:45.431681Z",
     "start_time": "2023-04-22T15:31:45.365715Z"
    }
   },
   "outputs": [],
   "source": [
    "from sklearn.preprocessing import MinMaxScaler\n",
    "\n",
    "# 스케일링\n",
    "scaler = MinMaxScaler()\n",
    "X_train_scaled = scaler.fit_transform(X_train)\n",
    "X_test_scaled = scaler.transform(X_test)"
   ]
  },
  {
   "cell_type": "code",
   "execution_count": 6,
   "id": "b2f3c736",
   "metadata": {
    "ExecuteTime": {
     "end_time": "2023-04-22T15:32:34.393605Z",
     "start_time": "2023-04-22T15:31:46.278237Z"
    }
   },
   "outputs": [
    {
     "name": "stderr",
     "output_type": "stream",
     "text": [
      "C:\\Users\\kbk\\AppData\\Local\\Temp\\ipykernel_25416\\1311560817.py:5: DataConversionWarning: A column-vector y was passed when a 1d array was expected. Please change the shape of y to (n_samples,), for example using ravel().\n",
      "  model.fit(X_train_scaled, y_train)\n"
     ]
    },
    {
     "name": "stdout",
     "output_type": "stream",
     "text": [
      "Test accuracy: 0.9662166666666666\n"
     ]
    }
   ],
   "source": [
    "# 모델 생성\n",
    "model = RandomForestClassifier(n_estimators=100, random_state=42)\n",
    "\n",
    "# 모델 학습\n",
    "model.fit(X_train_scaled, y_train)\n",
    "\n",
    "# 모델 평가\n",
    "accuracy = model.score(X_test_scaled, y_test)\n",
    "print('Test accuracy:', accuracy)"
   ]
  },
  {
   "cell_type": "code",
   "execution_count": null,
   "id": "899b9853",
   "metadata": {},
   "outputs": [],
   "source": []
  }
 ],
 "metadata": {
  "kernelspec": {
   "display_name": "Python 3 (ipykernel)",
   "language": "python",
   "name": "python3"
  },
  "language_info": {
   "codemirror_mode": {
    "name": "ipython",
    "version": 3
   },
   "file_extension": ".py",
   "mimetype": "text/x-python",
   "name": "python",
   "nbconvert_exporter": "python",
   "pygments_lexer": "ipython3",
   "version": "3.9.12"
  },
  "toc": {
   "base_numbering": 1,
   "nav_menu": {},
   "number_sections": false,
   "sideBar": true,
   "skip_h1_title": false,
   "title_cell": "Table of Contents",
   "title_sidebar": "Contents",
   "toc_cell": false,
   "toc_position": {},
   "toc_section_display": true,
   "toc_window_display": false
  },
  "varInspector": {
   "cols": {
    "lenName": 16,
    "lenType": 16,
    "lenVar": 40
   },
   "kernels_config": {
    "python": {
     "delete_cmd_postfix": "",
     "delete_cmd_prefix": "del ",
     "library": "var_list.py",
     "varRefreshCmd": "print(var_dic_list())"
    },
    "r": {
     "delete_cmd_postfix": ") ",
     "delete_cmd_prefix": "rm(",
     "library": "var_list.r",
     "varRefreshCmd": "cat(var_dic_list()) "
    }
   },
   "types_to_exclude": [
    "module",
    "function",
    "builtin_function_or_method",
    "instance",
    "_Feature"
   ],
   "window_display": false
  }
 },
 "nbformat": 4,
 "nbformat_minor": 5
}
